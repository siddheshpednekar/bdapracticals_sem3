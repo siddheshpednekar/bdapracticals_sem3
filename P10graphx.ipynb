{
  "cells": [
    {
      "cell_type": "markdown",
      "metadata": {
        "id": "view-in-github",
        "colab_type": "text"
      },
      "source": [
        "<a href=\"https://colab.research.google.com/github/siddheshpednekar/bdapracticals_sem3/blob/main/P10graphx.ipynb\" target=\"_parent\"><img src=\"https://colab.research.google.com/assets/colab-badge.svg\" alt=\"Open In Colab\"/></a>"
      ]
    },
    {
      "cell_type": "code",
      "source": [
        "#Import GraphFrame Packages\n",
        "from functools import reduce\n",
        "from pyspark.sql.functions import col, lit, when\n",
        "from graphframes import *"
      ],
      "metadata": {
        "application/vnd.databricks.v1+cell": {
          "title": "",
          "showTitle": false,
          "inputWidgets": {},
          "nuid": "5401f9e7-d91a-45be-a17a-4f30bbb5fccd"
        },
        "id": "bBm5VSkPrwxa"
      },
      "outputs": [],
      "execution_count": null
    },
    {
      "cell_type": "code",
      "source": [
        "#Create Vertices\n",
        "vertices = sqlContext.createDataFrame([\n",
        " (\"a\", \"Alice\", 34),\n",
        " (\"b\", \"Bob\", 36),\n",
        " (\"c\", \"Charlie\", 30),\n",
        " (\"d\", \"David\", 29),\n",
        " (\"e\", \"Esther\", 32),\n",
        " (\"f\", \"Fanny\", 36),\n",
        " (\"g\", \"Gabby\", 60)], [\"id\", \"name\", \"age\"])\n"
      ],
      "metadata": {
        "application/vnd.databricks.v1+cell": {
          "title": "",
          "showTitle": false,
          "inputWidgets": {},
          "nuid": "33ee3cc9-a80b-45b9-9220-ff938400bf4e"
        },
        "id": "aJc7OVn0rwxd"
      },
      "outputs": [],
      "execution_count": null
    },
    {
      "cell_type": "code",
      "source": [
        "#Create Edges\n",
        "edges = sqlContext.createDataFrame([\n",
        " (\"a\", \"b\", \"friend\"),\n",
        " (\"b\", \"c\", \"follow\"),\n",
        " (\"c\", \"b\", \"follow\"),\n",
        " (\"f\", \"c\", \"follow\"),\n",
        " (\"e\", \"f\", \"follow\"),\n",
        " (\"e\", \"d\", \"friend\"),\n",
        " (\"d\", \"a\", \"friend\"),\n",
        " (\"a\", \"e\", \"friend\")\n",
        "], [\"src\", \"dst\", \"relationship\"])\n"
      ],
      "metadata": {
        "application/vnd.databricks.v1+cell": {
          "title": "",
          "showTitle": false,
          "inputWidgets": {},
          "nuid": "c9feee0c-90cc-4779-b392-a61d887fa1e1"
        },
        "id": "7t3SrRg_rwxd"
      },
      "outputs": [],
      "execution_count": null
    },
    {
      "cell_type": "code",
      "source": [
        "#Create Graph from above Vertices and Edges\n",
        "g = GraphFrame(vertices, edges)\n",
        "print(g)\n"
      ],
      "metadata": {
        "application/vnd.databricks.v1+cell": {
          "title": "",
          "showTitle": false,
          "inputWidgets": {},
          "nuid": "1168474d-4f1a-4e04-8c8a-c980741447c0"
        },
        "id": "_1TTQu70rwxe",
        "outputId": "32d0b462-f64c-4ae4-ab3b-a9739c2959d1"
      },
      "outputs": [
        {
          "output_type": "display_data",
          "metadata": {
            "application/vnd.databricks.v1+output": {
              "datasetInfos": [],
              "data": "/databricks/spark/python/pyspark/sql/dataframe.py:150: UserWarning: DataFrame.sql_ctx is an internal property, and will be removed in future releases. Use DataFrame.sparkSession instead.\n  warnings.warn(\nGraphFrame(v:[id: string, name: string ... 1 more field], e:[src: string, dst: string ... 1 more field])\n",
              "removedWidgets": [],
              "addedWidgets": {},
              "metadata": {},
              "type": "ansi",
              "arguments": {}
            }
          },
          "data": {
            "text/plain": [
              "/databricks/spark/python/pyspark/sql/dataframe.py:150: UserWarning: DataFrame.sql_ctx is an internal property, and will be removed in future releases. Use DataFrame.sparkSession instead.\n  warnings.warn(\nGraphFrame(v:[id: string, name: string ... 1 more field], e:[src: string, dst: string ... 1 more field])\n"
            ]
          }
        }
      ],
      "execution_count": null
    },
    {
      "cell_type": "code",
      "source": [
        "\n",
        "# This example graph also comes with the GraphFrames package.\n",
        "from graphframes.examples import Graphs\n",
        "same_g = Graphs(sqlContext).friends()\n",
        "print(same_g)\n"
      ],
      "metadata": {
        "application/vnd.databricks.v1+cell": {
          "title": "",
          "showTitle": false,
          "inputWidgets": {},
          "nuid": "781f3d5e-7969-4e97-9e9a-4826a2cda053"
        },
        "id": "ao7EVUDNrwxf",
        "outputId": "a1a7e3f9-7dad-42d3-d26d-6c1f466a3eab"
      },
      "outputs": [
        {
          "output_type": "display_data",
          "metadata": {
            "application/vnd.databricks.v1+output": {
              "datasetInfos": [],
              "data": "GraphFrame(v:[id: string, name: string ... 1 more field], e:[src: string, dst: string ... 1 more field])\n",
              "removedWidgets": [],
              "addedWidgets": {},
              "metadata": {},
              "type": "ansi",
              "arguments": {}
            }
          },
          "data": {
            "text/plain": [
              "GraphFrame(v:[id: string, name: string ... 1 more field], e:[src: string, dst: string ... 1 more field])\n"
            ]
          }
        }
      ],
      "execution_count": null
    },
    {
      "cell_type": "code",
      "source": [
        "#Display List of Vertices\n",
        "display(g.vertices)\n"
      ],
      "metadata": {
        "application/vnd.databricks.v1+cell": {
          "title": "",
          "showTitle": false,
          "inputWidgets": {},
          "nuid": "24b3398e-3717-42ee-9270-756899163fbe"
        },
        "id": "8p3HeHxmrwxf",
        "outputId": "e81f9a4a-8981-4d93-ec89-2ac861e9f9ad"
      },
      "outputs": [
        {
          "output_type": "display_data",
          "metadata": {
            "application/vnd.databricks.v1+output": {
              "overflow": false,
              "datasetInfos": [],
              "data": [
                [
                  "a",
                  "Alice",
                  34
                ],
                [
                  "b",
                  "Bob",
                  36
                ],
                [
                  "c",
                  "Charlie",
                  30
                ],
                [
                  "d",
                  "David",
                  29
                ],
                [
                  "e",
                  "Esther",
                  32
                ],
                [
                  "f",
                  "Fanny",
                  36
                ],
                [
                  "g",
                  "Gabby",
                  60
                ]
              ],
              "plotOptions": {
                "displayType": "table",
                "customPlotOptions": {},
                "pivotColumns": null,
                "pivotAggregation": null,
                "xColumns": null,
                "yColumns": null
              },
              "columnCustomDisplayInfos": {},
              "aggType": "",
              "isJsonSchema": true,
              "removedWidgets": [],
              "aggSchema": [],
              "schema": [
                {
                  "name": "id",
                  "type": "\"string\"",
                  "metadata": "{}"
                },
                {
                  "name": "name",
                  "type": "\"string\"",
                  "metadata": "{}"
                },
                {
                  "name": "age",
                  "type": "\"long\"",
                  "metadata": "{}"
                }
              ],
              "aggError": "",
              "aggData": [],
              "addedWidgets": {},
              "metadata": {},
              "dbfsResultPath": null,
              "type": "table",
              "aggOverflow": false,
              "aggSeriesLimitReached": false,
              "arguments": {}
            }
          },
          "data": {
            "text/html": [
              "<style scoped>\n  .table-result-container {\n    max-height: 300px;\n    overflow: auto;\n  }\n  table, th, td {\n    border: 1px solid black;\n    border-collapse: collapse;\n  }\n  th, td {\n    padding: 5px;\n  }\n  th {\n    text-align: left;\n  }\n</style><div class='table-result-container'><table class='table-result'><thead style='background-color: white'><tr><th>id</th><th>name</th><th>age</th></tr></thead><tbody><tr><td>a</td><td>Alice</td><td>34</td></tr><tr><td>b</td><td>Bob</td><td>36</td></tr><tr><td>c</td><td>Charlie</td><td>30</td></tr><tr><td>d</td><td>David</td><td>29</td></tr><tr><td>e</td><td>Esther</td><td>32</td></tr><tr><td>f</td><td>Fanny</td><td>36</td></tr><tr><td>g</td><td>Gabby</td><td>60</td></tr></tbody></table></div>"
            ]
          }
        }
      ],
      "execution_count": null
    },
    {
      "cell_type": "code",
      "source": [
        "#Display Edges\n",
        "display(g.edges)\n",
        "\n"
      ],
      "metadata": {
        "application/vnd.databricks.v1+cell": {
          "title": "",
          "showTitle": false,
          "inputWidgets": {},
          "nuid": "d1e62d69-e155-4cf6-8d71-143d6502a2f4"
        },
        "id": "2mRw4Drrrwxg",
        "outputId": "d492258e-8fc7-4c44-fe4d-3f951c62c47d"
      },
      "outputs": [
        {
          "output_type": "display_data",
          "metadata": {
            "application/vnd.databricks.v1+output": {
              "overflow": false,
              "datasetInfos": [],
              "data": [
                [
                  "a",
                  "b",
                  "friend"
                ],
                [
                  "b",
                  "c",
                  "follow"
                ],
                [
                  "c",
                  "b",
                  "follow"
                ],
                [
                  "f",
                  "c",
                  "follow"
                ],
                [
                  "e",
                  "f",
                  "follow"
                ],
                [
                  "e",
                  "d",
                  "friend"
                ],
                [
                  "d",
                  "a",
                  "friend"
                ],
                [
                  "a",
                  "e",
                  "friend"
                ]
              ],
              "plotOptions": {
                "displayType": "table",
                "customPlotOptions": {},
                "pivotColumns": null,
                "pivotAggregation": null,
                "xColumns": null,
                "yColumns": null
              },
              "columnCustomDisplayInfos": {},
              "aggType": "",
              "isJsonSchema": true,
              "removedWidgets": [],
              "aggSchema": [],
              "schema": [
                {
                  "name": "src",
                  "type": "\"string\"",
                  "metadata": "{}"
                },
                {
                  "name": "dst",
                  "type": "\"string\"",
                  "metadata": "{}"
                },
                {
                  "name": "relationship",
                  "type": "\"string\"",
                  "metadata": "{}"
                }
              ],
              "aggError": "",
              "aggData": [],
              "addedWidgets": {},
              "metadata": {},
              "dbfsResultPath": null,
              "type": "table",
              "aggOverflow": false,
              "aggSeriesLimitReached": false,
              "arguments": {}
            }
          },
          "data": {
            "text/html": [
              "<style scoped>\n  .table-result-container {\n    max-height: 300px;\n    overflow: auto;\n  }\n  table, th, td {\n    border: 1px solid black;\n    border-collapse: collapse;\n  }\n  th, td {\n    padding: 5px;\n  }\n  th {\n    text-align: left;\n  }\n</style><div class='table-result-container'><table class='table-result'><thead style='background-color: white'><tr><th>src</th><th>dst</th><th>relationship</th></tr></thead><tbody><tr><td>a</td><td>b</td><td>friend</td></tr><tr><td>b</td><td>c</td><td>follow</td></tr><tr><td>c</td><td>b</td><td>follow</td></tr><tr><td>f</td><td>c</td><td>follow</td></tr><tr><td>e</td><td>f</td><td>follow</td></tr><tr><td>e</td><td>d</td><td>friend</td></tr><tr><td>d</td><td>a</td><td>friend</td></tr><tr><td>a</td><td>e</td><td>friend</td></tr></tbody></table></div>"
            ]
          }
        }
      ],
      "execution_count": null
    },
    {
      "cell_type": "code",
      "source": [
        "g.edges.filter(\"relationship = 'follow'\").count()"
      ],
      "metadata": {
        "application/vnd.databricks.v1+cell": {
          "title": "",
          "showTitle": false,
          "inputWidgets": {},
          "nuid": "1ce4cb1e-bf91-4dda-89bd-cdb10b35f8ec"
        },
        "id": "trgMO1qxrwxg",
        "outputId": "aa6d017a-22d9-424d-a1b1-6c1b74a541d6"
      },
      "outputs": [
        {
          "output_type": "display_data",
          "metadata": {
            "application/vnd.databricks.v1+output": {
              "datasetInfos": [],
              "data": "Out[11]: 4",
              "removedWidgets": [],
              "addedWidgets": {},
              "metadata": {},
              "type": "ansi",
              "arguments": {}
            }
          },
          "data": {
            "text/plain": [
              "Out[11]: 4"
            ]
          }
        }
      ],
      "execution_count": null
    },
    {
      "cell_type": "code",
      "source": [
        "g.edges.filter(\"relationship = 'friend'\").count()"
      ],
      "metadata": {
        "application/vnd.databricks.v1+cell": {
          "title": "",
          "showTitle": false,
          "inputWidgets": {},
          "nuid": "990c1ceb-18b5-4677-8022-b0bd882e1078"
        },
        "id": "X8wCSFzYrwxh",
        "outputId": "5c2cc2c4-b2d6-4bd5-c749-e404b034552a"
      },
      "outputs": [
        {
          "output_type": "display_data",
          "metadata": {
            "application/vnd.databricks.v1+output": {
              "datasetInfos": [],
              "data": "Out[12]: 4",
              "removedWidgets": [],
              "addedWidgets": {},
              "metadata": {},
              "type": "ansi",
              "arguments": {}
            }
          },
          "data": {
            "text/plain": [
              "Out[12]: 4"
            ]
          }
        }
      ],
      "execution_count": null
    },
    {
      "cell_type": "code",
      "source": [],
      "metadata": {
        "application/vnd.databricks.v1+cell": {
          "title": "",
          "showTitle": false,
          "inputWidgets": {},
          "nuid": "0eb094ba-c551-4824-bff8-10f983908a13"
        },
        "id": "OfoJN2fIrwxi"
      },
      "outputs": [],
      "execution_count": null
    },
    {
      "cell_type": "code",
      "source": [
        "#Display the incoming degree of the vertices\n",
        "display(g.inDegrees)"
      ],
      "metadata": {
        "application/vnd.databricks.v1+cell": {
          "title": "",
          "showTitle": false,
          "inputWidgets": {},
          "nuid": "64ac2714-8dbd-4820-ae2f-8b906751e67a"
        },
        "id": "2oa7athTrwxi",
        "outputId": "fa0ada01-7b1e-4885-cc51-644e4fb68219"
      },
      "outputs": [
        {
          "output_type": "display_data",
          "metadata": {
            "application/vnd.databricks.v1+output": {
              "datasetInfos": [],
              "data": "/databricks/spark/python/pyspark/sql/dataframe.py:129: UserWarning: DataFrame constructor is internal. Do not directly use it.\n  warnings.warn(\"DataFrame constructor is internal. Do not directly use it.\")\n",
              "removedWidgets": [],
              "addedWidgets": {},
              "metadata": {},
              "type": "ansi",
              "arguments": {}
            }
          },
          "data": {
            "text/plain": [
              "/databricks/spark/python/pyspark/sql/dataframe.py:129: UserWarning: DataFrame constructor is internal. Do not directly use it.\n  warnings.warn(\"DataFrame constructor is internal. Do not directly use it.\")\n"
            ]
          }
        },
        {
          "output_type": "display_data",
          "metadata": {
            "application/vnd.databricks.v1+output": {
              "overflow": false,
              "datasetInfos": [],
              "data": [
                [
                  "b",
                  2
                ],
                [
                  "c",
                  2
                ],
                [
                  "f",
                  1
                ],
                [
                  "d",
                  1
                ],
                [
                  "a",
                  1
                ],
                [
                  "e",
                  1
                ]
              ],
              "plotOptions": {
                "displayType": "table",
                "customPlotOptions": {},
                "pivotColumns": null,
                "pivotAggregation": null,
                "xColumns": null,
                "yColumns": null
              },
              "columnCustomDisplayInfos": {},
              "aggType": "",
              "isJsonSchema": true,
              "removedWidgets": [],
              "aggSchema": [],
              "schema": [
                {
                  "name": "id",
                  "type": "\"string\"",
                  "metadata": "{}"
                },
                {
                  "name": "inDegree",
                  "type": "\"integer\"",
                  "metadata": "{}"
                }
              ],
              "aggError": "",
              "aggData": [],
              "addedWidgets": {},
              "metadata": {},
              "dbfsResultPath": null,
              "type": "table",
              "aggOverflow": false,
              "aggSeriesLimitReached": false,
              "arguments": {}
            }
          },
          "data": {
            "text/html": [
              "<style scoped>\n  .table-result-container {\n    max-height: 300px;\n    overflow: auto;\n  }\n  table, th, td {\n    border: 1px solid black;\n    border-collapse: collapse;\n  }\n  th, td {\n    padding: 5px;\n  }\n  th {\n    text-align: left;\n  }\n</style><div class='table-result-container'><table class='table-result'><thead style='background-color: white'><tr><th>id</th><th>inDegree</th></tr></thead><tbody><tr><td>b</td><td>2</td></tr><tr><td>c</td><td>2</td></tr><tr><td>f</td><td>1</td></tr><tr><td>d</td><td>1</td></tr><tr><td>a</td><td>1</td></tr><tr><td>e</td><td>1</td></tr></tbody></table></div>"
            ]
          }
        }
      ],
      "execution_count": null
    },
    {
      "cell_type": "code",
      "source": [
        "#Display the outgoing degree of the vertices:\n",
        "display(g.outDegrees)\n"
      ],
      "metadata": {
        "application/vnd.databricks.v1+cell": {
          "title": "",
          "showTitle": false,
          "inputWidgets": {},
          "nuid": "c1363f10-4d9b-4d2c-86de-ad2b2877a16f"
        },
        "id": "OOfSXF9xrwxj",
        "outputId": "a50a1014-b1db-4d98-bb17-93d495c1da7b"
      },
      "outputs": [
        {
          "output_type": "display_data",
          "metadata": {
            "application/vnd.databricks.v1+output": {
              "overflow": false,
              "datasetInfos": [],
              "data": [
                [
                  "a",
                  2
                ],
                [
                  "b",
                  1
                ],
                [
                  "c",
                  1
                ],
                [
                  "f",
                  1
                ],
                [
                  "e",
                  2
                ],
                [
                  "d",
                  1
                ]
              ],
              "plotOptions": {
                "displayType": "table",
                "customPlotOptions": {},
                "pivotColumns": null,
                "pivotAggregation": null,
                "xColumns": null,
                "yColumns": null
              },
              "columnCustomDisplayInfos": {},
              "aggType": "",
              "isJsonSchema": true,
              "removedWidgets": [],
              "aggSchema": [],
              "schema": [
                {
                  "name": "id",
                  "type": "\"string\"",
                  "metadata": "{}"
                },
                {
                  "name": "outDegree",
                  "type": "\"integer\"",
                  "metadata": "{}"
                }
              ],
              "aggError": "",
              "aggData": [],
              "addedWidgets": {},
              "metadata": {},
              "dbfsResultPath": null,
              "type": "table",
              "aggOverflow": false,
              "aggSeriesLimitReached": false,
              "arguments": {}
            }
          },
          "data": {
            "text/html": [
              "<style scoped>\n  .table-result-container {\n    max-height: 300px;\n    overflow: auto;\n  }\n  table, th, td {\n    border: 1px solid black;\n    border-collapse: collapse;\n  }\n  th, td {\n    padding: 5px;\n  }\n  th {\n    text-align: left;\n  }\n</style><div class='table-result-container'><table class='table-result'><thead style='background-color: white'><tr><th>id</th><th>outDegree</th></tr></thead><tbody><tr><td>a</td><td>2</td></tr><tr><td>b</td><td>1</td></tr><tr><td>c</td><td>1</td></tr><tr><td>f</td><td>1</td></tr><tr><td>e</td><td>2</td></tr><tr><td>d</td><td>1</td></tr></tbody></table></div>"
            ]
          }
        }
      ],
      "execution_count": null
    },
    {
      "cell_type": "code",
      "source": [
        "#Display the degree of vertices\n",
        "display(g.degrees)"
      ],
      "metadata": {
        "application/vnd.databricks.v1+cell": {
          "title": "",
          "showTitle": false,
          "inputWidgets": {},
          "nuid": "f818a088-e483-41f5-a1c4-ba8ea8c2826f"
        },
        "id": "LHr_qmEBrwxj",
        "outputId": "4e3d4998-401f-45d1-db64-2d24b6b064e0"
      },
      "outputs": [
        {
          "output_type": "display_data",
          "metadata": {
            "application/vnd.databricks.v1+output": {
              "overflow": false,
              "datasetInfos": [],
              "data": [
                [
                  "b",
                  3
                ],
                [
                  "a",
                  3
                ],
                [
                  "c",
                  3
                ],
                [
                  "f",
                  2
                ],
                [
                  "e",
                  3
                ],
                [
                  "d",
                  2
                ]
              ],
              "plotOptions": {
                "displayType": "table",
                "customPlotOptions": {},
                "pivotColumns": null,
                "pivotAggregation": null,
                "xColumns": null,
                "yColumns": null
              },
              "columnCustomDisplayInfos": {},
              "aggType": "",
              "isJsonSchema": true,
              "removedWidgets": [],
              "aggSchema": [],
              "schema": [
                {
                  "name": "id",
                  "type": "\"string\"",
                  "metadata": "{}"
                },
                {
                  "name": "degree",
                  "type": "\"integer\"",
                  "metadata": "{}"
                }
              ],
              "aggError": "",
              "aggData": [],
              "addedWidgets": {},
              "metadata": {},
              "dbfsResultPath": null,
              "type": "table",
              "aggOverflow": false,
              "aggSeriesLimitReached": false,
              "arguments": {}
            }
          },
          "data": {
            "text/html": [
              "<style scoped>\n  .table-result-container {\n    max-height: 300px;\n    overflow: auto;\n  }\n  table, th, td {\n    border: 1px solid black;\n    border-collapse: collapse;\n  }\n  th, td {\n    padding: 5px;\n  }\n  th {\n    text-align: left;\n  }\n</style><div class='table-result-container'><table class='table-result'><thead style='background-color: white'><tr><th>id</th><th>degree</th></tr></thead><tbody><tr><td>b</td><td>3</td></tr><tr><td>a</td><td>3</td></tr><tr><td>c</td><td>3</td></tr><tr><td>f</td><td>2</td></tr><tr><td>e</td><td>3</td></tr><tr><td>d</td><td>2</td></tr></tbody></table></div>"
            ]
          }
        }
      ],
      "execution_count": null
    },
    {
      "cell_type": "code",
      "source": [
        "#You can run queries directly on the vertices DataFrame. \n",
        "#For example, we can find the age of the youngest person in the graph:\n",
        "youngest = g.vertices.groupBy().min(\"age\")\n",
        "display(youngest)"
      ],
      "metadata": {
        "application/vnd.databricks.v1+cell": {
          "title": "",
          "showTitle": false,
          "inputWidgets": {},
          "nuid": "8be79d81-6e2a-41a0-8ae8-8a0ac694f023"
        },
        "id": "KFS56h1Arwxj",
        "outputId": "add9aca8-ed19-4b44-d1ce-c6fd2bde428f"
      },
      "outputs": [
        {
          "output_type": "display_data",
          "metadata": {
            "application/vnd.databricks.v1+output": {
              "overflow": false,
              "datasetInfos": [],
              "data": [
                [
                  29
                ]
              ],
              "plotOptions": {
                "displayType": "table",
                "customPlotOptions": {},
                "pivotColumns": null,
                "pivotAggregation": null,
                "xColumns": null,
                "yColumns": null
              },
              "columnCustomDisplayInfos": {},
              "aggType": "",
              "isJsonSchema": true,
              "removedWidgets": [],
              "aggSchema": [],
              "schema": [
                {
                  "name": "min(age)",
                  "type": "\"long\"",
                  "metadata": "{}"
                }
              ],
              "aggError": "",
              "aggData": [],
              "addedWidgets": {},
              "metadata": {},
              "dbfsResultPath": null,
              "type": "table",
              "aggOverflow": false,
              "aggSeriesLimitReached": false,
              "arguments": {}
            }
          },
          "data": {
            "text/html": [
              "<style scoped>\n  .table-result-container {\n    max-height: 300px;\n    overflow: auto;\n  }\n  table, th, td {\n    border: 1px solid black;\n    border-collapse: collapse;\n  }\n  th, td {\n    padding: 5px;\n  }\n  th {\n    text-align: left;\n  }\n</style><div class='table-result-container'><table class='table-result'><thead style='background-color: white'><tr><th>min(age)</th></tr></thead><tbody><tr><td>29</td></tr></tbody></table></div>"
            ]
          }
        }
      ],
      "execution_count": null
    },
    {
      "cell_type": "code",
      "source": [
        "\n",
        "#Likewise, you can run queries on the edges of DataFrame. \n",
        "#For example, let's count the number of 'follow' relationships in the graph:\n",
        "numFollows = g.edges.filter(\"relationship = 'follow'\").count()\n",
        "print(\"The number of follow edges is\", numFollows)"
      ],
      "metadata": {
        "application/vnd.databricks.v1+cell": {
          "title": "",
          "showTitle": false,
          "inputWidgets": {},
          "nuid": "f7874d3e-8584-416b-83eb-329e39a99e08"
        },
        "id": "1o3qI6Ygrwxk",
        "outputId": "4b342381-c000-416d-821f-627513a4471b"
      },
      "outputs": [
        {
          "output_type": "display_data",
          "metadata": {
            "application/vnd.databricks.v1+output": {
              "datasetInfos": [],
              "data": "The number of follow edges is 4\n",
              "removedWidgets": [],
              "addedWidgets": {},
              "metadata": {},
              "type": "ansi",
              "arguments": {}
            }
          },
          "data": {
            "text/plain": [
              "The number of follow edges is 4\n"
            ]
          }
        }
      ],
      "execution_count": null
    },
    {
      "cell_type": "code",
      "source": [
        "# Search for pairs of vertices with edges in both directions between them.\n",
        "motifs = g.find(\"(a)-[e]->(b); (b)-[e2]->(a)\")\n",
        "display(motifs)\n"
      ],
      "metadata": {
        "application/vnd.databricks.v1+cell": {
          "title": "Motif",
          "showTitle": true,
          "inputWidgets": {},
          "nuid": "c4f65112-a636-4334-9b81-d2737cd5e5bd"
        },
        "id": "h8jRLBfJrwxk",
        "outputId": "fe4db0ea-6b7d-4949-ac14-07738a33fcc7"
      },
      "outputs": [
        {
          "output_type": "display_data",
          "metadata": {
            "application/vnd.databricks.v1+output": {
              "overflow": false,
              "datasetInfos": [],
              "data": [
                [
                  [
                    "c",
                    "Charlie",
                    30
                  ],
                  [
                    "c",
                    "b",
                    "follow"
                  ],
                  [
                    "b",
                    "Bob",
                    36
                  ],
                  [
                    "b",
                    "c",
                    "follow"
                  ]
                ],
                [
                  [
                    "b",
                    "Bob",
                    36
                  ],
                  [
                    "b",
                    "c",
                    "follow"
                  ],
                  [
                    "c",
                    "Charlie",
                    30
                  ],
                  [
                    "c",
                    "b",
                    "follow"
                  ]
                ]
              ],
              "plotOptions": {
                "displayType": "table",
                "customPlotOptions": {},
                "pivotColumns": null,
                "pivotAggregation": null,
                "xColumns": null,
                "yColumns": null
              },
              "columnCustomDisplayInfos": {},
              "aggType": "",
              "isJsonSchema": true,
              "removedWidgets": [],
              "aggSchema": [],
              "schema": [
                {
                  "name": "a",
                  "type": "{\"type\":\"struct\",\"fields\":[{\"name\":\"id\",\"type\":\"string\",\"nullable\":true,\"metadata\":{}},{\"name\":\"name\",\"type\":\"string\",\"nullable\":true,\"metadata\":{}},{\"name\":\"age\",\"type\":\"long\",\"nullable\":true,\"metadata\":{}}]}",
                  "metadata": "{}"
                },
                {
                  "name": "e",
                  "type": "{\"type\":\"struct\",\"fields\":[{\"name\":\"src\",\"type\":\"string\",\"nullable\":true,\"metadata\":{}},{\"name\":\"dst\",\"type\":\"string\",\"nullable\":true,\"metadata\":{}},{\"name\":\"relationship\",\"type\":\"string\",\"nullable\":true,\"metadata\":{}}]}",
                  "metadata": "{}"
                },
                {
                  "name": "b",
                  "type": "{\"type\":\"struct\",\"fields\":[{\"name\":\"id\",\"type\":\"string\",\"nullable\":true,\"metadata\":{}},{\"name\":\"name\",\"type\":\"string\",\"nullable\":true,\"metadata\":{}},{\"name\":\"age\",\"type\":\"long\",\"nullable\":true,\"metadata\":{}}]}",
                  "metadata": "{}"
                },
                {
                  "name": "e2",
                  "type": "{\"type\":\"struct\",\"fields\":[{\"name\":\"src\",\"type\":\"string\",\"nullable\":true,\"metadata\":{}},{\"name\":\"dst\",\"type\":\"string\",\"nullable\":true,\"metadata\":{}},{\"name\":\"relationship\",\"type\":\"string\",\"nullable\":true,\"metadata\":{}}]}",
                  "metadata": "{}"
                }
              ],
              "aggError": "",
              "aggData": [],
              "addedWidgets": {},
              "metadata": {},
              "dbfsResultPath": null,
              "type": "table",
              "aggOverflow": false,
              "aggSeriesLimitReached": false,
              "arguments": {}
            }
          },
          "data": {
            "text/html": [
              "<style scoped>\n  .table-result-container {\n    max-height: 300px;\n    overflow: auto;\n  }\n  table, th, td {\n    border: 1px solid black;\n    border-collapse: collapse;\n  }\n  th, td {\n    padding: 5px;\n  }\n  th {\n    text-align: left;\n  }\n</style><div class='table-result-container'><table class='table-result'><thead style='background-color: white'><tr><th>a</th><th>e</th><th>b</th><th>e2</th></tr></thead><tbody><tr><td>List(c, Charlie, 30)</td><td>List(c, b, follow)</td><td>List(b, Bob, 36)</td><td>List(b, c, follow)</td></tr><tr><td>List(b, Bob, 36)</td><td>List(b, c, follow)</td><td>List(c, Charlie, 30)</td><td>List(c, b, follow)</td></tr></tbody></table></div>"
            ]
          }
        }
      ],
      "execution_count": null
    },
    {
      "cell_type": "code",
      "source": [
        "# Search for pairs of vertices with edges in both directions between them.\n",
        "\n",
        "filtered = motifs.filter(\"b.age > 30 or a.age > 30\")\n",
        "display(filtered)"
      ],
      "metadata": {
        "application/vnd.databricks.v1+cell": {
          "title": "",
          "showTitle": false,
          "inputWidgets": {},
          "nuid": "73933d1d-8cc1-400e-bc93-41dbb44095b5"
        },
        "id": "ZcmUmxJarwxk",
        "outputId": "b00515de-f235-4371-bd39-07bcff3922e8"
      },
      "outputs": [
        {
          "output_type": "display_data",
          "metadata": {
            "application/vnd.databricks.v1+output": {
              "overflow": false,
              "datasetInfos": [],
              "data": [
                [
                  [
                    "c",
                    "Charlie",
                    30
                  ],
                  [
                    "c",
                    "b",
                    "follow"
                  ],
                  [
                    "b",
                    "Bob",
                    36
                  ],
                  [
                    "b",
                    "c",
                    "follow"
                  ]
                ],
                [
                  [
                    "b",
                    "Bob",
                    36
                  ],
                  [
                    "b",
                    "c",
                    "follow"
                  ],
                  [
                    "c",
                    "Charlie",
                    30
                  ],
                  [
                    "c",
                    "b",
                    "follow"
                  ]
                ]
              ],
              "plotOptions": {
                "displayType": "table",
                "customPlotOptions": {},
                "pivotColumns": null,
                "pivotAggregation": null,
                "xColumns": null,
                "yColumns": null
              },
              "columnCustomDisplayInfos": {},
              "aggType": "",
              "isJsonSchema": true,
              "removedWidgets": [],
              "aggSchema": [],
              "schema": [
                {
                  "name": "a",
                  "type": "{\"type\":\"struct\",\"fields\":[{\"name\":\"id\",\"type\":\"string\",\"nullable\":true,\"metadata\":{}},{\"name\":\"name\",\"type\":\"string\",\"nullable\":true,\"metadata\":{}},{\"name\":\"age\",\"type\":\"long\",\"nullable\":true,\"metadata\":{}}]}",
                  "metadata": "{}"
                },
                {
                  "name": "e",
                  "type": "{\"type\":\"struct\",\"fields\":[{\"name\":\"src\",\"type\":\"string\",\"nullable\":true,\"metadata\":{}},{\"name\":\"dst\",\"type\":\"string\",\"nullable\":true,\"metadata\":{}},{\"name\":\"relationship\",\"type\":\"string\",\"nullable\":true,\"metadata\":{}}]}",
                  "metadata": "{}"
                },
                {
                  "name": "b",
                  "type": "{\"type\":\"struct\",\"fields\":[{\"name\":\"id\",\"type\":\"string\",\"nullable\":true,\"metadata\":{}},{\"name\":\"name\",\"type\":\"string\",\"nullable\":true,\"metadata\":{}},{\"name\":\"age\",\"type\":\"long\",\"nullable\":true,\"metadata\":{}}]}",
                  "metadata": "{}"
                },
                {
                  "name": "e2",
                  "type": "{\"type\":\"struct\",\"fields\":[{\"name\":\"src\",\"type\":\"string\",\"nullable\":true,\"metadata\":{}},{\"name\":\"dst\",\"type\":\"string\",\"nullable\":true,\"metadata\":{}},{\"name\":\"relationship\",\"type\":\"string\",\"nullable\":true,\"metadata\":{}}]}",
                  "metadata": "{}"
                }
              ],
              "aggError": "",
              "aggData": [],
              "addedWidgets": {},
              "metadata": {},
              "dbfsResultPath": null,
              "type": "table",
              "aggOverflow": false,
              "aggSeriesLimitReached": false,
              "arguments": {}
            }
          },
          "data": {
            "text/html": [
              "<style scoped>\n  .table-result-container {\n    max-height: 300px;\n    overflow: auto;\n  }\n  table, th, td {\n    border: 1px solid black;\n    border-collapse: collapse;\n  }\n  th, td {\n    padding: 5px;\n  }\n  th {\n    text-align: left;\n  }\n</style><div class='table-result-container'><table class='table-result'><thead style='background-color: white'><tr><th>a</th><th>e</th><th>b</th><th>e2</th></tr></thead><tbody><tr><td>List(c, Charlie, 30)</td><td>List(c, b, follow)</td><td>List(b, Bob, 36)</td><td>List(b, c, follow)</td></tr><tr><td>List(b, Bob, 36)</td><td>List(b, c, follow)</td><td>List(c, Charlie, 30)</td><td>List(c, b, follow)</td></tr></tbody></table></div>"
            ]
          }
        }
      ],
      "execution_count": null
    },
    {
      "cell_type": "code",
      "source": [
        "# Find chains of 4 vertices.\n",
        "chain4 = g.find(\"(a)-[ab]->(b); (b)-[bc]->(c); (c)-[cd]->(d)\")\n",
        "# Query on sequence, with state (cnt)\n",
        "#  (a) Define method for updating state given the next element of the motif.\n",
        "def cumFriends(cnt, edge):\n",
        " relationship = col(edge)[\"relationship\"]\n",
        " return when(relationship == \"friend\", cnt + 1).otherwise(cnt)\n",
        "#  (b) Use sequence operation to apply method to sequence of elements in motif.\n",
        "#   In this case, the elements are the 3 edges.\n",
        "edges = [\"ab\", \"bc\", \"cd\"]\n",
        "numFriends = reduce(cumFriends, edges, lit(0))\n",
        "  \n",
        "chainWith2Friends2 = chain4.withColumn(\"num_friends\", numFriends).where(numFriends >= 2)\n",
        "display(chainWith2Friends2)"
      ],
      "metadata": {
        "application/vnd.databricks.v1+cell": {
          "title": "",
          "showTitle": false,
          "inputWidgets": {},
          "nuid": "45535921-a88c-4b18-b48a-de6c1a35adfe"
        },
        "id": "MGOZ0LSxrwxl",
        "outputId": "53519f41-0601-46dd-b11d-503d0fe061d3"
      },
      "outputs": [
        {
          "output_type": "display_data",
          "metadata": {
            "application/vnd.databricks.v1+output": {
              "overflow": false,
              "datasetInfos": [],
              "data": [
                [
                  [
                    "a",
                    "Alice",
                    34
                  ],
                  [
                    "a",
                    "e",
                    "friend"
                  ],
                  [
                    "e",
                    "Esther",
                    32
                  ],
                  [
                    "e",
                    "d",
                    "friend"
                  ],
                  [
                    "d",
                    "David",
                    29
                  ],
                  [
                    "d",
                    "a",
                    "friend"
                  ],
                  [
                    "a",
                    "Alice",
                    34
                  ],
                  3
                ],
                [
                  [
                    "e",
                    "Esther",
                    32
                  ],
                  [
                    "e",
                    "d",
                    "friend"
                  ],
                  [
                    "d",
                    "David",
                    29
                  ],
                  [
                    "d",
                    "a",
                    "friend"
                  ],
                  [
                    "a",
                    "Alice",
                    34
                  ],
                  [
                    "a",
                    "b",
                    "friend"
                  ],
                  [
                    "b",
                    "Bob",
                    36
                  ],
                  3
                ],
                [
                  [
                    "d",
                    "David",
                    29
                  ],
                  [
                    "d",
                    "a",
                    "friend"
                  ],
                  [
                    "a",
                    "Alice",
                    34
                  ],
                  [
                    "a",
                    "b",
                    "friend"
                  ],
                  [
                    "b",
                    "Bob",
                    36
                  ],
                  [
                    "b",
                    "c",
                    "follow"
                  ],
                  [
                    "c",
                    "Charlie",
                    30
                  ],
                  2
                ],
                [
                  [
                    "d",
                    "David",
                    29
                  ],
                  [
                    "d",
                    "a",
                    "friend"
                  ],
                  [
                    "a",
                    "Alice",
                    34
                  ],
                  [
                    "a",
                    "e",
                    "friend"
                  ],
                  [
                    "e",
                    "Esther",
                    32
                  ],
                  [
                    "e",
                    "d",
                    "friend"
                  ],
                  [
                    "d",
                    "David",
                    29
                  ],
                  3
                ],
                [
                  [
                    "e",
                    "Esther",
                    32
                  ],
                  [
                    "e",
                    "d",
                    "friend"
                  ],
                  [
                    "d",
                    "David",
                    29
                  ],
                  [
                    "d",
                    "a",
                    "friend"
                  ],
                  [
                    "a",
                    "Alice",
                    34
                  ],
                  [
                    "a",
                    "e",
                    "friend"
                  ],
                  [
                    "e",
                    "Esther",
                    32
                  ],
                  3
                ],
                [
                  [
                    "d",
                    "David",
                    29
                  ],
                  [
                    "d",
                    "a",
                    "friend"
                  ],
                  [
                    "a",
                    "Alice",
                    34
                  ],
                  [
                    "a",
                    "e",
                    "friend"
                  ],
                  [
                    "e",
                    "Esther",
                    32
                  ],
                  [
                    "e",
                    "f",
                    "follow"
                  ],
                  [
                    "f",
                    "Fanny",
                    36
                  ],
                  2
                ]
              ],
              "plotOptions": {
                "displayType": "table",
                "customPlotOptions": {},
                "pivotColumns": null,
                "pivotAggregation": null,
                "xColumns": null,
                "yColumns": null
              },
              "columnCustomDisplayInfos": {},
              "aggType": "",
              "isJsonSchema": true,
              "removedWidgets": [],
              "aggSchema": [],
              "schema": [
                {
                  "name": "a",
                  "type": "{\"type\":\"struct\",\"fields\":[{\"name\":\"id\",\"type\":\"string\",\"nullable\":true,\"metadata\":{}},{\"name\":\"name\",\"type\":\"string\",\"nullable\":true,\"metadata\":{}},{\"name\":\"age\",\"type\":\"long\",\"nullable\":true,\"metadata\":{}}]}",
                  "metadata": "{}"
                },
                {
                  "name": "ab",
                  "type": "{\"type\":\"struct\",\"fields\":[{\"name\":\"src\",\"type\":\"string\",\"nullable\":true,\"metadata\":{}},{\"name\":\"dst\",\"type\":\"string\",\"nullable\":true,\"metadata\":{}},{\"name\":\"relationship\",\"type\":\"string\",\"nullable\":true,\"metadata\":{}}]}",
                  "metadata": "{}"
                },
                {
                  "name": "b",
                  "type": "{\"type\":\"struct\",\"fields\":[{\"name\":\"id\",\"type\":\"string\",\"nullable\":true,\"metadata\":{}},{\"name\":\"name\",\"type\":\"string\",\"nullable\":true,\"metadata\":{}},{\"name\":\"age\",\"type\":\"long\",\"nullable\":true,\"metadata\":{}}]}",
                  "metadata": "{}"
                },
                {
                  "name": "bc",
                  "type": "{\"type\":\"struct\",\"fields\":[{\"name\":\"src\",\"type\":\"string\",\"nullable\":true,\"metadata\":{}},{\"name\":\"dst\",\"type\":\"string\",\"nullable\":true,\"metadata\":{}},{\"name\":\"relationship\",\"type\":\"string\",\"nullable\":true,\"metadata\":{}}]}",
                  "metadata": "{}"
                },
                {
                  "name": "c",
                  "type": "{\"type\":\"struct\",\"fields\":[{\"name\":\"id\",\"type\":\"string\",\"nullable\":true,\"metadata\":{}},{\"name\":\"name\",\"type\":\"string\",\"nullable\":true,\"metadata\":{}},{\"name\":\"age\",\"type\":\"long\",\"nullable\":true,\"metadata\":{}}]}",
                  "metadata": "{}"
                },
                {
                  "name": "cd",
                  "type": "{\"type\":\"struct\",\"fields\":[{\"name\":\"src\",\"type\":\"string\",\"nullable\":true,\"metadata\":{}},{\"name\":\"dst\",\"type\":\"string\",\"nullable\":true,\"metadata\":{}},{\"name\":\"relationship\",\"type\":\"string\",\"nullable\":true,\"metadata\":{}}]}",
                  "metadata": "{}"
                },
                {
                  "name": "d",
                  "type": "{\"type\":\"struct\",\"fields\":[{\"name\":\"id\",\"type\":\"string\",\"nullable\":true,\"metadata\":{}},{\"name\":\"name\",\"type\":\"string\",\"nullable\":true,\"metadata\":{}},{\"name\":\"age\",\"type\":\"long\",\"nullable\":true,\"metadata\":{}}]}",
                  "metadata": "{}"
                },
                {
                  "name": "num_friends",
                  "type": "\"integer\"",
                  "metadata": "{}"
                }
              ],
              "aggError": "",
              "aggData": [],
              "addedWidgets": {},
              "metadata": {},
              "dbfsResultPath": null,
              "type": "table",
              "aggOverflow": false,
              "aggSeriesLimitReached": false,
              "arguments": {}
            }
          },
          "data": {
            "text/html": [
              "<style scoped>\n  .table-result-container {\n    max-height: 300px;\n    overflow: auto;\n  }\n  table, th, td {\n    border: 1px solid black;\n    border-collapse: collapse;\n  }\n  th, td {\n    padding: 5px;\n  }\n  th {\n    text-align: left;\n  }\n</style><div class='table-result-container'><table class='table-result'><thead style='background-color: white'><tr><th>a</th><th>ab</th><th>b</th><th>bc</th><th>c</th><th>cd</th><th>d</th><th>num_friends</th></tr></thead><tbody><tr><td>List(a, Alice, 34)</td><td>List(a, e, friend)</td><td>List(e, Esther, 32)</td><td>List(e, d, friend)</td><td>List(d, David, 29)</td><td>List(d, a, friend)</td><td>List(a, Alice, 34)</td><td>3</td></tr><tr><td>List(e, Esther, 32)</td><td>List(e, d, friend)</td><td>List(d, David, 29)</td><td>List(d, a, friend)</td><td>List(a, Alice, 34)</td><td>List(a, b, friend)</td><td>List(b, Bob, 36)</td><td>3</td></tr><tr><td>List(d, David, 29)</td><td>List(d, a, friend)</td><td>List(a, Alice, 34)</td><td>List(a, b, friend)</td><td>List(b, Bob, 36)</td><td>List(b, c, follow)</td><td>List(c, Charlie, 30)</td><td>2</td></tr><tr><td>List(d, David, 29)</td><td>List(d, a, friend)</td><td>List(a, Alice, 34)</td><td>List(a, e, friend)</td><td>List(e, Esther, 32)</td><td>List(e, d, friend)</td><td>List(d, David, 29)</td><td>3</td></tr><tr><td>List(e, Esther, 32)</td><td>List(e, d, friend)</td><td>List(d, David, 29)</td><td>List(d, a, friend)</td><td>List(a, Alice, 34)</td><td>List(a, e, friend)</td><td>List(e, Esther, 32)</td><td>3</td></tr><tr><td>List(d, David, 29)</td><td>List(d, a, friend)</td><td>List(a, Alice, 34)</td><td>List(a, e, friend)</td><td>List(e, Esther, 32)</td><td>List(e, f, follow)</td><td>List(f, Fanny, 36)</td><td>2</td></tr></tbody></table></div>"
            ]
          }
        }
      ],
      "execution_count": null
    },
    {
      "cell_type": "code",
      "source": [
        "g2 = g.filterEdges(\"relationship = 'friend'\").filterVertices(\"age > 30\").dropIsolatedVertices()\n",
        "\n",
        "display(g2.vertices)"
      ],
      "metadata": {
        "application/vnd.databricks.v1+cell": {
          "title": "Subgraph",
          "showTitle": true,
          "inputWidgets": {},
          "nuid": "ea7df9c8-423b-48fd-8550-c2c798bd86ad"
        },
        "id": "O4ydRlFtrwxl",
        "outputId": "af6ad8ba-0751-467c-976e-c677b1161bfb"
      },
      "outputs": [
        {
          "output_type": "display_data",
          "metadata": {
            "application/vnd.databricks.v1+output": {
              "overflow": false,
              "datasetInfos": [],
              "data": [
                [
                  "a",
                  "Alice",
                  34
                ],
                [
                  "b",
                  "Bob",
                  36
                ],
                [
                  "e",
                  "Esther",
                  32
                ]
              ],
              "plotOptions": {
                "displayType": "table",
                "customPlotOptions": {},
                "pivotColumns": null,
                "pivotAggregation": null,
                "xColumns": null,
                "yColumns": null
              },
              "columnCustomDisplayInfos": {},
              "aggType": "",
              "isJsonSchema": true,
              "removedWidgets": [],
              "aggSchema": [],
              "schema": [
                {
                  "name": "id",
                  "type": "\"string\"",
                  "metadata": "{}"
                },
                {
                  "name": "name",
                  "type": "\"string\"",
                  "metadata": "{}"
                },
                {
                  "name": "age",
                  "type": "\"long\"",
                  "metadata": "{}"
                }
              ],
              "aggError": "",
              "aggData": [],
              "addedWidgets": {},
              "metadata": {},
              "dbfsResultPath": null,
              "type": "table",
              "aggOverflow": false,
              "aggSeriesLimitReached": false,
              "arguments": {}
            }
          },
          "data": {
            "text/html": [
              "<style scoped>\n  .table-result-container {\n    max-height: 300px;\n    overflow: auto;\n  }\n  table, th, td {\n    border: 1px solid black;\n    border-collapse: collapse;\n  }\n  th, td {\n    padding: 5px;\n  }\n  th {\n    text-align: left;\n  }\n</style><div class='table-result-container'><table class='table-result'><thead style='background-color: white'><tr><th>id</th><th>name</th><th>age</th></tr></thead><tbody><tr><td>a</td><td>Alice</td><td>34</td></tr><tr><td>b</td><td>Bob</td><td>36</td></tr><tr><td>e</td><td>Esther</td><td>32</td></tr></tbody></table></div>"
            ]
          }
        }
      ],
      "execution_count": null
    },
    {
      "cell_type": "code",
      "source": [
        "#DAtaset 2"
      ],
      "metadata": {
        "application/vnd.databricks.v1+cell": {
          "title": "",
          "showTitle": false,
          "inputWidgets": {},
          "nuid": "5b997c66-02ab-4d05-a88a-5640725d1a38"
        },
        "id": "GAvw595hrwxl"
      },
      "outputs": [],
      "execution_count": null
    },
    {
      "cell_type": "code",
      "source": [
        "  vertices = sqlContext.createDataFrame([('1', 'Carter', 'Derrick', 50), \n",
        "                                  ('2', 'May', 'Derrick', 26),\n",
        "                                 ('3', 'Mills', 'Jeff', 80),\n",
        "                                  ('4', 'Hood', 'Robert', 65),\n",
        "                                  ('5', 'Banks', 'Mike', 93),\n",
        "                                 ('98', 'Berg', 'Tim', 28),\n",
        "                                 ('99', 'Page', 'Allan', 16)],\n",
        "                                 ['id', 'name', 'firstname', 'age'])"
      ],
      "metadata": {
        "application/vnd.databricks.v1+cell": {
          "title": "",
          "showTitle": false,
          "inputWidgets": {},
          "nuid": "34393450-d058-412d-a270-dd0a463ac9ec"
        },
        "id": "W2GcxiYurwxm"
      },
      "outputs": [],
      "execution_count": null
    },
    {
      "cell_type": "code",
      "source": [
        "edges = sqlContext.createDataFrame([('1', '2', 'friend'), \n",
        "                               ('2', '1', 'friend'),\n",
        "                              ('3', '1', 'friend'),\n",
        "                              ('1', '3', 'friend'),\n",
        "                               ('2', '3', 'follows'),\n",
        "                               ('3', '4', 'friend'),\n",
        "                               ('4', '3', 'friend'),\n",
        "                               ('5', '3', 'friend'),\n",
        "                               ('3', '5', 'friend'),\n",
        "                               ('4', '5', 'follows'),\n",
        "                              ('98', '99', 'friend'),\n",
        "                              ('99', '98', 'friend')],\n",
        "                              ['src', 'dst', 'type'])\n",
        "g = GraphFrame(vertices, edges)"
      ],
      "metadata": {
        "application/vnd.databricks.v1+cell": {
          "title": "",
          "showTitle": false,
          "inputWidgets": {},
          "nuid": "4c14ac3f-b870-41ff-9065-e4d843f5dc52"
        },
        "id": "iVckZU9yrwxm"
      },
      "outputs": [],
      "execution_count": null
    },
    {
      "cell_type": "code",
      "source": [
        "g.vertices.show()"
      ],
      "metadata": {
        "application/vnd.databricks.v1+cell": {
          "title": "",
          "showTitle": false,
          "inputWidgets": {},
          "nuid": "2a6866e1-0a49-4e1b-a1ef-a7a8c1480c8d"
        },
        "id": "OoaObsSGrwxm",
        "outputId": "d6b912a2-3300-47a1-f7f5-03b580661be4"
      },
      "outputs": [
        {
          "output_type": "display_data",
          "metadata": {
            "application/vnd.databricks.v1+output": {
              "datasetInfos": [],
              "data": "+---+------+---------+---+\n| id|  name|firstname|age|\n+---+------+---------+---+\n|  1|Carter|  Derrick| 50|\n|  2|   May|  Derrick| 26|\n|  3| Mills|     Jeff| 80|\n|  4|  Hood|   Robert| 65|\n|  5| Banks|     Mike| 93|\n| 98|  Berg|      Tim| 28|\n| 99|  Page|    Allan| 16|\n+---+------+---------+---+\n\n",
              "removedWidgets": [],
              "addedWidgets": {},
              "metadata": {},
              "type": "ansi",
              "arguments": {}
            }
          },
          "data": {
            "text/plain": [
              "+---+------+---------+---+\n| id|  name|firstname|age|\n+---+------+---------+---+\n|  1|Carter|  Derrick| 50|\n|  2|   May|  Derrick| 26|\n|  3| Mills|     Jeff| 80|\n|  4|  Hood|   Robert| 65|\n|  5| Banks|     Mike| 93|\n| 98|  Berg|      Tim| 28|\n| 99|  Page|    Allan| 16|\n+---+------+---------+---+\n\n"
            ]
          }
        }
      ],
      "execution_count": null
    },
    {
      "cell_type": "code",
      "source": [
        "g.edges.show()"
      ],
      "metadata": {
        "application/vnd.databricks.v1+cell": {
          "title": "",
          "showTitle": false,
          "inputWidgets": {},
          "nuid": "27ed04c0-f46b-4a3b-aac6-ebd230c311db"
        },
        "id": "xkuzjC5Brwxm",
        "outputId": "0ddb2303-4061-4461-e043-0ade307dbd39"
      },
      "outputs": [
        {
          "output_type": "display_data",
          "metadata": {
            "application/vnd.databricks.v1+output": {
              "datasetInfos": [],
              "data": "+---+---+-------+\n|src|dst|   type|\n+---+---+-------+\n|  1|  2| friend|\n|  2|  1| friend|\n|  3|  1| friend|\n|  1|  3| friend|\n|  2|  3|follows|\n|  3|  4| friend|\n|  4|  3| friend|\n|  5|  3| friend|\n|  3|  5| friend|\n|  4|  5|follows|\n| 98| 99| friend|\n| 99| 98| friend|\n+---+---+-------+\n\n",
              "removedWidgets": [],
              "addedWidgets": {},
              "metadata": {},
              "type": "ansi",
              "arguments": {}
            }
          },
          "data": {
            "text/plain": [
              "+---+---+-------+\n|src|dst|   type|\n+---+---+-------+\n|  1|  2| friend|\n|  2|  1| friend|\n|  3|  1| friend|\n|  1|  3| friend|\n|  2|  3|follows|\n|  3|  4| friend|\n|  4|  3| friend|\n|  5|  3| friend|\n|  3|  5| friend|\n|  4|  5|follows|\n| 98| 99| friend|\n| 99| 98| friend|\n+---+---+-------+\n\n"
            ]
          }
        }
      ],
      "execution_count": null
    },
    {
      "cell_type": "code",
      "source": [
        "g.degrees.show()"
      ],
      "metadata": {
        "application/vnd.databricks.v1+cell": {
          "title": "",
          "showTitle": false,
          "inputWidgets": {},
          "nuid": "e6454d50-4939-461c-9e0e-8bba7a5a008d"
        },
        "id": "f-RfL-OMrwxn",
        "outputId": "374ab41b-b287-4800-c001-eebda4070f52"
      },
      "outputs": [
        {
          "output_type": "display_data",
          "metadata": {
            "application/vnd.databricks.v1+output": {
              "datasetInfos": [],
              "data": "+---+------+\n| id|degree|\n+---+------+\n|  1|     4|\n|  2|     3|\n|  3|     7|\n|  4|     3|\n|  5|     3|\n| 98|     2|\n| 99|     2|\n+---+------+\n\n",
              "removedWidgets": [],
              "addedWidgets": {},
              "metadata": {},
              "type": "ansi",
              "arguments": {}
            }
          },
          "data": {
            "text/plain": [
              "+---+------+\n| id|degree|\n+---+------+\n|  1|     4|\n|  2|     3|\n|  3|     7|\n|  4|     3|\n|  5|     3|\n| 98|     2|\n| 99|     2|\n+---+------+\n\n"
            ]
          }
        }
      ],
      "execution_count": null
    },
    {
      "cell_type": "code",
      "source": [
        "youngest = g.vertices.groupBy().min(\"age\")\n",
        "display(youngest)"
      ],
      "metadata": {
        "application/vnd.databricks.v1+cell": {
          "title": "",
          "showTitle": false,
          "inputWidgets": {},
          "nuid": "218fb39a-3340-4eb3-bb62-fd751a34f060"
        },
        "id": "DbLBhB6wrwxn",
        "outputId": "8d5e6887-20bc-471c-a744-488dd0893155"
      },
      "outputs": [
        {
          "output_type": "display_data",
          "metadata": {
            "application/vnd.databricks.v1+output": {
              "overflow": false,
              "datasetInfos": [],
              "data": [
                [
                  16
                ]
              ],
              "plotOptions": {
                "displayType": "table",
                "customPlotOptions": {},
                "pivotColumns": null,
                "pivotAggregation": null,
                "xColumns": null,
                "yColumns": null
              },
              "columnCustomDisplayInfos": {},
              "aggType": "",
              "isJsonSchema": true,
              "removedWidgets": [],
              "aggSchema": [],
              "schema": [
                {
                  "name": "min(age)",
                  "type": "\"long\"",
                  "metadata": "{}"
                }
              ],
              "aggError": "",
              "aggData": [],
              "addedWidgets": {},
              "metadata": {},
              "dbfsResultPath": null,
              "type": "table",
              "aggOverflow": false,
              "aggSeriesLimitReached": false,
              "arguments": {}
            }
          },
          "data": {
            "text/html": [
              "<style scoped>\n  .table-result-container {\n    max-height: 300px;\n    overflow: auto;\n  }\n  table, th, td {\n    border: 1px solid black;\n    border-collapse: collapse;\n  }\n  th, td {\n    padding: 5px;\n  }\n  th {\n    text-align: left;\n  }\n</style><div class='table-result-container'><table class='table-result'><thead style='background-color: white'><tr><th>min(age)</th></tr></thead><tbody><tr><td>16</td></tr></tbody></table></div>"
            ]
          }
        }
      ],
      "execution_count": null
    },
    {
      "cell_type": "code",
      "source": [
        "eldest = g.vertices.groupBy().max(\"age\")\n",
        "display(eldest)"
      ],
      "metadata": {
        "application/vnd.databricks.v1+cell": {
          "title": "",
          "showTitle": false,
          "inputWidgets": {},
          "nuid": "75dfacf0-a192-43da-ae86-958ed06d5c68"
        },
        "id": "5d6wy1UYrwxn",
        "outputId": "a1a2f70b-d50c-404f-fd0e-b03f2513bc88"
      },
      "outputs": [
        {
          "output_type": "display_data",
          "metadata": {
            "application/vnd.databricks.v1+output": {
              "overflow": false,
              "datasetInfos": [],
              "data": [
                [
                  93
                ]
              ],
              "plotOptions": {
                "displayType": "table",
                "customPlotOptions": {},
                "pivotColumns": null,
                "pivotAggregation": null,
                "xColumns": null,
                "yColumns": null
              },
              "columnCustomDisplayInfos": {},
              "aggType": "",
              "isJsonSchema": true,
              "removedWidgets": [],
              "aggSchema": [],
              "schema": [
                {
                  "name": "max(age)",
                  "type": "\"long\"",
                  "metadata": "{}"
                }
              ],
              "aggError": "",
              "aggData": [],
              "addedWidgets": {},
              "metadata": {},
              "dbfsResultPath": null,
              "type": "table",
              "aggOverflow": false,
              "aggSeriesLimitReached": false,
              "arguments": {}
            }
          },
          "data": {
            "text/html": [
              "<style scoped>\n  .table-result-container {\n    max-height: 300px;\n    overflow: auto;\n  }\n  table, th, td {\n    border: 1px solid black;\n    border-collapse: collapse;\n  }\n  th, td {\n    padding: 5px;\n  }\n  th {\n    text-align: left;\n  }\n</style><div class='table-result-container'><table class='table-result'><thead style='background-color: white'><tr><th>max(age)</th></tr></thead><tbody><tr><td>93</td></tr></tbody></table></div>"
            ]
          }
        }
      ],
      "execution_count": null
    },
    {
      "cell_type": "code",
      "source": [
        "numfriend = g.edges.filter(\"type = 'friend'\").count()\n",
        "numfriend"
      ],
      "metadata": {
        "application/vnd.databricks.v1+cell": {
          "title": "",
          "showTitle": false,
          "inputWidgets": {},
          "nuid": "54822316-aa20-433a-843a-0864d1de72dc"
        },
        "id": "hagwcjB-rwxn",
        "outputId": "1778e6a0-0178-4382-ffb5-eabd3953fc47"
      },
      "outputs": [
        {
          "output_type": "display_data",
          "metadata": {
            "application/vnd.databricks.v1+output": {
              "datasetInfos": [],
              "data": "Out[33]: 10",
              "removedWidgets": [],
              "addedWidgets": {},
              "metadata": {},
              "type": "ansi",
              "arguments": {}
            }
          },
          "data": {
            "text/plain": [
              "Out[33]: 10"
            ]
          }
        }
      ],
      "execution_count": null
    },
    {
      "cell_type": "code",
      "source": [
        "#Dataset 3\n",
        "v = sqlContext.createDataFrame([('BBB','IT','Teacher')\n",
        "                                ,('Shivam','IT','Student')\n",
        "                                ,('Prachi','IT','Teacher')\n",
        "                                ,('Shivani','DSAI','Student'),\n",
        "                                ('Vishal','DSAI','Student'),\n",
        "                                 ('Saurabh','DSAI','Research Fellow'),\n",
        "                                 ('Amit','CS','Research Guide'),\n",
        "                                   ('Sunil','CS','Student')],\n",
        "                               ['id','dept','designation'])\n"
      ],
      "metadata": {
        "application/vnd.databricks.v1+cell": {
          "title": "",
          "showTitle": false,
          "inputWidgets": {},
          "nuid": "9bdb5693-cff7-414b-9c5d-4febecf740e2"
        },
        "id": "UpMV54-orwxn"
      },
      "outputs": [],
      "execution_count": null
    },
    {
      "cell_type": "code",
      "source": [
        "e = sqlContext.createDataFrame([('BBB', 'Shivani', 'TeacherStudent'),\n",
        "                               ('Shivam', 'Shivani', 'Classmate'),\n",
        "                              ('Prachi', 'Vishal', 'Classmate'),\n",
        "                              ('BBB', 'Saurabh', 'ResearchStud'),\n",
        "                               ('Prachi', 'Vishal', 'TeacherStudent'),\n",
        "                               ('Amit', 'Saurabh', 'ResearchMate'),\n",
        "                               ('Prachi', 'Amit', 'TeacherStudent'),\n",
        "                               ('Amit', 'Sunil', 'TeacherStudent')],\n",
        "                              ['src', 'dst', 'relationship'])"
      ],
      "metadata": {
        "application/vnd.databricks.v1+cell": {
          "title": "",
          "showTitle": false,
          "inputWidgets": {},
          "nuid": "c8be4b83-a2dc-4994-aff2-61c933d8fdb0"
        },
        "id": "C0Gad5nfrwxo"
      },
      "outputs": [],
      "execution_count": null
    },
    {
      "cell_type": "code",
      "source": [
        "g3 = GraphFrame(v, e)"
      ],
      "metadata": {
        "application/vnd.databricks.v1+cell": {
          "title": "",
          "showTitle": false,
          "inputWidgets": {},
          "nuid": "b865faa7-d758-49ba-b8e2-5f21fb147e3e"
        },
        "id": "Z15HSJnPrwxo"
      },
      "outputs": [],
      "execution_count": null
    },
    {
      "cell_type": "code",
      "source": [
        "g3.vertices.show()"
      ],
      "metadata": {
        "application/vnd.databricks.v1+cell": {
          "title": "",
          "showTitle": false,
          "inputWidgets": {},
          "nuid": "0c6e4d05-960a-4c55-8418-67a873bc66a1"
        },
        "id": "qJcZwP8Nrwxo",
        "outputId": "59c7325e-df75-4cff-e166-119885bc810f"
      },
      "outputs": [
        {
          "output_type": "display_data",
          "metadata": {
            "application/vnd.databricks.v1+output": {
              "datasetInfos": [],
              "data": "+-------+----+---------------+\n|     id|dept|    designation|\n+-------+----+---------------+\n|    BBB|  IT|        Teacher|\n| Shivam|  IT|        Student|\n| Prachi|  IT|        Teacher|\n|Shivani|DSAI|        Student|\n| Vishal|DSAI|        Student|\n|Saurabh|DSAI|Research Fellow|\n|   Amit|  CS| Research Guide|\n|  Sunil|  CS|        Student|\n+-------+----+---------------+\n\n",
              "removedWidgets": [],
              "addedWidgets": {},
              "metadata": {},
              "type": "ansi",
              "arguments": {}
            }
          },
          "data": {
            "text/plain": [
              "+-------+----+---------------+\n|     id|dept|    designation|\n+-------+----+---------------+\n|    BBB|  IT|        Teacher|\n| Shivam|  IT|        Student|\n| Prachi|  IT|        Teacher|\n|Shivani|DSAI|        Student|\n| Vishal|DSAI|        Student|\n|Saurabh|DSAI|Research Fellow|\n|   Amit|  CS| Research Guide|\n|  Sunil|  CS|        Student|\n+-------+----+---------------+\n\n"
            ]
          }
        }
      ],
      "execution_count": null
    },
    {
      "cell_type": "code",
      "source": [
        "g3.edges.show()"
      ],
      "metadata": {
        "application/vnd.databricks.v1+cell": {
          "title": "",
          "showTitle": false,
          "inputWidgets": {},
          "nuid": "ebe6f5a3-fb50-41f1-a5b3-e1b43a1be45c"
        },
        "id": "PEWq0HYHrwxo",
        "outputId": "e39b0570-21e9-4d12-968b-dd6bb30d6c5d"
      },
      "outputs": [
        {
          "output_type": "display_data",
          "metadata": {
            "application/vnd.databricks.v1+output": {
              "datasetInfos": [],
              "data": "+------+-------+--------------+\n|   src|    dst|  relationship|\n+------+-------+--------------+\n|   BBB|Shivani|TeacherStudent|\n|Shivam|Shivani|     Classmate|\n|Prachi| Vishal|     Classmate|\n|   BBB|Shivani|  ResearchStud|\n|Prachi| Vishal|TeacherStudent|\n|  Amit|Saurabh|  ResearchMate|\n|Prachi|   Amit|TeacherStudent|\n|  Amit|  Sunil|TeacherStudent|\n+------+-------+--------------+\n\n",
              "removedWidgets": [],
              "addedWidgets": {},
              "metadata": {},
              "type": "ansi",
              "arguments": {}
            }
          },
          "data": {
            "text/plain": [
              "+------+-------+--------------+\n|   src|    dst|  relationship|\n+------+-------+--------------+\n|   BBB|Shivani|TeacherStudent|\n|Shivam|Shivani|     Classmate|\n|Prachi| Vishal|     Classmate|\n|   BBB|Shivani|  ResearchStud|\n|Prachi| Vishal|TeacherStudent|\n|  Amit|Saurabh|  ResearchMate|\n|Prachi|   Amit|TeacherStudent|\n|  Amit|  Sunil|TeacherStudent|\n+------+-------+--------------+\n\n"
            ]
          }
        }
      ],
      "execution_count": null
    },
    {
      "cell_type": "code",
      "source": [
        "teachers  = g3.vertices.filter(\"designation == 'Teacher'\").count()\n",
        "teachers"
      ],
      "metadata": {
        "application/vnd.databricks.v1+cell": {
          "title": "",
          "showTitle": false,
          "inputWidgets": {},
          "nuid": "63b72ad4-3600-4614-9d44-085283a58a0d"
        },
        "id": "oNG_HTv4rwxo",
        "outputId": "5ed8d7f6-f2f8-43b8-d3f2-b224fe8e14d1"
      },
      "outputs": [
        {
          "output_type": "display_data",
          "metadata": {
            "application/vnd.databricks.v1+output": {
              "datasetInfos": [],
              "data": "Out[69]: 2",
              "removedWidgets": [],
              "addedWidgets": {},
              "metadata": {},
              "type": "ansi",
              "arguments": {}
            }
          },
          "data": {
            "text/plain": [
              "Out[69]: 2"
            ]
          }
        }
      ],
      "execution_count": null
    },
    {
      "cell_type": "code",
      "source": [
        "students  = g3.vertices.filter(\"designation == 'Student'\").count()\n",
        "students"
      ],
      "metadata": {
        "application/vnd.databricks.v1+cell": {
          "title": "",
          "showTitle": false,
          "inputWidgets": {},
          "nuid": "f7a51d59-51f9-4c40-a4a0-9a4b72a728fb"
        },
        "id": "BMY8wQv2rwxo",
        "outputId": "43671993-d8b4-4c82-a2c5-55fc887b413a"
      },
      "outputs": [
        {
          "output_type": "display_data",
          "metadata": {
            "application/vnd.databricks.v1+output": {
              "datasetInfos": [],
              "data": "Out[70]: 4",
              "removedWidgets": [],
              "addedWidgets": {},
              "metadata": {},
              "type": "ansi",
              "arguments": {}
            }
          },
          "data": {
            "text/plain": [
              "Out[70]: 4"
            ]
          }
        }
      ],
      "execution_count": null
    },
    {
      "cell_type": "code",
      "source": [
        "rfrg  = g3.vertices.filter(\"designation == 'Research Fellow' or designation =='Research Guide'\").show()\n",
        "rfrg"
      ],
      "metadata": {
        "application/vnd.databricks.v1+cell": {
          "title": "",
          "showTitle": false,
          "inputWidgets": {},
          "nuid": "8cae6796-22ad-44f6-add9-d8563c85cdc7"
        },
        "id": "bjxn8Clarwxp",
        "outputId": "cba09446-b80f-4d9c-bd86-dbd3b8e88d52"
      },
      "outputs": [
        {
          "output_type": "display_data",
          "metadata": {
            "application/vnd.databricks.v1+output": {
              "datasetInfos": [],
              "data": "+-------+----+---------------+\n|     id|dept|    designation|\n+-------+----+---------------+\n|Saurabh|DSAI|Research Fellow|\n|   Amit|  CS| Research Guide|\n+-------+----+---------------+\n\n",
              "removedWidgets": [],
              "addedWidgets": {},
              "metadata": {},
              "type": "ansi",
              "arguments": {}
            }
          },
          "data": {
            "text/plain": [
              "+-------+----+---------------+\n|     id|dept|    designation|\n+-------+----+---------------+\n|Saurabh|DSAI|Research Fellow|\n|   Amit|  CS| Research Guide|\n+-------+----+---------------+\n\n"
            ]
          }
        }
      ],
      "execution_count": null
    },
    {
      "cell_type": "code",
      "source": [
        "classmate = g3.edges.filter(\"relationship == 'Classmate'\").show()"
      ],
      "metadata": {
        "application/vnd.databricks.v1+cell": {
          "title": "",
          "showTitle": false,
          "inputWidgets": {},
          "nuid": "61a78fa8-e323-4da4-bcac-42aa4170f9db"
        },
        "id": "LsE_w-xjrwxp",
        "outputId": "ac53d570-30d2-4584-f34f-f6ac5c532890"
      },
      "outputs": [
        {
          "output_type": "display_data",
          "metadata": {
            "application/vnd.databricks.v1+output": {
              "datasetInfos": [],
              "data": "+------+-------+------------+\n|   src|    dst|relationship|\n+------+-------+------------+\n|Shivam|Shivani|   Classmate|\n|Prachi| Vishal|   Classmate|\n+------+-------+------------+\n\n",
              "removedWidgets": [],
              "addedWidgets": {},
              "metadata": {},
              "type": "ansi",
              "arguments": {}
            }
          },
          "data": {
            "text/plain": [
              "+------+-------+------------+\n|   src|    dst|relationship|\n+------+-------+------------+\n|Shivam|Shivani|   Classmate|\n|Prachi| Vishal|   Classmate|\n+------+-------+------------+\n\n"
            ]
          }
        }
      ],
      "execution_count": null
    },
    {
      "cell_type": "code",
      "source": [
        "teacherstudent = g3.edges.filter(\"relationship == 'TeacherStudent'\").show()"
      ],
      "metadata": {
        "application/vnd.databricks.v1+cell": {
          "title": "",
          "showTitle": false,
          "inputWidgets": {},
          "nuid": "27a2718a-3962-4a58-96cb-ac4f92512aa7"
        },
        "id": "_iJ9hLUJrwxp",
        "outputId": "371dbae5-f791-4e52-e0b8-932b97ea749a"
      },
      "outputs": [
        {
          "output_type": "display_data",
          "metadata": {
            "application/vnd.databricks.v1+output": {
              "datasetInfos": [],
              "data": "+------+-------+--------------+\n|   src|    dst|  relationship|\n+------+-------+--------------+\n|   BBB|Shivani|TeacherStudent|\n|Prachi| Vishal|TeacherStudent|\n|Prachi|   Amit|TeacherStudent|\n|  Amit|  Sunil|TeacherStudent|\n+------+-------+--------------+\n\n",
              "removedWidgets": [],
              "addedWidgets": {},
              "metadata": {},
              "type": "ansi",
              "arguments": {}
            }
          },
          "data": {
            "text/plain": [
              "+------+-------+--------------+\n|   src|    dst|  relationship|\n+------+-------+--------------+\n|   BBB|Shivani|TeacherStudent|\n|Prachi| Vishal|TeacherStudent|\n|Prachi|   Amit|TeacherStudent|\n|  Amit|  Sunil|TeacherStudent|\n+------+-------+--------------+\n\n"
            ]
          }
        }
      ],
      "execution_count": null
    },
    {
      "cell_type": "code",
      "source": [
        "teacherstudent = g3.edges.filter(\"relationship == 'ResearchMate'\").show()"
      ],
      "metadata": {
        "application/vnd.databricks.v1+cell": {
          "title": "",
          "showTitle": false,
          "inputWidgets": {},
          "nuid": "fb9611d3-395c-45d8-b23d-d2e97ac72aca"
        },
        "id": "yzhPQtP-rwxp",
        "outputId": "bec3fea6-211d-42d4-f660-ae9a72e1f337"
      },
      "outputs": [
        {
          "output_type": "display_data",
          "metadata": {
            "application/vnd.databricks.v1+output": {
              "datasetInfos": [],
              "data": "+----+-------+------------+\n| src|    dst|relationship|\n+----+-------+------------+\n|Amit|Saurabh|ResearchMate|\n+----+-------+------------+\n\n",
              "removedWidgets": [],
              "addedWidgets": {},
              "metadata": {},
              "type": "ansi",
              "arguments": {}
            }
          },
          "data": {
            "text/plain": [
              "+----+-------+------------+\n| src|    dst|relationship|\n+----+-------+------------+\n|Amit|Saurabh|ResearchMate|\n+----+-------+------------+\n\n"
            ]
          }
        }
      ],
      "execution_count": null
    },
    {
      "cell_type": "code",
      "source": [
        "it  = g3.vertices.filter(\"dept == 'IT'\").count()\n",
        "it"
      ],
      "metadata": {
        "application/vnd.databricks.v1+cell": {
          "title": "",
          "showTitle": false,
          "inputWidgets": {},
          "nuid": "1aba323f-dc33-47e6-936a-5f7e875a5cb4"
        },
        "id": "j8TpoCa6rwxp",
        "outputId": "c1a757f2-8f3e-4eb9-9b28-c68191029e59"
      },
      "outputs": [
        {
          "output_type": "display_data",
          "metadata": {
            "application/vnd.databricks.v1+output": {
              "datasetInfos": [],
              "data": "Out[88]: 3",
              "removedWidgets": [],
              "addedWidgets": {},
              "metadata": {},
              "type": "ansi",
              "arguments": {}
            }
          },
          "data": {
            "text/plain": [
              "Out[88]: 3"
            ]
          }
        }
      ],
      "execution_count": null
    },
    {
      "cell_type": "code",
      "source": [
        "j1=g3.edges.filter(\"relationship = 'TeacherStudent'\")\n",
        "j2 = g3.vertices.filter(\"designation = 'Research Guide'\")"
      ],
      "metadata": {
        "application/vnd.databricks.v1+cell": {
          "title": "",
          "showTitle": false,
          "inputWidgets": {},
          "nuid": "fe735b77-2dcb-424d-8df7-37f195e075a4"
        },
        "id": "0R__2S4rrwxp"
      },
      "outputs": [],
      "execution_count": null
    },
    {
      "cell_type": "code",
      "source": [
        "j2.join(j1,j1.src == j2.id).show()"
      ],
      "metadata": {
        "application/vnd.databricks.v1+cell": {
          "title": "",
          "showTitle": false,
          "inputWidgets": {},
          "nuid": "15ca9542-356b-40e3-bbfb-39eaab721fb2"
        },
        "id": "_MHP1dQKrwxq",
        "outputId": "edda0e54-155f-4ec4-8622-6934ed4774f2"
      },
      "outputs": [
        {
          "output_type": "display_data",
          "metadata": {
            "application/vnd.databricks.v1+output": {
              "datasetInfos": [],
              "data": "+----+----+--------------+----+-----+--------------+\n|  id|dept|   designation| src|  dst|  relationship|\n+----+----+--------------+----+-----+--------------+\n|Amit|  CS|Research Guide|Amit|Sunil|TeacherStudent|\n+----+----+--------------+----+-----+--------------+\n\n",
              "removedWidgets": [],
              "addedWidgets": {},
              "metadata": {},
              "type": "ansi",
              "arguments": {}
            }
          },
          "data": {
            "text/plain": [
              "+----+----+--------------+----+-----+--------------+\n|  id|dept|   designation| src|  dst|  relationship|\n+----+----+--------------+----+-----+--------------+\n|Amit|  CS|Research Guide|Amit|Sunil|TeacherStudent|\n+----+----+--------------+----+-----+--------------+\n\n"
            ]
          }
        }
      ],
      "execution_count": null
    },
    {
      "cell_type": "code",
      "source": [],
      "metadata": {
        "application/vnd.databricks.v1+cell": {
          "title": "",
          "showTitle": false,
          "inputWidgets": {},
          "nuid": "059ae1ca-aeb7-4cba-9089-9f09e88ade8f"
        },
        "id": "gF4svfS9rwxq"
      },
      "outputs": [],
      "execution_count": null
    }
  ],
  "metadata": {
    "application/vnd.databricks.v1+notebook": {
      "notebookName": "graph_py",
      "dashboards": [],
      "notebookMetadata": {
        "pythonIndentUnit": 4
      },
      "language": "python",
      "widgets": {},
      "notebookOrigID": 2439401964012257
    },
    "colab": {
      "provenance": [],
      "include_colab_link": true
    }
  },
  "nbformat": 4,
  "nbformat_minor": 0
}