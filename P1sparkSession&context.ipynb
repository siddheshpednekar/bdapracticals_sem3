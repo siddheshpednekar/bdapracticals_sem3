{
  "nbformat": 4,
  "nbformat_minor": 0,
  "metadata": {
    "colab": {
      "provenance": [],
      "include_colab_link": true
    },
    "kernelspec": {
      "name": "python3",
      "display_name": "Python 3"
    },
    "language_info": {
      "name": "python"
    }
  },
  "cells": [
    {
      "cell_type": "markdown",
      "metadata": {
        "id": "view-in-github",
        "colab_type": "text"
      },
      "source": [
        "<a href=\"https://colab.research.google.com/github/siddheshpednekar/bdapracticals_sem3/blob/main/P1sparkSession%26context.ipynb\" target=\"_parent\"><img src=\"https://colab.research.google.com/assets/colab-badge.svg\" alt=\"Open In Colab\"/></a>"
      ]
    },
    {
      "cell_type": "code",
      "execution_count": 1,
      "metadata": {
        "id": "2C8KI7m-1Uiz"
      },
      "outputs": [],
      "source": [
        "!apt-get install openjdk-8-jdk-headless -qq > /dev/null\n",
        "!wget -q http://archive.apache.org/dist/spark/spark-3.1.1/spark-3.1.1-bin-hadoop3.2.tgz\n",
        "!tar xf spark-3.1.1-bin-hadoop3.2.tgz\n",
        "!pip install -q findspark"
      ]
    },
    {
      "cell_type": "code",
      "source": [
        "import os\n",
        "os.environ[\"JAVA_HOME\"] = \"/usr/lib/jvm/java-8-openjdk-amd64\"\n",
        "os.environ[\"SPARK_HOME\"] = \"/content/spark-3.1.1-bin-hadoop3.2\"\n"
      ],
      "metadata": {
        "id": "dAXXj1504Utg"
      },
      "execution_count": 2,
      "outputs": []
    },
    {
      "cell_type": "code",
      "source": [
        "!ls"
      ],
      "metadata": {
        "colab": {
          "base_uri": "https://localhost:8080/"
        },
        "id": "UPpMqfAm5Ajp",
        "outputId": "9f4f4bea-a1a1-4567-f686-0edb0155f9dc"
      },
      "execution_count": 3,
      "outputs": [
        {
          "output_type": "stream",
          "name": "stdout",
          "text": [
            "sample_data  spark-3.1.1-bin-hadoop3.2\tspark-3.1.1-bin-hadoop3.2.tgz\n"
          ]
        }
      ]
    },
    {
      "cell_type": "code",
      "source": [
        "import findspark\n",
        "findspark.init()\n",
        "from pyspark.sql import SparkSession"
      ],
      "metadata": {
        "id": "KtwESa595Jdu"
      },
      "execution_count": 4,
      "outputs": []
    },
    {
      "cell_type": "code",
      "source": [
        "spark = SparkSession.builder.master(\"local[*]\").getOrCreate()\n",
        "spark.conf.set(\"spark.sql.repl.eagerEval.enabled\", True) # Property used to format output tables better\n",
        "spark\n"
      ],
      "metadata": {
        "colab": {
          "base_uri": "https://localhost:8080/",
          "height": 222
        },
        "id": "3kJjtw0u5RbW",
        "outputId": "7deb0b5f-a797-421b-f8f6-c41d047373e8"
      },
      "execution_count": 5,
      "outputs": [
        {
          "output_type": "execute_result",
          "data": {
            "text/plain": [
              "<pyspark.sql.session.SparkSession at 0x7f9ccb581410>"
            ],
            "text/html": [
              "\n",
              "            <div>\n",
              "                <p><b>SparkSession - in-memory</b></p>\n",
              "                \n",
              "        <div>\n",
              "            <p><b>SparkContext</b></p>\n",
              "\n",
              "            <p><a href=\"http://be18b737e05e:4040\">Spark UI</a></p>\n",
              "\n",
              "            <dl>\n",
              "              <dt>Version</dt>\n",
              "                <dd><code>v3.1.1</code></dd>\n",
              "              <dt>Master</dt>\n",
              "                <dd><code>local[*]</code></dd>\n",
              "              <dt>AppName</dt>\n",
              "                <dd><code>pyspark-shell</code></dd>\n",
              "            </dl>\n",
              "        </div>\n",
              "        \n",
              "            </div>\n",
              "        "
            ]
          },
          "metadata": {},
          "execution_count": 5
        }
      ]
    },
    {
      "cell_type": "code",
      "source": [
        "!ls"
      ],
      "metadata": {
        "colab": {
          "base_uri": "https://localhost:8080/"
        },
        "id": "YWEALhjV5-DG",
        "outputId": "431176a5-9c17-45b8-f1f8-49caf4e41043"
      },
      "execution_count": 6,
      "outputs": [
        {
          "output_type": "stream",
          "name": "stdout",
          "text": [
            "sample_data  spark-3.1.1-bin-hadoop3.2\tspark-3.1.1-bin-hadoop3.2.tgz\n"
          ]
        }
      ]
    },
    {
      "cell_type": "code",
      "source": [
        "#Creating spark context-Its like connecting to spark cluster\n",
        "from pyspark import SparkConf \n",
        "from pyspark.context import SparkContext \n",
        "\n",
        "sc = SparkContext.getOrCreate(SparkConf().setMaster(\"local[*]\"))"
      ],
      "metadata": {
        "id": "Lr0AQe3z6PT1"
      },
      "execution_count": 7,
      "outputs": []
    },
    {
      "cell_type": "code",
      "source": [
        "#Display details of sc\n",
        "sc\n"
      ],
      "metadata": {
        "colab": {
          "base_uri": "https://localhost:8080/",
          "height": 198
        },
        "id": "c9eZsXPk7DPV",
        "outputId": "0c6b7e72-a5b0-491f-f517-256ca683e41e"
      },
      "execution_count": 8,
      "outputs": [
        {
          "output_type": "execute_result",
          "data": {
            "text/plain": [
              "<SparkContext master=local[*] appName=pyspark-shell>"
            ],
            "text/html": [
              "\n",
              "        <div>\n",
              "            <p><b>SparkContext</b></p>\n",
              "\n",
              "            <p><a href=\"http://be18b737e05e:4040\">Spark UI</a></p>\n",
              "\n",
              "            <dl>\n",
              "              <dt>Version</dt>\n",
              "                <dd><code>v3.1.1</code></dd>\n",
              "              <dt>Master</dt>\n",
              "                <dd><code>local[*]</code></dd>\n",
              "              <dt>AppName</dt>\n",
              "                <dd><code>pyspark-shell</code></dd>\n",
              "            </dl>\n",
              "        </div>\n",
              "        "
            ]
          },
          "metadata": {},
          "execution_count": 8
        }
      ]
    },
    {
      "cell_type": "code",
      "source": [
        "#Check for prime numbers\n",
        "\n",
        "def isprime(n):\n",
        "    \"\"\"\n",
        "    check if integer n is a prime\n",
        "    \"\"\"\n",
        "    # make sure n is a positive integer\n",
        "    n = abs(int(n))\n",
        "    # 0 and 1 are not primes\n",
        "    if n < 2:\n",
        "        return False\n",
        "    # 2 is the only even prime number\n",
        "    if n == 2:\n",
        "        return True\n",
        "    # all other even numbers are not primes\n",
        "    if not n & 1:\n",
        "        return False\n",
        "    # range starts with 3 and only needs to go up the square root of n\n",
        "    # for all odd numbers\n",
        "    for x in range(3, int(n**0.5)+1, 2):\n",
        "        if n % x == 0:\n",
        "            return False\n",
        "    return True\n"
      ],
      "metadata": {
        "id": "sPu1vQ8c7nF1"
      },
      "execution_count": 9,
      "outputs": []
    },
    {
      "cell_type": "code",
      "source": [
        "# Create an RDD of numbers from 0 to 1,000,000\n",
        "nums = sc.parallelize(range(1000000))\n",
        " \n",
        "# Compute the number of primes in the RDD\n",
        "print(nums.filter(isprime).count())\n"
      ],
      "metadata": {
        "colab": {
          "base_uri": "https://localhost:8080/"
        },
        "id": "ZwIFgOzU9JD7",
        "outputId": "f3218b87-2331-43a3-82e4-a20e8da09dd9"
      },
      "execution_count": 10,
      "outputs": [
        {
          "output_type": "stream",
          "name": "stdout",
          "text": [
            "78498\n"
          ]
        }
      ]
    },
    {
      "cell_type": "code",
      "source": [
        "#create Sparksession\n",
        "import pyspark\n",
        "from pyspark.sql import SparkSession\n",
        "spark = SparkSession.builder.master(\"local[1]\").appName(\"sparksession1\").getOrCreate()\n"
      ],
      "metadata": {
        "id": "HGfn3Z699T7k"
      },
      "execution_count": 11,
      "outputs": []
    },
    {
      "cell_type": "code",
      "source": [
        "spark"
      ],
      "metadata": {
        "colab": {
          "base_uri": "https://localhost:8080/",
          "height": 222
        },
        "id": "cZQNKtDeCY7J",
        "outputId": "309a7217-226a-4099-df68-c80e9eef9407"
      },
      "execution_count": 12,
      "outputs": [
        {
          "output_type": "execute_result",
          "data": {
            "text/plain": [
              "<pyspark.sql.session.SparkSession at 0x7f9ccb581410>"
            ],
            "text/html": [
              "\n",
              "            <div>\n",
              "                <p><b>SparkSession - in-memory</b></p>\n",
              "                \n",
              "        <div>\n",
              "            <p><b>SparkContext</b></p>\n",
              "\n",
              "            <p><a href=\"http://be18b737e05e:4040\">Spark UI</a></p>\n",
              "\n",
              "            <dl>\n",
              "              <dt>Version</dt>\n",
              "                <dd><code>v3.1.1</code></dd>\n",
              "              <dt>Master</dt>\n",
              "                <dd><code>local[*]</code></dd>\n",
              "              <dt>AppName</dt>\n",
              "                <dd><code>pyspark-shell</code></dd>\n",
              "            </dl>\n",
              "        </div>\n",
              "        \n",
              "            </div>\n",
              "        "
            ]
          },
          "metadata": {},
          "execution_count": 12
        }
      ]
    },
    {
      "cell_type": "code",
      "source": [
        "#Create new session\n",
        "Spark2=SparkSession.newSession\n",
        "Spark2\n",
        "\n"
      ],
      "metadata": {
        "colab": {
          "base_uri": "https://localhost:8080/"
        },
        "id": "IOCqmYZaDCaQ",
        "outputId": "67450b82-c0a1-435f-9ca6-7f78f4cfc911"
      },
      "execution_count": 13,
      "outputs": [
        {
          "output_type": "execute_result",
          "data": {
            "text/plain": [
              "<function pyspark.sql.session.SparkSession.newSession(self)>"
            ]
          },
          "metadata": {},
          "execution_count": 13
        }
      ]
    },
    {
      "cell_type": "code",
      "source": [
        "\n",
        "#Get existing session\n",
        "Spark3 =SparkSession.builder.getOrCreate\n",
        "Spark3\n"
      ],
      "metadata": {
        "colab": {
          "base_uri": "https://localhost:8080/"
        },
        "id": "frTcSqGHFKhX",
        "outputId": "cfe5e5a9-8bb8-4914-c0a4-ad84059a3708"
      },
      "execution_count": 14,
      "outputs": [
        {
          "output_type": "execute_result",
          "data": {
            "text/plain": [
              "<bound method SparkSession.Builder.getOrCreate of <pyspark.sql.session.SparkSession.Builder object at 0x7f9cc5662e10>>"
            ]
          },
          "metadata": {},
          "execution_count": 14
        }
      ]
    },
    {
      "cell_type": "code",
      "source": [
        "\n",
        "# Example:\n",
        "# Create RDD to load the contents of text file and do the text analysis\n",
        "\n",
        "text = sc.textFile(\"/content/text3.txt\")\n",
        "text"
      ],
      "metadata": {
        "colab": {
          "base_uri": "https://localhost:8080/"
        },
        "id": "qVRs2Eq4GfQ3",
        "outputId": "c855709b-1927-4607-fe35-0a7eb453699d"
      },
      "execution_count": 22,
      "outputs": [
        {
          "output_type": "execute_result",
          "data": {
            "text/plain": [
              "/content/text3.txt MapPartitionsRDD[7] at textFile at NativeMethodAccessorImpl.java:0"
            ]
          },
          "metadata": {},
          "execution_count": 22
        }
      ]
    },
    {
      "cell_type": "code",
      "source": [
        "from operator import add\n",
        "def tokenize(text):\n",
        "     return text.split()\n",
        " "
      ],
      "metadata": {
        "id": "ZCCNHPUUGi8F"
      },
      "execution_count": 23,
      "outputs": []
    },
    {
      "cell_type": "code",
      "source": [
        "words = text.flatMap(tokenize)\n",
        "print(words)"
      ],
      "metadata": {
        "colab": {
          "base_uri": "https://localhost:8080/"
        },
        "id": "rgy0cdWzIyM3",
        "outputId": "7e457c06-13aa-4e4f-ebe9-4156d686667b"
      },
      "execution_count": 24,
      "outputs": [
        {
          "output_type": "stream",
          "name": "stdout",
          "text": [
            "PythonRDD[8] at RDD at PythonRDD.scala:53\n"
          ]
        }
      ]
    },
    {
      "cell_type": "code",
      "source": [
        "wc = words.map(lambda x: (x,1))"
      ],
      "metadata": {
        "id": "jlFAgiP-I2-k"
      },
      "execution_count": 25,
      "outputs": []
    },
    {
      "cell_type": "code",
      "source": [
        "wc"
      ],
      "metadata": {
        "colab": {
          "base_uri": "https://localhost:8080/"
        },
        "id": "PCDzmJ3TI6Uk",
        "outputId": "5a8ff043-0d09-464d-bb96-caf7f60b981c"
      },
      "execution_count": 26,
      "outputs": [
        {
          "output_type": "execute_result",
          "data": {
            "text/plain": [
              "PythonRDD[9] at RDD at PythonRDD.scala:53"
            ]
          },
          "metadata": {},
          "execution_count": 26
        }
      ]
    },
    {
      "cell_type": "code",
      "source": [
        "print(wc.toDebugString())"
      ],
      "metadata": {
        "id": "R-UbyOs9QkbV",
        "colab": {
          "base_uri": "https://localhost:8080/"
        },
        "outputId": "bc89e62d-ea32-4dc7-95e8-e47b58a6d12b"
      },
      "execution_count": 27,
      "outputs": [
        {
          "output_type": "stream",
          "name": "stdout",
          "text": [
            "b'(2) PythonRDD[9] at RDD at PythonRDD.scala:53 []\\n |  /content/text3.txt MapPartitionsRDD[7] at textFile at NativeMethodAccessorImpl.java:0 []\\n |  /content/text3.txt HadoopRDD[6] at textFile at NativeMethodAccessorImpl.java:0 []'\n"
          ]
        }
      ]
    },
    {
      "cell_type": "code",
      "source": [
        "\n",
        "counts = wc.reduceByKey(add)\n",
        "counts\n"
      ],
      "metadata": {
        "id": "5yDBe4byI9yE",
        "colab": {
          "base_uri": "https://localhost:8080/"
        },
        "outputId": "a8999907-540c-48d7-eec1-ef690dab33a6"
      },
      "execution_count": 28,
      "outputs": [
        {
          "output_type": "execute_result",
          "data": {
            "text/plain": [
              "PythonRDD[14] at RDD at PythonRDD.scala:53"
            ]
          },
          "metadata": {},
          "execution_count": 28
        }
      ]
    },
    {
      "cell_type": "code",
      "source": [
        "counts.saveAsTextFile(\"wc2\")"
      ],
      "metadata": {
        "id": "UBwWlb15JjFu"
      },
      "execution_count": 29,
      "outputs": []
    },
    {
      "cell_type": "code",
      "source": [
        "!ls wc2/"
      ],
      "metadata": {
        "id": "sJS8PvJVHyll",
        "colab": {
          "base_uri": "https://localhost:8080/"
        },
        "outputId": "0a20039c-4262-4a7c-bdf9-b5a0abf09dd8"
      },
      "execution_count": 30,
      "outputs": [
        {
          "output_type": "stream",
          "name": "stdout",
          "text": [
            "part-00000  part-00001\t_SUCCESS\n"
          ]
        }
      ]
    },
    {
      "cell_type": "code",
      "source": [
        "!head wc2/part-00000"
      ],
      "metadata": {
        "id": "Y0a33jX0IVAE",
        "colab": {
          "base_uri": "https://localhost:8080/"
        },
        "outputId": "62c3196b-6dfb-4f2c-9153-8d95c0074f06"
      },
      "execution_count": 31,
      "outputs": [
        {
          "output_type": "stream",
          "name": "stdout",
          "text": [
            "('Spark', 1)\n",
            "('around', 1)\n",
            "('of', 2)\n",
            "('is', 1)\n",
            "('fault-tolerant', 1)\n",
            "('collection', 2)\n",
            "('operated', 1)\n",
            "('in', 3)\n",
            "('are', 1)\n",
            "('two', 1)\n"
          ]
        }
      ]
    },
    {
      "cell_type": "code",
      "source": [],
      "metadata": {
        "id": "tF2q1jx2YqGL"
      },
      "execution_count": null,
      "outputs": []
    }
  ]
}