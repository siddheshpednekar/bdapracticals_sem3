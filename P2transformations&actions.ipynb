{
  "cells": [
    {
      "cell_type": "markdown",
      "metadata": {
        "id": "view-in-github",
        "colab_type": "text"
      },
      "source": [
        "<a href=\"https://colab.research.google.com/github/siddheshpednekar/bdapracticals_sem3/blob/main/P2transformations%26actions.ipynb\" target=\"_parent\"><img src=\"https://colab.research.google.com/assets/colab-badge.svg\" alt=\"Open In Colab\"/></a>"
      ]
    },
    {
      "cell_type": "markdown",
      "source": [
        "##transformations"
      ],
      "metadata": {
        "id": "IPgJqN65W_BI"
      }
    },
    {
      "cell_type": "code",
      "source": [
        "\n",
        "\n",
        "from pyspark.sql import SparkSession\n",
        "spark = SparkSession.builder.appName('SparkByExamples.com').getOrCreate()\n",
        "rdd = spark.sparkContext.textFile(\"dbfs:/FileStore/shared_uploads/muhammedrehanshaikh10101999@rjcollege.edu.in/file.txt\")\n",
        "\n",
        "for element in rdd.collect():\n",
        "    print(element)\n",
        "\n",
        "#Flatmap    \n",
        "rdd2=rdd.flatMap(lambda x: x.split(\" \"))\n",
        "# for element in rdd2.collect():\n",
        "#     print(element)\n",
        "#map\n",
        "rdd3=rdd2.map(lambda x: (x,1))\n",
        "# for element in rdd3.collect():\n",
        "#     print(element)\n",
        "#reduceByKey\n",
        "rdd4=rdd3.reduceByKey(lambda a,b: a+b)\n",
        "# for element in rdd4.collect():\n",
        "#     print(element)\n",
        "#map\n",
        "rdd5 = rdd4.map(lambda x: (x[1],x[0])).sortByKey()\n",
        "# for element in rdd5.collect():\n",
        "#     print(element)\n",
        "#filter\n",
        "rdd6 = rdd5.filter(lambda x : 'a' in x[1])\n",
        "for element in rdd6.collect():\n",
        "    print(element)\n",
        "# dbfs:/FileStore/shared_uploads/muhammedrehanshaikh10101999@rjcollege.edu.in/demo-5.txt"
      ],
      "metadata": {
        "application/vnd.databricks.v1+cell": {
          "title": "",
          "showTitle": false,
          "inputWidgets": {},
          "nuid": "a69f68b0-f631-4fae-86b6-27614ee185c9"
        },
        "id": "4yoGxtcxVVil",
        "outputId": "18960b8b-43b7-4524-e8a1-7385815041f3"
      },
      "outputs": [
        {
          "output_type": "display_data",
          "metadata": {
            "application/vnd.databricks.v1+output": {
              "datasetInfos": [],
              "data": "hello  i m arriving at 8am,ajay is a bad boy.rishi is apparntely most irritating boy in the class.\n(1, 'arriving')\n(1, 'at')\n(1, '8am,ajay')\n(1, 'apparntely')\n(1, 'irritating')\n(1, 'a')\n(1, 'bad')\n(1, 'class.')\n",
              "removedWidgets": [],
              "addedWidgets": {},
              "metadata": {},
              "type": "ansi",
              "arguments": {}
            }
          },
          "data": {
            "text/plain": [
              "hello  i m arriving at 8am,ajay is a bad boy.rishi is apparntely most irritating boy in the class.\n(1, 'arriving')\n(1, 'at')\n(1, '8am,ajay')\n(1, 'apparntely')\n(1, 'irritating')\n(1, 'a')\n(1, 'bad')\n(1, 'class.')\n"
            ]
          }
        }
      ],
      "execution_count": null
    },
    {
      "cell_type": "code",
      "source": [
        "#Stop words\n",
        "rdd = spark.sparkContext.textFile(\"dbfs:/FileStore/shared_uploads/muhammedrehanshaikh10101999@rjcollege.edu.in/file.txt\")\n",
        "swords = ['a','an','the']\n",
        "for element in rdd.collect():\n",
        "    print(element)\n",
        "rdd2 =  rdd.flatMap(lambda x :x.split(' '))\n",
        "rdd33 = rdd2.filter(lambda x:x not in swords)\n",
        "for element in rdd33.collect():\n",
        "    print(element)\n",
        "\n",
        "rdd3=rdd33.map(lambda x: (x,1))\n",
        "# for element in rdd3.collect():\n",
        "#     print(element)\n",
        "#reduceByKey\n",
        "rdd4=rdd3.reduceByKey(lambda a,b: a+b)\n",
        "# for element in rdd4.collect():\n",
        "#     print(element)\n",
        "#map\n",
        "rdd5 = rdd4.map(lambda x: (x[1],x[0])).sortByKey()\n",
        "# for element in rdd5.collect():\n",
        "#     print(element)\n",
        "#filter\n",
        "rdd6 = rdd5.filter(lambda x : 'a' in x[1])\n",
        "for element in rdd6.collect():\n",
        "    print(element)\n"
      ],
      "metadata": {
        "application/vnd.databricks.v1+cell": {
          "title": "",
          "showTitle": false,
          "inputWidgets": {},
          "nuid": "f43e718c-1361-4aa5-a103-4ce1428524e7"
        },
        "id": "67V-ySF0VVin",
        "outputId": "c04f582f-3269-4d54-aa90-0ea857afe449"
      },
      "outputs": [
        {
          "output_type": "display_data",
          "metadata": {
            "application/vnd.databricks.v1+output": {
              "datasetInfos": [],
              "data": "hello  i m arriving at 8am,ajay is a bad boy.rishi is apparntely most irritating boy in the class.\nhello\n\ni\nm\narriving\nat\n8am,ajay\nis\nbad\nboy.rishi\nis\napparntely\nmost\nirritating\nboy\nin\nclass.\n(1, 'arriving')\n(1, 'at')\n(1, '8am,ajay')\n(1, 'apparntely')\n(1, 'irritating')\n(1, 'bad')\n(1, 'class.')\n",
              "removedWidgets": [],
              "addedWidgets": {},
              "metadata": {},
              "type": "ansi",
              "arguments": {}
            }
          },
          "data": {
            "text/plain": [
              "hello  i m arriving at 8am,ajay is a bad boy.rishi is apparntely most irritating boy in the class.\nhello\n\ni\nm\narriving\nat\n8am,ajay\nis\nbad\nboy.rishi\nis\napparntely\nmost\nirritating\nboy\nin\nclass.\n(1, 'arriving')\n(1, 'at')\n(1, '8am,ajay')\n(1, 'apparntely')\n(1, 'irritating')\n(1, 'bad')\n(1, 'class.')\n"
            ]
          }
        }
      ],
      "execution_count": null
    },
    {
      "cell_type": "code",
      "source": [
        "\n",
        "rdd = spark.sparkContext.textFile(\"dbfs:/FileStore/shared_uploads/muhammedrehanshaikh10101999@rjcollege.edu.in/dsai-2.txt\")\n",
        "rdd.collect()\n"
      ],
      "metadata": {
        "application/vnd.databricks.v1+cell": {
          "title": "",
          "showTitle": false,
          "inputWidgets": {},
          "nuid": "afbdaa38-e22e-4c48-a851-1bbb6bc26c3f"
        },
        "id": "ld3CsMN8VVin",
        "outputId": "e94b06b5-caea-42fd-b0ca-67c6ec4b733c"
      },
      "outputs": [
        {
          "output_type": "display_data",
          "metadata": {
            "application/vnd.databricks.v1+output": {
              "datasetInfos": [],
              "data": "Out[3]: ['IT_Sumit',\n 'IT_Amit',\n 'DSai_Suraj',\n 'DSAI_Saurabh',\n 'CS_Chaitanya',\n 'CS_Namita']",
              "removedWidgets": [],
              "addedWidgets": {},
              "metadata": {},
              "type": "ansi",
              "arguments": {}
            }
          },
          "data": {
            "text/plain": [
              "Out[3]: ['IT_Sumit',\n 'IT_Amit',\n 'DSai_Suraj',\n 'DSAI_Saurabh',\n 'CS_Chaitanya',\n 'CS_Namita']"
            ]
          }
        }
      ],
      "execution_count": null
    },
    {
      "cell_type": "code",
      "source": [
        "rdd2 =  rdd.flatMap(lambda x :x.split(' '))\n",
        "rdd3 = rdd2.map(lambda x: x.upper())\n",
        "rdd4 = rdd3.filter(lambda x : 'DSAI' in x)\n",
        "for element in rdd4.collect():\n",
        "    print(element)"
      ],
      "metadata": {
        "application/vnd.databricks.v1+cell": {
          "title": "",
          "showTitle": false,
          "inputWidgets": {},
          "nuid": "d74c7673-15d2-4ece-925a-482ef1f3385b"
        },
        "id": "CdM5P7dAVVio",
        "outputId": "93efd4ac-cf38-438b-f1bf-05c26af2f559"
      },
      "outputs": [
        {
          "output_type": "display_data",
          "metadata": {
            "application/vnd.databricks.v1+output": {
              "datasetInfos": [],
              "data": "DSAI_SURAJ\nDSAI_SAURABH\n",
              "removedWidgets": [],
              "addedWidgets": {},
              "metadata": {},
              "type": "ansi",
              "arguments": {}
            }
          },
          "data": {
            "text/plain": [
              "DSAI_SURAJ\nDSAI_SAURABH\n"
            ]
          }
        }
      ],
      "execution_count": null
    },
    {
      "cell_type": "code",
      "source": [
        "rdd2 =  rdd.flatMap(lambda x :x.split(' '))\n",
        "rdd3 = rdd2.map(lambda x: x.upper())\n",
        "# for element in rdd3.collect():\n",
        "#     print(element)\n",
        "rdd4 = rdd3.filter(lambda x : 'IT_' in x)\n",
        "for element in rdd4.collect():\n",
        "    print(element)\n",
        "print(rdd4.count())\n"
      ],
      "metadata": {
        "application/vnd.databricks.v1+cell": {
          "title": "",
          "showTitle": false,
          "inputWidgets": {},
          "nuid": "7ba945ff-9750-461b-a510-2569053fe427"
        },
        "id": "QA0Fw75HVVio",
        "outputId": "82b904f6-06ad-40fe-b04b-42faf658b9e3"
      },
      "outputs": [
        {
          "output_type": "display_data",
          "metadata": {
            "application/vnd.databricks.v1+output": {
              "datasetInfos": [],
              "data": "IT_SUMIT\nIT_AMIT\n2\n",
              "removedWidgets": [],
              "addedWidgets": {},
              "metadata": {},
              "type": "ansi",
              "arguments": {}
            }
          },
          "data": {
            "text/plain": [
              "IT_SUMIT\nIT_AMIT\n2\n"
            ]
          }
        }
      ],
      "execution_count": null
    },
    {
      "cell_type": "code",
      "source": [
        "# get the 10% of the data\n",
        "rddsample = rdd.sample(False, .1 ,6)\n",
        "rddsample.collect()"
      ],
      "metadata": {
        "application/vnd.databricks.v1+cell": {
          "title": "",
          "showTitle": false,
          "inputWidgets": {},
          "nuid": "027d3032-919b-42ab-a4bf-40bf8586c0a7"
        },
        "id": "SlZlC--bVVio",
        "outputId": "e035953c-18d2-492b-8263-f74b42afb8af"
      },
      "outputs": [
        {
          "output_type": "display_data",
          "metadata": {
            "application/vnd.databricks.v1+output": {
              "datasetInfos": [],
              "data": "Out[6]: ['CS_Chaitanya']",
              "removedWidgets": [],
              "addedWidgets": {},
              "metadata": {},
              "type": "ansi",
              "arguments": {}
            }
          },
          "data": {
            "text/plain": [
              "Out[6]: ['CS_Chaitanya']"
            ]
          }
        }
      ],
      "execution_count": null
    },
    {
      "cell_type": "code",
      "source": [
        "# get the 90% of the data\n",
        "rddsample1 = rdd.sample(False, 0.9 ,6)\n",
        "rddsample1.collect()"
      ],
      "metadata": {
        "application/vnd.databricks.v1+cell": {
          "title": "",
          "showTitle": false,
          "inputWidgets": {},
          "nuid": "cec05f2d-f0a7-4e90-aedf-0d0a2f179e54"
        },
        "id": "dv-wWaReVVip",
        "outputId": "18b1ff60-b25b-48d4-d439-3053339a0823"
      },
      "outputs": [
        {
          "output_type": "display_data",
          "metadata": {
            "application/vnd.databricks.v1+output": {
              "datasetInfos": [],
              "data": "Out[7]: ['IT_Sumit',\n 'IT_Amit',\n 'DSai_Suraj',\n 'DSAI_Saurabh',\n 'CS_Chaitanya',\n 'CS_Namita']",
              "removedWidgets": [],
              "addedWidgets": {},
              "metadata": {},
              "type": "ansi",
              "arguments": {}
            }
          },
          "data": {
            "text/plain": [
              "Out[7]: ['IT_Sumit',\n 'IT_Amit',\n 'DSai_Suraj',\n 'DSAI_Saurabh',\n 'CS_Chaitanya',\n 'CS_Namita']"
            ]
          }
        }
      ],
      "execution_count": null
    },
    {
      "cell_type": "code",
      "source": [
        "#union\n",
        "unionrdd = rddsample1.union(rddsample)\n",
        "unionrdd.collect()"
      ],
      "metadata": {
        "application/vnd.databricks.v1+cell": {
          "title": "",
          "showTitle": false,
          "inputWidgets": {},
          "nuid": "9fc65323-b1e1-4626-bfa0-4856b5f77bdc"
        },
        "id": "taijiCAOVVip",
        "outputId": "42cb84e3-dd6d-443f-8e43-40ec95135dfa"
      },
      "outputs": [
        {
          "output_type": "display_data",
          "metadata": {
            "application/vnd.databricks.v1+output": {
              "datasetInfos": [],
              "data": "Out[8]: ['IT_Sumit',\n 'IT_Amit',\n 'DSai_Suraj',\n 'DSAI_Saurabh',\n 'CS_Chaitanya',\n 'CS_Namita',\n 'CS_Chaitanya']",
              "removedWidgets": [],
              "addedWidgets": {},
              "metadata": {},
              "type": "ansi",
              "arguments": {}
            }
          },
          "data": {
            "text/plain": [
              "Out[8]: ['IT_Sumit',\n 'IT_Amit',\n 'DSai_Suraj',\n 'DSAI_Saurabh',\n 'CS_Chaitanya',\n 'CS_Namita',\n 'CS_Chaitanya']"
            ]
          }
        }
      ],
      "execution_count": null
    },
    {
      "cell_type": "code",
      "source": [
        "#Get only distinct values from the unionRDD into the rdd named ‘distinctRDD’.\n",
        "\n",
        "distinctRDD = unionrdd.distinct()\n",
        "distinctRDD.collect()"
      ],
      "metadata": {
        "application/vnd.databricks.v1+cell": {
          "title": "",
          "showTitle": false,
          "inputWidgets": {},
          "nuid": "a01580f4-9f30-42fd-bbe8-fffb756ad71b"
        },
        "id": "94W8UhIdVVip",
        "outputId": "e0029d06-6d55-45f6-a41f-8ac895bd760f"
      },
      "outputs": [
        {
          "output_type": "display_data",
          "metadata": {
            "application/vnd.databricks.v1+output": {
              "datasetInfos": [],
              "data": "Out[9]: ['DSai_Suraj',\n 'IT_Sumit',\n 'CS_Chaitanya',\n 'CS_Namita',\n 'IT_Amit',\n 'DSAI_Saurabh']",
              "removedWidgets": [],
              "addedWidgets": {},
              "metadata": {},
              "type": "ansi",
              "arguments": {}
            }
          },
          "data": {
            "text/plain": [
              "Out[9]: ['DSai_Suraj',\n 'IT_Sumit',\n 'CS_Chaitanya',\n 'CS_Namita',\n 'IT_Amit',\n 'DSAI_Saurabh']"
            ]
          }
        }
      ],
      "execution_count": null
    },
    {
      "cell_type": "code",
      "source": [
        "# Example 3\n",
        "rdd = spark.sparkContext.textFile(\"dbfs:/FileStore/shared_uploads/muhammedrehanshaikh10101999@rjcollege.edu.in/dsai-2.txt\")\n",
        "\n",
        "df1 = spark.read.format(\"csv\").option(\"header\", \"true\").load(\"dbfs:/FileStore/shared_uploads/muhammedrehanshaikh10101999@rjcollege.edu.in/ex.csv\")\n",
        "df1.show()"
      ],
      "metadata": {
        "application/vnd.databricks.v1+cell": {
          "title": "",
          "showTitle": false,
          "inputWidgets": {},
          "nuid": "35c528b2-4813-47c1-b416-63f97d1f2cdd"
        },
        "id": "wrFPw59GVViq",
        "outputId": "ff2ee746-6682-4c90-d232-cebb9298717e"
      },
      "outputs": [
        {
          "output_type": "display_data",
          "metadata": {
            "application/vnd.databricks.v1+output": {
              "datasetInfos": [],
              "data": "+----+----------+--------+---+-----+\n|Year|First Name|  County|Sex|Count|\n+----+----------+--------+---+-----+\n|2012|   DOMINIC|  CAYUGA|  M|62012|\n|2012|   ADDISON|ONONDAGA|  F|   14|\n|2012|     JULIA|ONONDAGA|  F|   15|\n+----+----------+--------+---+-----+\n\n",
              "removedWidgets": [],
              "addedWidgets": {},
              "metadata": {},
              "type": "ansi",
              "arguments": {}
            }
          },
          "data": {
            "text/plain": [
              "+----+----------+--------+---+-----+\n|Year|First Name|  County|Sex|Count|\n+----+----------+--------+---+-----+\n|2012|   DOMINIC|  CAYUGA|  M|62012|\n|2012|   ADDISON|ONONDAGA|  F|   14|\n|2012|     JULIA|ONONDAGA|  F|   15|\n+----+----------+--------+---+-----+\n\n"
            ]
          }
        }
      ],
      "execution_count": null
    },
    {
      "cell_type": "code",
      "source": [
        "df1 = spark.sparkContext.textFile(\"dbfs:/FileStore/shared_uploads/muhammedrehanshaikh10101999@rjcollege.edu.in/ex.csv\")\n",
        "df1.collect()"
      ],
      "metadata": {
        "application/vnd.databricks.v1+cell": {
          "title": "",
          "showTitle": false,
          "inputWidgets": {},
          "nuid": "7ff81eec-b767-49a7-b76e-ba368a69c500"
        },
        "id": "wZ4FKcocVViq",
        "outputId": "74e72b4d-7250-41c0-f2c5-e0aad8129dec"
      },
      "outputs": [
        {
          "output_type": "display_data",
          "metadata": {
            "application/vnd.databricks.v1+output": {
              "datasetInfos": [],
              "data": "Out[11]: ['Year,First Name,County,Sex,Count',\n '',\n '2012,DOMINIC,CAYUGA,M,62012,ADDISON,ONONDAGA,F,14',\n '',\n '2012,ADDISON,ONONDAGA,F,14',\n '',\n '2012,JULIA,ONONDAGA,F,15']",
              "removedWidgets": [],
              "addedWidgets": {},
              "metadata": {},
              "type": "ansi",
              "arguments": {}
            }
          },
          "data": {
            "text/plain": [
              "Out[11]: ['Year,First Name,County,Sex,Count',\n '',\n '2012,DOMINIC,CAYUGA,M,62012,ADDISON,ONONDAGA,F,14',\n '',\n '2012,ADDISON,ONONDAGA,F,14',\n '',\n '2012,JULIA,ONONDAGA,F,15']"
            ]
          }
        }
      ],
      "execution_count": null
    },
    {
      "cell_type": "code",
      "source": [
        "from pyspark.sql import Row\n",
        "names = Row(\"Year\",\"First_Name\",\"Country\",\"Sex\",\"Count\")\n",
        "name1 = names(2012,\"DOMINIC\",\"CAGYUGA\",\"M\",6)\n",
        "name2 = names(2012,\"ADDISON\",\"ONODAGA\",\"F\",14)\n",
        "name3 = names(2012,\"ADDISON\",\"ONONDAGA\",\"F\",14)\n",
        "name4 = names(2013,\"JULIA\",\"ONONDAGA\",\"F\",15)\n",
        "name5 = names(2014,\"MULIA\",\"DAGA\",\"M\",10)\n",
        "\n",
        "namesall = Row(names=[name1,name2,name3,name4,name5])\n",
        "type(namesall)"
      ],
      "metadata": {
        "application/vnd.databricks.v1+cell": {
          "title": "",
          "showTitle": false,
          "inputWidgets": {},
          "nuid": "75133630-1955-49a0-9df7-c89c87cdb216"
        },
        "id": "7GjC7eb9VViq",
        "outputId": "c9197a6f-5250-4908-dfeb-770669697d50"
      },
      "outputs": [
        {
          "output_type": "display_data",
          "metadata": {
            "application/vnd.databricks.v1+output": {
              "datasetInfos": [],
              "data": "Out[14]: pyspark.sql.types.Row",
              "removedWidgets": [],
              "addedWidgets": {},
              "metadata": {},
              "type": "ansi",
              "arguments": {}
            }
          },
          "data": {
            "text/plain": [
              "Out[14]: pyspark.sql.types.Row"
            ]
          }
        }
      ],
      "execution_count": null
    },
    {
      "cell_type": "code",
      "source": [
        "rdd_info = sc.parallelize(namesall)\n",
        "\n",
        "rdd_info.collect()"
      ],
      "metadata": {
        "application/vnd.databricks.v1+cell": {
          "title": "",
          "showTitle": false,
          "inputWidgets": {},
          "nuid": "42fb34c2-335e-4b44-9dde-c9e18829eedf"
        },
        "id": "gJjhhVEFVViq",
        "outputId": "d76cc4db-d80b-4b3e-b59c-b4d784ef1e87"
      },
      "outputs": [
        {
          "output_type": "display_data",
          "metadata": {
            "application/vnd.databricks.v1+output": {
              "datasetInfos": [],
              "data": "Out[16]: [[Row(Year=2012, First_Name='DOMINIC', Country='CAGYUGA', Sex='M', Count=6),\n  Row(Year=2012, First_Name='ADDISON', Country='ONODAGA', Sex='F', Count=14),\n  Row(Year=2012, First_Name='ADDISON', Country='ONONDAGA', Sex='F', Count=14),\n  Row(Year=2013, First_Name='JULIA', Country='ONONDAGA', Sex='F', Count=15),\n  Row(Year=2014, First_Name='MULIA', Country='DAGA', Sex='M', Count=10)]]",
              "removedWidgets": [],
              "addedWidgets": {},
              "metadata": {},
              "type": "ansi",
              "arguments": {}
            }
          },
          "data": {
            "text/plain": [
              "Out[16]: [[Row(Year=2012, First_Name='DOMINIC', Country='CAGYUGA', Sex='M', Count=6),\n  Row(Year=2012, First_Name='ADDISON', Country='ONODAGA', Sex='F', Count=14),\n  Row(Year=2012, First_Name='ADDISON', Country='ONONDAGA', Sex='F', Count=14),\n  Row(Year=2013, First_Name='JULIA', Country='ONONDAGA', Sex='F', Count=15),\n  Row(Year=2014, First_Name='MULIA', Country='DAGA', Sex='M', Count=10)]]"
            ]
          }
        }
      ],
      "execution_count": null
    },
    {
      "cell_type": "code",
      "source": [
        "rdd_1 = rdd_info.flatMap(lambda x: x)\n",
        "rdd_1.collect()"
      ],
      "metadata": {
        "application/vnd.databricks.v1+cell": {
          "title": "",
          "showTitle": false,
          "inputWidgets": {},
          "nuid": "ddecfcd0-f115-4711-828f-1eebc07a35d2"
        },
        "id": "ySRPNpvKVVir",
        "outputId": "0283e32c-4ea1-49c8-9256-b2e42e3f2999"
      },
      "outputs": [
        {
          "output_type": "display_data",
          "metadata": {
            "application/vnd.databricks.v1+output": {
              "datasetInfos": [],
              "data": "Out[24]: [Row(Year=2012, First_Name='DOMINIC', Country='CAGYUGA', Sex='M', Count=6),\n Row(Year=2012, First_Name='ADDISON', Country='ONODAGA', Sex='F', Count=14),\n Row(Year=2012, First_Name='ADDISON', Country='ONONDAGA', Sex='F', Count=14),\n Row(Year=2013, First_Name='JULIA', Country='ONONDAGA', Sex='F', Count=15),\n Row(Year=2014, First_Name='MULIA', Country='DAGA', Sex='M', Count=10)]",
              "removedWidgets": [],
              "addedWidgets": {},
              "metadata": {},
              "type": "ansi",
              "arguments": {}
            }
          },
          "data": {
            "text/plain": [
              "Out[24]: [Row(Year=2012, First_Name='DOMINIC', Country='CAGYUGA', Sex='M', Count=6),\n Row(Year=2012, First_Name='ADDISON', Country='ONODAGA', Sex='F', Count=14),\n Row(Year=2012, First_Name='ADDISON', Country='ONONDAGA', Sex='F', Count=14),\n Row(Year=2013, First_Name='JULIA', Country='ONONDAGA', Sex='F', Count=15),\n Row(Year=2014, First_Name='MULIA', Country='DAGA', Sex='M', Count=10)]"
            ]
          }
        }
      ],
      "execution_count": null
    },
    {
      "cell_type": "code",
      "source": [
        "# list of first names\n",
        "rdd_1.map(lambda x: x['First_Name']).collect()"
      ],
      "metadata": {
        "application/vnd.databricks.v1+cell": {
          "title": "",
          "showTitle": false,
          "inputWidgets": {},
          "nuid": "c92761b7-9ec8-40f4-8383-40f01675a22d"
        },
        "id": "4mZ_aC_WVVir",
        "outputId": "1e8402cf-443a-46b4-848e-9e8c6070af0c"
      },
      "outputs": [
        {
          "output_type": "display_data",
          "metadata": {
            "application/vnd.databricks.v1+output": {
              "datasetInfos": [],
              "data": "Out[25]: ['DOMINIC', 'ADDISON', 'ADDISON', 'JULIA', 'MULIA']",
              "removedWidgets": [],
              "addedWidgets": {},
              "metadata": {},
              "type": "ansi",
              "arguments": {}
            }
          },
          "data": {
            "text/plain": [
              "Out[25]: ['DOMINIC', 'ADDISON', 'ADDISON', 'JULIA', 'MULIA']"
            ]
          }
        }
      ],
      "execution_count": null
    },
    {
      "cell_type": "code",
      "source": [
        "# count of number of females\n",
        "rdd_1.filter(lambda x:x['Sex'] == 'F').count()"
      ],
      "metadata": {
        "application/vnd.databricks.v1+cell": {
          "title": "",
          "showTitle": false,
          "inputWidgets": {},
          "nuid": "f24efe36-546a-4454-b259-70006369679d"
        },
        "id": "umcOXp9jVVir",
        "outputId": "1870a465-10cc-4e34-f6bd-02e09b0051cd"
      },
      "outputs": [
        {
          "output_type": "display_data",
          "metadata": {
            "application/vnd.databricks.v1+output": {
              "datasetInfos": [],
              "data": "Out[27]: 3",
              "removedWidgets": [],
              "addedWidgets": {},
              "metadata": {},
              "type": "ansi",
              "arguments": {}
            }
          },
          "data": {
            "text/plain": [
              "Out[27]: 3"
            ]
          }
        }
      ],
      "execution_count": null
    },
    {
      "cell_type": "code",
      "source": [
        "rdd_1.map(lambda x:x['Country']).distinct().collect()"
      ],
      "metadata": {
        "application/vnd.databricks.v1+cell": {
          "title": "",
          "showTitle": false,
          "inputWidgets": {},
          "nuid": "4ee57e00-7ca3-4183-a1a8-6814d1ace672"
        },
        "id": "JaYyukY4VVir",
        "outputId": "1f7a866e-f93d-4e28-bead-076f73570a52"
      },
      "outputs": [
        {
          "output_type": "display_data",
          "metadata": {
            "application/vnd.databricks.v1+output": {
              "datasetInfos": [],
              "data": "Out[28]: ['DAGA', 'CAGYUGA', 'ONODAGA', 'ONONDAGA']",
              "removedWidgets": [],
              "addedWidgets": {},
              "metadata": {},
              "type": "ansi",
              "arguments": {}
            }
          },
          "data": {
            "text/plain": [
              "Out[28]: ['DAGA', 'CAGYUGA', 'ONODAGA', 'ONONDAGA']"
            ]
          }
        }
      ],
      "execution_count": null
    },
    {
      "cell_type": "code",
      "source": [
        "!pip install pyspark"
      ],
      "metadata": {
        "colab": {
          "base_uri": "https://localhost:8080/"
        },
        "id": "29YlCij9WASI",
        "outputId": "1a284968-89de-4625-9d2b-0d91501cb92e"
      },
      "execution_count": null,
      "outputs": [
        {
          "output_type": "stream",
          "name": "stdout",
          "text": [
            "Looking in indexes: https://pypi.org/simple, https://us-python.pkg.dev/colab-wheels/public/simple/\n",
            "Collecting pyspark\n",
            "  Downloading pyspark-3.3.0.tar.gz (281.3 MB)\n",
            "\u001b[K     |████████████████████████████████| 281.3 MB 49 kB/s \n",
            "\u001b[?25hCollecting py4j==0.10.9.5\n",
            "  Downloading py4j-0.10.9.5-py2.py3-none-any.whl (199 kB)\n",
            "\u001b[K     |████████████████████████████████| 199 kB 66.1 MB/s \n",
            "\u001b[?25hBuilding wheels for collected packages: pyspark\n",
            "  Building wheel for pyspark (setup.py) ... \u001b[?25l\u001b[?25hdone\n",
            "  Created wheel for pyspark: filename=pyspark-3.3.0-py2.py3-none-any.whl size=281764026 sha256=c95327ddfda4783d039133b27f5c2e03a989c1e49c041b269d8db801b8e08656\n",
            "  Stored in directory: /root/.cache/pip/wheels/7a/8e/1b/f73a52650d2e5f337708d9f6a1750d451a7349a867f928b885\n",
            "Successfully built pyspark\n",
            "Installing collected packages: py4j, pyspark\n",
            "Successfully installed py4j-0.10.9.5 pyspark-3.3.0\n"
          ]
        }
      ]
    },
    {
      "cell_type": "markdown",
      "source": [
        "##actions"
      ],
      "metadata": {
        "id": "VXnagCGPW4zq"
      }
    },
    {
      "cell_type": "code",
      "source": [
        "from pyspark.sql import SparkSession\n",
        "spark = SparkSession.builder.getOrCreate()\n",
        "data=[(\"Z\", 1),(\"A\", 20),(\"B\", 30),(\"C\", 40),(\"B\", 30),(\"B\", 60)]\n",
        "inputRDD = spark.sparkContext.parallelize(data)\n",
        "  \n",
        "listRdd = spark.sparkContext.parallelize([1,2,3,4,5,3,2])\n"
      ],
      "metadata": {
        "application/vnd.databricks.v1+cell": {
          "title": "",
          "showTitle": false,
          "inputWidgets": {},
          "nuid": "8293aec2-f6f7-4183-b97c-c90918c916d1"
        },
        "id": "tZvEdiERVVir"
      },
      "outputs": [],
      "execution_count": null
    },
    {
      "cell_type": "code",
      "source": [
        "seqOp2 = (lambda x, y: (x[0] + y, x[1] + 1))\n",
        "combOp2 = (lambda x, y: (x[0] + y[0], x[1] + y[1]))\n",
        "agg2=listRdd.aggregate((0, 0), seqOp2, combOp2)\n",
        "print(agg2) \n"
      ],
      "metadata": {
        "colab": {
          "base_uri": "https://localhost:8080/"
        },
        "id": "7Cfj4FhgV6zJ",
        "outputId": "a8fd7b77-295d-4bed-878c-7d9e1df316e6"
      },
      "execution_count": null,
      "outputs": [
        {
          "output_type": "stream",
          "name": "stdout",
          "text": [
            "(20, 7)\n"
          ]
        }
      ]
    },
    {
      "cell_type": "code",
      "source": [
        "seqOp2=(lambda x,y:(x[1] + 1))\n",
        "seqOp2([1,2,3],[4,5,6])"
      ],
      "metadata": {
        "colab": {
          "base_uri": "https://localhost:8080/"
        },
        "id": "szTwIa76Wa_z",
        "outputId": "63a2a8db-e17a-4f36-9385-efc08ab9d466"
      },
      "execution_count": null,
      "outputs": [
        {
          "output_type": "execute_result",
          "data": {
            "text/plain": [
              "3"
            ]
          },
          "metadata": {},
          "execution_count": 5
        }
      ]
    },
    {
      "cell_type": "code",
      "source": [
        "#fold\n",
        "from operator import add\n",
        "\n",
        "foldRes=listRdd.fold(0, add)\n",
        "print(foldRes)"
      ],
      "metadata": {
        "colab": {
          "base_uri": "https://localhost:8080/"
        },
        "id": "x4_Ro7LbWeFV",
        "outputId": "891b2cbe-3618-49b6-bd0c-c9b1164e1a7a"
      },
      "execution_count": null,
      "outputs": [
        {
          "output_type": "stream",
          "name": "stdout",
          "text": [
            "20\n"
          ]
        }
      ]
    },
    {
      "cell_type": "code",
      "source": [
        "#reduce\n",
        "redRes=listRdd.reduce(add)\n",
        "print(redRes) "
      ],
      "metadata": {
        "colab": {
          "base_uri": "https://localhost:8080/"
        },
        "id": "IhUG6KLYWgbP",
        "outputId": "536993f8-5ebb-4391-f5e5-e94fb5622320"
      },
      "execution_count": null,
      "outputs": [
        {
          "output_type": "stream",
          "name": "stdout",
          "text": [
            "20\n"
          ]
        }
      ]
    },
    {
      "cell_type": "code",
      "source": [
        "#Collect\n",
        "data = listRdd.collect()\n",
        "print(data)\n",
        "\n",
        "data = listRdd.count()\n",
        "print(data)"
      ],
      "metadata": {
        "colab": {
          "base_uri": "https://localhost:8080/"
        },
        "id": "ldbJyv7_WiXW",
        "outputId": "41046086-cbc1-44ef-fe56-55d5cf448975"
      },
      "execution_count": null,
      "outputs": [
        {
          "output_type": "stream",
          "name": "stdout",
          "text": [
            "[1, 2, 3, 4, 5, 3, 2]\n",
            "7\n"
          ]
        }
      ]
    },
    {
      "cell_type": "code",
      "source": [
        "data =listRdd.countApprox(1200)\n",
        "print(data)\n",
        "\n",
        "data= listRdd.countApproxDistinct()\n",
        "print(data)\n",
        "\n",
        "data = inputRDD.countApproxDistinct()\n",
        "print(data)"
      ],
      "metadata": {
        "colab": {
          "base_uri": "https://localhost:8080/"
        },
        "id": "isTJ5-0zWknC",
        "outputId": "6a404236-cd6b-42c8-d0bd-d9b0e60d2aec"
      },
      "execution_count": null,
      "outputs": [
        {
          "output_type": "stream",
          "name": "stdout",
          "text": [
            "7\n",
            "5\n",
            "5\n"
          ]
        }
      ]
    },
    {
      "cell_type": "code",
      "source": [
        "#countByValue\n",
        "\n",
        "#countByValue, countByValueApprox\n",
        "print(\"countByValue :  \"+str(listRdd.countByValue()))\n"
      ],
      "metadata": {
        "colab": {
          "base_uri": "https://localhost:8080/"
        },
        "id": "WpudS5xtWmoJ",
        "outputId": "92859922-6fd4-4dc5-9836-0e9f7af41385"
      },
      "execution_count": null,
      "outputs": [
        {
          "output_type": "stream",
          "name": "stdout",
          "text": [
            "countByValue :  defaultdict(<class 'int'>, {1: 1, 2: 2, 3: 2, 4: 1, 5: 1})\n"
          ]
        }
      ]
    },
    {
      "cell_type": "code",
      "source": [
        "# first\n",
        "df1 = listRdd.first()\n",
        "print(df1)\n",
        "\n",
        "df1 = inputRDD.first()\n",
        "print(df1)"
      ],
      "metadata": {
        "colab": {
          "base_uri": "https://localhost:8080/"
        },
        "id": "LtUSIZPAWoy6",
        "outputId": "7f7ceb6f-e53d-4ae3-a9d0-369eae0bb369"
      },
      "execution_count": null,
      "outputs": [
        {
          "output_type": "stream",
          "name": "stdout",
          "text": [
            "1\n",
            "('Z', 1)\n"
          ]
        }
      ]
    },
    {
      "cell_type": "code",
      "source": [
        "#top\n",
        "print(\"top : \"+str(listRdd.top(2)))\n",
        "\n",
        "print(\"top : \"+str(inputRDD.top(2)))\n"
      ],
      "metadata": {
        "colab": {
          "base_uri": "https://localhost:8080/"
        },
        "id": "k2_nSDAAWrTV",
        "outputId": "a6754d22-49d7-4708-9da2-4c405620b0da"
      },
      "execution_count": null,
      "outputs": [
        {
          "output_type": "stream",
          "name": "stdout",
          "text": [
            "top : [5, 4]\n",
            "top : [('Z', 1), ('C', 40)]\n"
          ]
        }
      ]
    },
    {
      "cell_type": "code",
      "source": [
        "\n",
        "#min\n",
        "print(\"min :  \"+str(listRdd.min()))\n",
        "\n",
        "print(\"min :  \"+str(inputRDD.min()))"
      ],
      "metadata": {
        "colab": {
          "base_uri": "https://localhost:8080/"
        },
        "id": "djNCx6FDWtT0",
        "outputId": "b91e8476-6141-435c-dfe0-de37619c275c"
      },
      "execution_count": null,
      "outputs": [
        {
          "output_type": "stream",
          "name": "stdout",
          "text": [
            "min :  1\n",
            "min :  ('A', 20)\n"
          ]
        }
      ]
    },
    {
      "cell_type": "code",
      "source": [
        "#max\n",
        "print(\"max :  \"+str(listRdd.max()))\n",
        "\n",
        "print(\"max :  \"+str(inputRDD.max()))\n",
        "\n"
      ],
      "metadata": {
        "colab": {
          "base_uri": "https://localhost:8080/"
        },
        "id": "Fxl6R_uSWvSp",
        "outputId": "4c881096-d690-4871-aa4d-bf6653f46847"
      },
      "execution_count": null,
      "outputs": [
        {
          "output_type": "stream",
          "name": "stdout",
          "text": [
            "max :  5\n",
            "max :  ('Z', 1)\n"
          ]
        }
      ]
    },
    {
      "cell_type": "code",
      "source": [
        "\n",
        "#take, takeOrdered, takeSample\n",
        "print(\"take : \"+str(listRdd.take(2)))\n",
        "\n",
        "print(\"takeOrdered : \"+ str(listRdd.takeOrdered(2)))\n",
        "\n",
        "print(\"take : \"+str(listRdd.takeSample(1,2)))"
      ],
      "metadata": {
        "colab": {
          "base_uri": "https://localhost:8080/"
        },
        "id": "98iSWjN3Wxev",
        "outputId": "fd681b7b-f90b-4db9-8dbf-42cf86dba570"
      },
      "execution_count": null,
      "outputs": [
        {
          "output_type": "stream",
          "name": "stdout",
          "text": [
            "take : [1, 2]\n",
            "takeOrdered : [1, 2]\n",
            "take : [3, 1]\n"
          ]
        }
      ]
    },
    {
      "cell_type": "code",
      "source": [
        "from operator import mul\n",
        "redRes=listRdd.reduce(mul)\n",
        "print(redRes) "
      ],
      "metadata": {
        "colab": {
          "base_uri": "https://localhost:8080/"
        },
        "id": "6NZr_v_nWza3",
        "outputId": "fcb37a37-e524-4718-abe4-a891cb0bf0a1"
      },
      "execution_count": null,
      "outputs": [
        {
          "output_type": "stream",
          "name": "stdout",
          "text": [
            "720\n"
          ]
        }
      ]
    },
    {
      "cell_type": "code",
      "source": [],
      "metadata": {
        "id": "tW4z6sCsW2IH"
      },
      "execution_count": null,
      "outputs": []
    }
  ],
  "metadata": {
    "application/vnd.databricks.v1+notebook": {
      "notebookName": "rddtransformation",
      "dashboards": [],
      "notebookMetadata": {
        "pythonIndentUnit": 4
      },
      "language": "python",
      "widgets": {},
      "notebookOrigID": 2178997159045539
    },
    "colab": {
      "provenance": [],
      "include_colab_link": true
    },
    "language_info": {
      "name": "python"
    },
    "kernelspec": {
      "name": "python3",
      "display_name": "Python 3"
    }
  },
  "nbformat": 4,
  "nbformat_minor": 0
}