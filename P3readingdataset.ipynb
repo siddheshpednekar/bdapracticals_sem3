{
  "cells": [
    {
      "cell_type": "markdown",
      "metadata": {
        "id": "view-in-github",
        "colab_type": "text"
      },
      "source": [
        "<a href=\"https://colab.research.google.com/github/siddheshpednekar/bdapracticals_sem3/blob/main/P3readingdataset.ipynb\" target=\"_parent\"><img src=\"https://colab.research.google.com/assets/colab-badge.svg\" alt=\"Open In Colab\"/></a>"
      ]
    },
    {
      "cell_type": "markdown",
      "source": [
        "## Overview\n",
        "\n",
        "This notebook will show you how to create and query a table or DataFrame that you uploaded to DBFS. [DBFS](https://docs.databricks.com/user-guide/dbfs-databricks-file-system.html) is a Databricks File System that allows you to store data for querying inside of Databricks. This notebook assumes that you have a file already inside of DBFS that you would like to read from.\n",
        "\n",
        "This notebook is written in **Python** so the default cell type is Python. However, you can use different languages by using the `%LANGUAGE` syntax. Python, Scala, SQL, and R are all supported."
      ],
      "metadata": {
        "id": "ARLehv8FH3yA",
        "application/vnd.databricks.v1+cell": {
          "title": "",
          "showTitle": false,
          "inputWidgets": {},
          "nuid": "96816ed7-b08a-4ca3-abb9-f99880c3535d"
        }
      }
    },
    {
      "cell_type": "code",
      "source": [
        "# File location and type\n",
        "file_location = \"/FileStore/tables/iris__1_-1.csv\"\n",
        "file_type = \"csv\"\n",
        "\n",
        "# CSV options\n",
        "infer_schema = \"false\"\n",
        "first_row_is_header = \"false\"\n",
        "delimiter = \",\"\n",
        "\n",
        "# The applied options are for CSV files. For other file types, these will be ignored.\n",
        "df = spark.read.format(file_type) \\\n",
        "  .option(\"inferSchema\", infer_schema) \\\n",
        "  .option(\"header\", first_row_is_header) \\\n",
        "  .option(\"sep\", delimiter) \\\n",
        "  .load(file_location)\n",
        "\n",
        "display(df)"
      ],
      "metadata": {
        "id": "uZSRItOGH3yH",
        "outputId": "ff576c74-ad42-4141-b4be-ca28c5912560",
        "application/vnd.databricks.v1+cell": {
          "title": "",
          "showTitle": false,
          "inputWidgets": {},
          "nuid": "6482be4c-f067-47c9-b0ac-35c938b94601"
        }
      },
      "outputs": [
        {
          "output_type": "display_data",
          "metadata": {
            "application/vnd.databricks.v1+output": {
              "data": "",
              "errorSummary": "",
              "metadata": {},
              "errorTraceType": null,
              "type": "ipynbError",
              "arguments": {}
            }
          },
          "data": {
            "text/html": [
              "<style scoped>\n  .ansiout {\n    display: block;\n    unicode-bidi: embed;\n    white-space: pre-wrap;\n    word-wrap: break-word;\n    word-break: break-all;\n    font-family: \"Source Code Pro\", \"Menlo\", monospace;;\n    font-size: 13px;\n    color: #555;\n    margin-left: 4px;\n    line-height: 19px;\n  }\n</style>"
            ]
          }
        }
      ],
      "execution_count": null
    },
    {
      "cell_type": "code",
      "source": [
        "# Create a view or table\n",
        "\n",
        "temp_table_name = \"iris__1_-1_csv\"\n",
        "\n",
        "df.createOrReplaceTempView(temp_table_name)"
      ],
      "metadata": {
        "id": "pmnBVGpWH3yJ",
        "outputId": "9a5ee6a9-68f5-42c7-9b6b-2b2540d5b091",
        "application/vnd.databricks.v1+cell": {
          "title": "",
          "showTitle": false,
          "inputWidgets": {},
          "nuid": "bd82bb99-1479-4d5c-be10-8c36df0f1d44"
        }
      },
      "outputs": [
        {
          "output_type": "display_data",
          "metadata": {
            "application/vnd.databricks.v1+output": {
              "data": "",
              "errorSummary": "",
              "metadata": {},
              "errorTraceType": null,
              "type": "ipynbError",
              "arguments": {}
            }
          },
          "data": {
            "text/html": [
              "<style scoped>\n  .ansiout {\n    display: block;\n    unicode-bidi: embed;\n    white-space: pre-wrap;\n    word-wrap: break-word;\n    word-break: break-all;\n    font-family: \"Source Code Pro\", \"Menlo\", monospace;;\n    font-size: 13px;\n    color: #555;\n    margin-left: 4px;\n    line-height: 19px;\n  }\n</style>"
            ]
          }
        }
      ],
      "execution_count": null
    },
    {
      "cell_type": "code",
      "source": [
        "%sql\n",
        "\n",
        "/* Query the created temp table in a SQL cell */\n",
        "\n",
        "select * from `iris__1_-1_csv`"
      ],
      "metadata": {
        "id": "hS-fR-CTH3yK",
        "outputId": "e8386e87-e2fa-4ae6-8ccb-ffeebe3cda56",
        "application/vnd.databricks.v1+cell": {
          "title": "",
          "showTitle": false,
          "inputWidgets": {},
          "nuid": "b5f66379-6f7f-42ec-8e82-d0e0926a1721"
        }
      },
      "outputs": [
        {
          "output_type": "display_data",
          "metadata": {
            "application/vnd.databricks.v1+output": {
              "data": "",
              "errorSummary": "",
              "metadata": {},
              "errorTraceType": null,
              "type": "ipynbError",
              "arguments": {}
            }
          },
          "data": {
            "text/html": [
              "<style scoped>\n  .ansiout {\n    display: block;\n    unicode-bidi: embed;\n    white-space: pre-wrap;\n    word-wrap: break-word;\n    word-break: break-all;\n    font-family: \"Source Code Pro\", \"Menlo\", monospace;;\n    font-size: 13px;\n    color: #555;\n    margin-left: 4px;\n    line-height: 19px;\n  }\n</style>"
            ]
          }
        }
      ],
      "execution_count": null
    },
    {
      "cell_type": "code",
      "source": [
        "# With this registered as a temp view, it will only be available to this particular notebook. If you'd like other users to be able to query this table, you can also create a table from the DataFrame.\n",
        "# Once saved, this table will persist across cluster restarts as well as allow various users across different notebooks to query this data.\n",
        "# To do so, choose your table name and uncomment the bottom line.\n",
        "\n",
        "permanent_table_name = \"iris__1_-1_csv\"\n",
        "\n",
        "# df.write.format(\"parquet\").saveAsTable(permanent_table_name)"
      ],
      "metadata": {
        "id": "jgV7_6kjH3yL",
        "outputId": "9468cf50-4805-416a-b63d-65995088a934",
        "application/vnd.databricks.v1+cell": {
          "title": "",
          "showTitle": false,
          "inputWidgets": {},
          "nuid": "db9631f6-bb4a-42ca-8a3c-0d48af932331"
        }
      },
      "outputs": [
        {
          "output_type": "display_data",
          "metadata": {
            "application/vnd.databricks.v1+output": {
              "data": "",
              "errorSummary": "",
              "metadata": {},
              "errorTraceType": null,
              "type": "ipynbError",
              "arguments": {}
            }
          },
          "data": {
            "text/html": [
              "<style scoped>\n  .ansiout {\n    display: block;\n    unicode-bidi: embed;\n    white-space: pre-wrap;\n    word-wrap: break-word;\n    word-break: break-all;\n    font-family: \"Source Code Pro\", \"Menlo\", monospace;;\n    font-size: 13px;\n    color: #555;\n    margin-left: 4px;\n    line-height: 19px;\n  }\n</style>"
            ]
          }
        }
      ],
      "execution_count": null
    },
    {
      "cell_type": "code",
      "source": [
        "#Grouping Data"
      ],
      "metadata": {
        "id": "-6gYpz59H3yL",
        "application/vnd.databricks.v1+cell": {
          "title": "",
          "showTitle": false,
          "inputWidgets": {},
          "nuid": "264e3cb0-05ee-49a4-8d9b-8d2f440de5bc"
        }
      },
      "outputs": [],
      "execution_count": null
    },
    {
      "cell_type": "code",
      "source": [
        "import pandas as pd\n",
        "from pyspark.sql import SparkSession\n",
        "\n",
        "spark = SparkSession.builder.getOrCreate()"
      ],
      "metadata": {
        "id": "vtH7PTydH3yM",
        "application/vnd.databricks.v1+cell": {
          "title": "",
          "showTitle": false,
          "inputWidgets": {},
          "nuid": "976a729f-686e-48ab-8e05-0137758e8ffe"
        }
      },
      "outputs": [],
      "execution_count": null
    },
    {
      "cell_type": "code",
      "source": [
        "df = spark.createDataFrame([\n",
        "    ['red', 'banana', 1, 10], ['blue', 'banana', 2, 20], ['red', 'carrot', 3, 30],\n",
        "    ['blue', 'grape', 4, 40], ['red', 'carrot', 5, 50], ['black', 'carrot', 6, 60],\n",
        "    ['red', 'banana', 7, 70], ['red', 'grape', 8, 80]], schema=['color', 'fruit', 'v1', 'v2'])\n",
        "df.show()"
      ],
      "metadata": {
        "id": "PCH0eqAPH3yN",
        "outputId": "59988f31-106e-4869-98aa-679fb4773296",
        "application/vnd.databricks.v1+cell": {
          "title": "",
          "showTitle": false,
          "inputWidgets": {},
          "nuid": "2f408fdb-e8c3-4c54-8b70-e054ba60318a"
        }
      },
      "outputs": [
        {
          "output_type": "display_data",
          "metadata": {
            "application/vnd.databricks.v1+output": {
              "datasetInfos": [],
              "data": "+-----+------+---+---+\n|color| fruit| v1| v2|\n+-----+------+---+---+\n|  red|banana|  1| 10|\n| blue|banana|  2| 20|\n|  red|carrot|  3| 30|\n| blue| grape|  4| 40|\n|  red|carrot|  5| 50|\n|black|carrot|  6| 60|\n|  red|banana|  7| 70|\n|  red| grape|  8| 80|\n+-----+------+---+---+\n\n",
              "removedWidgets": [],
              "addedWidgets": {},
              "metadata": {},
              "type": "ansi",
              "arguments": {}
            }
          },
          "data": {
            "text/plain": [
              "+-----+------+---+---+\n|color| fruit| v1| v2|\n+-----+------+---+---+\n|  red|banana|  1| 10|\n| blue|banana|  2| 20|\n|  red|carrot|  3| 30|\n| blue| grape|  4| 40|\n|  red|carrot|  5| 50|\n|black|carrot|  6| 60|\n|  red|banana|  7| 70|\n|  red| grape|  8| 80|\n+-----+------+---+---+\n\n"
            ]
          }
        }
      ],
      "execution_count": null
    },
    {
      "cell_type": "code",
      "source": [
        "df.groupby('color').avg().show()"
      ],
      "metadata": {
        "id": "_UHjS45mH3yO",
        "outputId": "3b30ae3c-c73a-4275-a8fb-728e31a3762b",
        "application/vnd.databricks.v1+cell": {
          "title": "",
          "showTitle": false,
          "inputWidgets": {},
          "nuid": "4e155ca8-9d27-4aa8-958d-67fa0ec471e4"
        }
      },
      "outputs": [
        {
          "output_type": "display_data",
          "metadata": {
            "application/vnd.databricks.v1+output": {
              "datasetInfos": [],
              "data": "+-----+-------+-------+\n|color|avg(v1)|avg(v2)|\n+-----+-------+-------+\n|  red|    4.8|   48.0|\n| blue|    3.0|   30.0|\n|black|    6.0|   60.0|\n+-----+-------+-------+\n\n",
              "removedWidgets": [],
              "addedWidgets": {},
              "metadata": {},
              "type": "ansi",
              "arguments": {}
            }
          },
          "data": {
            "text/plain": [
              "+-----+-------+-------+\n|color|avg(v1)|avg(v2)|\n+-----+-------+-------+\n|  red|    4.8|   48.0|\n| blue|    3.0|   30.0|\n|black|    6.0|   60.0|\n+-----+-------+-------+\n\n"
            ]
          }
        }
      ],
      "execution_count": null
    },
    {
      "cell_type": "code",
      "source": [
        "df.groupby('fruit').avg().show()"
      ],
      "metadata": {
        "id": "qvEHobeTH3yO",
        "outputId": "305f147a-3a12-45c3-83ca-144bddb46236",
        "application/vnd.databricks.v1+cell": {
          "title": "",
          "showTitle": false,
          "inputWidgets": {},
          "nuid": "c61b378d-3f93-4501-9660-45e0135a664a"
        }
      },
      "outputs": [
        {
          "output_type": "display_data",
          "metadata": {
            "application/vnd.databricks.v1+output": {
              "datasetInfos": [],
              "data": "+------+------------------+------------------+\n| fruit|           avg(v1)|           avg(v2)|\n+------+------------------+------------------+\n|banana|3.3333333333333335|33.333333333333336|\n|carrot| 4.666666666666667|46.666666666666664|\n| grape|               6.0|              60.0|\n+------+------------------+------------------+\n\n",
              "removedWidgets": [],
              "addedWidgets": {},
              "metadata": {},
              "type": "ansi",
              "arguments": {}
            }
          },
          "data": {
            "text/plain": [
              "+------+------------------+------------------+\n| fruit|           avg(v1)|           avg(v2)|\n+------+------------------+------------------+\n|banana|3.3333333333333335|33.333333333333336|\n|carrot| 4.666666666666667|46.666666666666664|\n| grape|               6.0|              60.0|\n+------+------------------+------------------+\n\n"
            ]
          }
        }
      ],
      "execution_count": null
    },
    {
      "cell_type": "code",
      "source": [
        "def plus_mean(pandas_df):\n",
        "    return pandas_df.assign(v1=pandas_df.v1 - pandas_df.v1.mean())"
      ],
      "metadata": {
        "id": "XSp9ildjH3yP",
        "outputId": "9089364c-9a78-4ee5-fe18-a0c5b8512c4b",
        "application/vnd.databricks.v1+cell": {
          "title": "",
          "showTitle": false,
          "inputWidgets": {},
          "nuid": "c965963f-3c29-495a-bb98-0cab06b36142"
        }
      },
      "outputs": [
        {
          "output_type": "display_data",
          "metadata": {
            "application/vnd.databricks.v1+output": {
              "datasetInfos": [],
              "data": "+-----+------+---+---+\n|color| fruit| v1| v2|\n+-----+------+---+---+\n|black|carrot|  0| 60|\n| blue|banana| -1| 20|\n| blue| grape|  1| 40|\n|  red|banana| -3| 10|\n|  red|carrot| -1| 30|\n|  red|carrot|  0| 50|\n|  red|banana|  2| 70|\n|  red| grape|  3| 80|\n+-----+------+---+---+\n\n",
              "removedWidgets": [],
              "addedWidgets": {},
              "metadata": {},
              "type": "ansi",
              "arguments": {}
            }
          },
          "data": {
            "text/plain": [
              "+-----+------+---+---+\n|color| fruit| v1| v2|\n+-----+------+---+---+\n|black|carrot|  0| 60|\n| blue|banana| -1| 20|\n| blue| grape|  1| 40|\n|  red|banana| -3| 10|\n|  red|carrot| -1| 30|\n|  red|carrot|  0| 50|\n|  red|banana|  2| 70|\n|  red| grape|  3| 80|\n+-----+------+---+---+\n\n"
            ]
          }
        }
      ],
      "execution_count": null
    },
    {
      "cell_type": "code",
      "source": [
        "df.groupby('color').applyInPandas(plus_mean, schema=df.schema).show()"
      ],
      "metadata": {
        "id": "LruAs_ErH3yP",
        "outputId": "1eecd371-688c-417c-d565-e9e8e2404004",
        "application/vnd.databricks.v1+cell": {
          "title": "",
          "showTitle": false,
          "inputWidgets": {},
          "nuid": "e2e0d917-8368-477c-a931-74b707a5a354"
        }
      },
      "outputs": [
        {
          "output_type": "display_data",
          "metadata": {
            "application/vnd.databricks.v1+output": {
              "datasetInfos": [],
              "data": "+-----+------+---+---+\n|color| fruit| v1| v2|\n+-----+------+---+---+\n|black|carrot|  0| 60|\n| blue|banana| -1| 20|\n| blue| grape|  1| 40|\n|  red|banana| -3| 10|\n|  red|carrot| -1| 30|\n|  red|carrot|  0| 50|\n|  red|banana|  2| 70|\n|  red| grape|  3| 80|\n+-----+------+---+---+\n\n",
              "removedWidgets": [],
              "addedWidgets": {},
              "metadata": {},
              "type": "ansi",
              "arguments": {}
            }
          },
          "data": {
            "text/plain": [
              "+-----+------+---+---+\n|color| fruit| v1| v2|\n+-----+------+---+---+\n|black|carrot|  0| 60|\n| blue|banana| -1| 20|\n| blue| grape|  1| 40|\n|  red|banana| -3| 10|\n|  red|carrot| -1| 30|\n|  red|carrot|  0| 50|\n|  red|banana|  2| 70|\n|  red| grape|  3| 80|\n+-----+------+---+---+\n\n"
            ]
          }
        }
      ],
      "execution_count": null
    },
    {
      "cell_type": "code",
      "source": [
        "df.groupBy('color').mean().show()"
      ],
      "metadata": {
        "id": "Gyts2FFYH3yQ",
        "outputId": "ed831080-094d-4e71-b00b-a51dbcce1dd3",
        "application/vnd.databricks.v1+cell": {
          "title": "",
          "showTitle": false,
          "inputWidgets": {},
          "nuid": "276e05ab-d0ea-4fd7-8170-3f00e4d32ada"
        }
      },
      "outputs": [
        {
          "output_type": "display_data",
          "metadata": {
            "application/vnd.databricks.v1+output": {
              "datasetInfos": [],
              "data": "+-----+-------+-------+\n|color|avg(v1)|avg(v2)|\n+-----+-------+-------+\n|  red|    4.8|   48.0|\n| blue|    3.0|   30.0|\n|black|    6.0|   60.0|\n+-----+-------+-------+\n\n",
              "removedWidgets": [],
              "addedWidgets": {},
              "metadata": {},
              "type": "ansi",
              "arguments": {}
            }
          },
          "data": {
            "text/plain": [
              "+-----+-------+-------+\n|color|avg(v1)|avg(v2)|\n+-----+-------+-------+\n|  red|    4.8|   48.0|\n| blue|    3.0|   30.0|\n|black|    6.0|   60.0|\n+-----+-------+-------+\n\n"
            ]
          }
        }
      ],
      "execution_count": null
    },
    {
      "cell_type": "code",
      "source": [
        "df.groupBy('color').count().show()"
      ],
      "metadata": {
        "id": "pKxUN6xCH3yQ",
        "outputId": "c14cb300-1927-4325-bc13-bc31235bbf46",
        "application/vnd.databricks.v1+cell": {
          "title": "",
          "showTitle": false,
          "inputWidgets": {},
          "nuid": "97d9cc25-801f-4590-bcac-e6c288e9a85d"
        }
      },
      "outputs": [
        {
          "output_type": "display_data",
          "metadata": {
            "application/vnd.databricks.v1+output": {
              "datasetInfos": [],
              "data": "+-----+-----+\n|color|count|\n+-----+-----+\n|  red|    5|\n| blue|    2|\n|black|    1|\n+-----+-----+\n\n",
              "removedWidgets": [],
              "addedWidgets": {},
              "metadata": {},
              "type": "ansi",
              "arguments": {}
            }
          },
          "data": {
            "text/plain": [
              "+-----+-----+\n|color|count|\n+-----+-----+\n|  red|    5|\n| blue|    2|\n|black|    1|\n+-----+-----+\n\n"
            ]
          }
        }
      ],
      "execution_count": null
    },
    {
      "cell_type": "code",
      "source": [
        "df.groupBy('color').min().show()"
      ],
      "metadata": {
        "id": "HmSZRqZPH3yR",
        "outputId": "98131076-5815-424d-c366-b947182b6e77",
        "application/vnd.databricks.v1+cell": {
          "title": "",
          "showTitle": false,
          "inputWidgets": {},
          "nuid": "c9665d56-2350-4075-ba6a-f828eddccec3"
        }
      },
      "outputs": [
        {
          "output_type": "display_data",
          "metadata": {
            "application/vnd.databricks.v1+output": {
              "datasetInfos": [],
              "data": "+-----+-------+-------+\n|color|min(v1)|min(v2)|\n+-----+-------+-------+\n|  red|      1|     10|\n| blue|      2|     20|\n|black|      6|     60|\n+-----+-------+-------+\n\n",
              "removedWidgets": [],
              "addedWidgets": {},
              "metadata": {},
              "type": "ansi",
              "arguments": {}
            }
          },
          "data": {
            "text/plain": [
              "+-----+-------+-------+\n|color|min(v1)|min(v2)|\n+-----+-------+-------+\n|  red|      1|     10|\n| blue|      2|     20|\n|black|      6|     60|\n+-----+-------+-------+\n\n"
            ]
          }
        }
      ],
      "execution_count": null
    },
    {
      "cell_type": "code",
      "source": [
        "def plus_mean(pandas_df):\n",
        "    return pandas_df.assign(v1=pandas_df.v1.sum())\n",
        "df.groupby('color').applyInPandas(plus_mean, schema=df.schema).show()"
      ],
      "metadata": {
        "id": "0xPC5LVCH3yR",
        "outputId": "135ef945-085e-44a4-f544-d7a4e38707cb",
        "application/vnd.databricks.v1+cell": {
          "title": "",
          "showTitle": false,
          "inputWidgets": {},
          "nuid": "985e099b-c2a9-4b35-9b8e-be0b79c3b67c"
        }
      },
      "outputs": [
        {
          "output_type": "display_data",
          "metadata": {
            "application/vnd.databricks.v1+output": {
              "datasetInfos": [],
              "data": "+-----+------+---+---+\n|color| fruit| v1| v2|\n+-----+------+---+---+\n|black|carrot|  6| 60|\n| blue|banana|  6| 20|\n| blue| grape|  6| 40|\n|  red|banana| 24| 10|\n|  red|carrot| 24| 30|\n|  red|carrot| 24| 50|\n|  red|banana| 24| 70|\n|  red| grape| 24| 80|\n+-----+------+---+---+\n\n",
              "removedWidgets": [],
              "addedWidgets": {},
              "metadata": {},
              "type": "ansi",
              "arguments": {}
            }
          },
          "data": {
            "text/plain": [
              "+-----+------+---+---+\n|color| fruit| v1| v2|\n+-----+------+---+---+\n|black|carrot|  6| 60|\n| blue|banana|  6| 20|\n| blue| grape|  6| 40|\n|  red|banana| 24| 10|\n|  red|carrot| 24| 30|\n|  red|carrot| 24| 50|\n|  red|banana| 24| 70|\n|  red| grape| 24| 80|\n+-----+------+---+---+\n\n"
            ]
          }
        }
      ],
      "execution_count": null
    },
    {
      "cell_type": "code",
      "source": [
        "def plus_mean(pandas_df):\n",
        "    return pandas_df.assign(v1=pandas_df.v1.max())\n",
        "df.groupby('color').applyInPandas(plus_mean, schema=df.schema).show()"
      ],
      "metadata": {
        "id": "n5rP-WhRH3yS",
        "outputId": "643812b0-4ec1-43e5-e8b8-6b65ab676bc7",
        "application/vnd.databricks.v1+cell": {
          "title": "",
          "showTitle": false,
          "inputWidgets": {},
          "nuid": "ab122519-8522-4ea3-aa5a-ae5a7595f36a"
        }
      },
      "outputs": [
        {
          "output_type": "display_data",
          "metadata": {
            "application/vnd.databricks.v1+output": {
              "datasetInfos": [],
              "data": "+-----+------+---+---+\n|color| fruit| v1| v2|\n+-----+------+---+---+\n|black|carrot|  6| 60|\n| blue|banana|  4| 20|\n| blue| grape|  4| 40|\n|  red|banana|  8| 10|\n|  red|carrot|  8| 30|\n|  red|carrot|  8| 50|\n|  red|banana|  8| 70|\n|  red| grape|  8| 80|\n+-----+------+---+---+\n\n",
              "removedWidgets": [],
              "addedWidgets": {},
              "metadata": {},
              "type": "ansi",
              "arguments": {}
            }
          },
          "data": {
            "text/plain": [
              "+-----+------+---+---+\n|color| fruit| v1| v2|\n+-----+------+---+---+\n|black|carrot|  6| 60|\n| blue|banana|  4| 20|\n| blue| grape|  4| 40|\n|  red|banana|  8| 10|\n|  red|carrot|  8| 30|\n|  red|carrot|  8| 50|\n|  red|banana|  8| 70|\n|  red| grape|  8| 80|\n+-----+------+---+---+\n\n"
            ]
          }
        }
      ],
      "execution_count": null
    },
    {
      "cell_type": "code",
      "source": [
        "def plus_mean(pandas_df):\n",
        "    return pandas_df.assign(v1=pandas_df.v1.std())\n",
        "df.groupby('color').applyInPandas(plus_mean, schema=df.schema).show()"
      ],
      "metadata": {
        "id": "7yZDRSdBH3yS",
        "outputId": "e716f98f-cb4a-4f4a-e2f2-c615d27f8b26",
        "application/vnd.databricks.v1+cell": {
          "title": "",
          "showTitle": false,
          "inputWidgets": {},
          "nuid": "43b186ed-e0f7-4075-bb06-0ae9f4d56132"
        }
      },
      "outputs": [
        {
          "output_type": "display_data",
          "metadata": {
            "application/vnd.databricks.v1+output": {
              "datasetInfos": [],
              "data": "+-----+------+----+---+\n|color| fruit|  v1| v2|\n+-----+------+----+---+\n|black|carrot|null| 60|\n| blue|banana|   1| 20|\n| blue| grape|   1| 40|\n|  red|banana|   2| 10|\n|  red|carrot|   2| 30|\n|  red|carrot|   2| 50|\n|  red|banana|   2| 70|\n|  red| grape|   2| 80|\n+-----+------+----+---+\n\n",
              "removedWidgets": [],
              "addedWidgets": {},
              "metadata": {},
              "type": "ansi",
              "arguments": {}
            }
          },
          "data": {
            "text/plain": [
              "+-----+------+----+---+\n|color| fruit|  v1| v2|\n+-----+------+----+---+\n|black|carrot|null| 60|\n| blue|banana|   1| 20|\n| blue| grape|   1| 40|\n|  red|banana|   2| 10|\n|  red|carrot|   2| 30|\n|  red|carrot|   2| 50|\n|  red|banana|   2| 70|\n|  red| grape|   2| 80|\n+-----+------+----+---+\n\n"
            ]
          }
        }
      ],
      "execution_count": null
    },
    {
      "cell_type": "code",
      "source": [
        "df1 = spark.createDataFrame(\n",
        "    [(20000101, 1, 1.0), (20000101, 2, 2.0), (20000102, 1, 3.0), (20000102, 2, 4.0)],\n",
        "    ('time', 'id', 'v1'))\n",
        "\n",
        "df2 = spark.createDataFrame(\n",
        "    [(20000101, 1, 'x'), (20000101, 2, 'y')],\n",
        "    ('time', 'id', 'v2'))\n",
        "\n",
        "def asof_join(l, r):\n",
        "    return pd.merge_asof(l, r, on='time', by='id')\n",
        "\n",
        "df1.groupby('id').cogroup(df2.groupby('id')).applyInPandas(\n",
        "    asof_join, schema='time int, id int, v1 double, v2 string').show()"
      ],
      "metadata": {
        "id": "GC31QUs_H3yT",
        "outputId": "484a7f5a-79e5-43a4-923c-3afd112b7979",
        "application/vnd.databricks.v1+cell": {
          "title": "",
          "showTitle": false,
          "inputWidgets": {},
          "nuid": "fd7326e1-b693-4302-9326-25ea3d59def2"
        }
      },
      "outputs": [
        {
          "output_type": "display_data",
          "metadata": {
            "application/vnd.databricks.v1+output": {
              "datasetInfos": [],
              "data": "+--------+---+---+---+\n|    time| id| v1| v2|\n+--------+---+---+---+\n|20000101|  1|1.0|  x|\n|20000102|  1|3.0|  x|\n|20000101|  2|2.0|  y|\n|20000102|  2|4.0|  y|\n+--------+---+---+---+\n\n",
              "removedWidgets": [],
              "addedWidgets": {},
              "metadata": {},
              "type": "ansi",
              "arguments": {}
            }
          },
          "data": {
            "text/plain": [
              "+--------+---+---+---+\n|    time| id| v1| v2|\n+--------+---+---+---+\n|20000101|  1|1.0|  x|\n|20000102|  1|3.0|  x|\n|20000101|  2|2.0|  y|\n|20000102|  2|4.0|  y|\n+--------+---+---+---+\n\n"
            ]
          }
        }
      ],
      "execution_count": null
    },
    {
      "cell_type": "code",
      "source": [
        "df2.groupby('id').cogroup(df1.groupby('id')).applyInPandas(\n",
        "    asof_join, schema='time int, id int, v1 double, v2 string').show()"
      ],
      "metadata": {
        "id": "xXt3vkUWH3yT",
        "outputId": "9be0c493-3407-4640-9f40-60bc2af4a1f1",
        "application/vnd.databricks.v1+cell": {
          "title": "",
          "showTitle": false,
          "inputWidgets": {},
          "nuid": "35e899fb-0b6d-4d94-ad6c-38ce8d8f02af"
        }
      },
      "outputs": [
        {
          "output_type": "display_data",
          "metadata": {
            "application/vnd.databricks.v1+output": {
              "datasetInfos": [],
              "data": "+--------+---+---+---+\n|    time| id| v1| v2|\n+--------+---+---+---+\n|20000101|  1|1.0|  x|\n|20000101|  2|2.0|  y|\n+--------+---+---+---+\n\n",
              "removedWidgets": [],
              "addedWidgets": {},
              "metadata": {},
              "type": "ansi",
              "arguments": {}
            }
          },
          "data": {
            "text/plain": [
              "+--------+---+---+---+\n|    time| id| v1| v2|\n+--------+---+---+---+\n|20000101|  1|1.0|  x|\n|20000101|  2|2.0|  y|\n+--------+---+---+---+\n\n"
            ]
          }
        }
      ],
      "execution_count": null
    },
    {
      "cell_type": "code",
      "source": [
        "# import pyspark class Row from module sql\n",
        "from pyspark.sql import *"
      ],
      "metadata": {
        "id": "6CF5Y7fwH3yU",
        "application/vnd.databricks.v1+cell": {
          "title": "",
          "showTitle": false,
          "inputWidgets": {},
          "nuid": "742c8209-d411-4780-a83d-e5d1f7453ce6"
        }
      },
      "outputs": [],
      "execution_count": null
    },
    {
      "cell_type": "code",
      "source": [
        "# Create Example Data - Departments and Employees\n",
        "\n",
        "# Create the Departments\n",
        "department= Row(\"id\",\"name\")\n",
        "department1 = Row(id='123456', name='Computer Science')\n",
        "department2 = Row(id='789012', name='Mechanical Engineering')\n",
        "department3 = Row(id='345678', name='Theater and Drama')\n",
        "department4 = Row(id='901234', name='Indoor Recreation')\n"
      ],
      "metadata": {
        "id": "DuIwuhZAH3yU",
        "application/vnd.databricks.v1+cell": {
          "title": "",
          "showTitle": false,
          "inputWidgets": {},
          "nuid": "42b5893e-2f4d-4a2b-b5a7-9669bafce7eb"
        }
      },
      "outputs": [],
      "execution_count": null
    },
    {
      "cell_type": "code",
      "source": [
        "# Create the Employees\n",
        "Employee = Row(\"firstName\", \"lastName\", \"email\", \"salary\")\n",
        "employee1 = Employee('michael', 'armbrust', 'no-reply@berkeley.edu', 100000)\n",
        "employee2 = Employee('xiangrui', 'meng', 'no-reply@stanford.edu', 120000)\n",
        "employee3 = Employee('matei', None, 'no-reply@waterloo.edu', 140000)\n",
        "employee4 = Employee(None, 'wendell', 'no-reply@berkeley.edu', 160000)\n",
        "employee5 = Employee('michael', 'jackson', 'no-reply@neverla.nd', 80000)\n"
      ],
      "metadata": {
        "id": "hxfWYmdhH3yU",
        "application/vnd.databricks.v1+cell": {
          "title": "",
          "showTitle": false,
          "inputWidgets": {},
          "nuid": "591c3188-e6c7-4beb-acd6-341ccf6d5136"
        }
      },
      "outputs": [],
      "execution_count": null
    },
    {
      "cell_type": "code",
      "source": [
        "# Create the DepartmentWithEmployees instances from Departments and Employees\n",
        "departmentWithEmployees1 = Row(department=department1, employees=[employee1, employee2])\n",
        "departmentWithEmployees2 = Row(department=department2, employees=[employee3, employee4])\n",
        "departmentWithEmployees3 = Row(department=department3, employees=[employee5, employee4])\n",
        "departmentWithEmployees4 = Row(department=department4, employees=[employee2, employee3])\n",
        "\n",
        "print(department1)\n",
        "print(employee2)\n",
        "print(departmentWithEmployees1.employees[0].email)"
      ],
      "metadata": {
        "id": "Kf25o9tcH3yV",
        "outputId": "e45724b3-c07e-4d86-d966-a8ab3f560a3f",
        "application/vnd.databricks.v1+cell": {
          "title": "",
          "showTitle": false,
          "inputWidgets": {},
          "nuid": "f7e638fc-c9d3-460b-b726-84168ebf583e"
        }
      },
      "outputs": [
        {
          "output_type": "display_data",
          "metadata": {
            "application/vnd.databricks.v1+output": {
              "datasetInfos": [],
              "data": "Row(id='123456', name='Computer Science')\nRow(firstName='xiangrui', lastName='meng', email='no-reply@stanford.edu', salary=120000)\nno-reply@berkeley.edu\n",
              "removedWidgets": [],
              "addedWidgets": {},
              "metadata": {},
              "type": "ansi",
              "arguments": {}
            }
          },
          "data": {
            "text/plain": [
              "Row(id='123456', name='Computer Science')\nRow(firstName='xiangrui', lastName='meng', email='no-reply@stanford.edu', salary=120000)\nno-reply@berkeley.edu\n"
            ]
          }
        }
      ],
      "execution_count": null
    },
    {
      "cell_type": "code",
      "source": [
        "print(departmentWithEmployees1.employees[0].salary)"
      ],
      "metadata": {
        "id": "M1l3mSCMH3yV",
        "outputId": "e1bb6f8a-aa72-4a08-b5a5-4c45a9a9c1bd",
        "application/vnd.databricks.v1+cell": {
          "title": "",
          "showTitle": false,
          "inputWidgets": {},
          "nuid": "4100ebd4-1232-45c6-ab4d-a573629b6fa8"
        }
      },
      "outputs": [
        {
          "output_type": "display_data",
          "metadata": {
            "application/vnd.databricks.v1+output": {
              "datasetInfos": [],
              "data": "100000\n",
              "removedWidgets": [],
              "addedWidgets": {},
              "metadata": {},
              "type": "ansi",
              "arguments": {}
            }
          },
          "data": {
            "text/plain": [
              "100000\n"
            ]
          }
        }
      ],
      "execution_count": null
    },
    {
      "cell_type": "code",
      "source": [
        "print(Employee)"
      ],
      "metadata": {
        "id": "5nMrT-tVH3yW",
        "outputId": "2c59c838-e0ab-4c30-a8f7-785250abc913",
        "application/vnd.databricks.v1+cell": {
          "title": "",
          "showTitle": false,
          "inputWidgets": {},
          "nuid": "f7517b48-a772-4446-bd0c-b48aa29fdeb7"
        }
      },
      "outputs": [
        {
          "output_type": "display_data",
          "metadata": {
            "application/vnd.databricks.v1+output": {
              "datasetInfos": [],
              "data": "<Row('firstName', 'lastName', 'email', 'salary')>\n",
              "removedWidgets": [],
              "addedWidgets": {},
              "metadata": {},
              "type": "ansi",
              "arguments": {}
            }
          },
          "data": {
            "text/plain": [
              "<Row('firstName', 'lastName', 'email', 'salary')>\n"
            ]
          }
        }
      ],
      "execution_count": null
    },
    {
      "cell_type": "code",
      "source": [
        "seq1 = [employee1, employee2,employee3,employee4,employee5]\n",
        "df1 = spark.createDataFrame(seq1)"
      ],
      "metadata": {
        "id": "GMZGH3OLH3yX",
        "application/vnd.databricks.v1+cell": {
          "title": "",
          "showTitle": false,
          "inputWidgets": {},
          "nuid": "de526578-1312-45cf-bbf3-2e7b75188910"
        }
      },
      "outputs": [],
      "execution_count": null
    },
    {
      "cell_type": "code",
      "source": [
        "df1.show()"
      ],
      "metadata": {
        "id": "QSj90rZ3H3yX",
        "outputId": "69ac3fd1-5d51-489c-ea23-822b08fb5d21",
        "application/vnd.databricks.v1+cell": {
          "title": "",
          "showTitle": false,
          "inputWidgets": {},
          "nuid": "5489f50d-33ab-4abb-a882-204f3b5f6334"
        }
      },
      "outputs": [
        {
          "output_type": "display_data",
          "metadata": {
            "application/vnd.databricks.v1+output": {
              "datasetInfos": [],
              "data": "+---------+--------+--------------------+------+\n|firstName|lastName|               email|salary|\n+---------+--------+--------------------+------+\n|  michael|armbrust|no-reply@berkeley...|100000|\n| xiangrui|    meng|no-reply@stanford...|120000|\n|    matei|    null|no-reply@waterloo...|140000|\n|     null| wendell|no-reply@berkeley...|160000|\n|  michael| jackson| no-reply@neverla.nd| 80000|\n+---------+--------+--------------------+------+\n\n",
              "removedWidgets": [],
              "addedWidgets": {},
              "metadata": {},
              "type": "ansi",
              "arguments": {}
            }
          },
          "data": {
            "text/plain": [
              "+---------+--------+--------------------+------+\n|firstName|lastName|               email|salary|\n+---------+--------+--------------------+------+\n|  michael|armbrust|no-reply@berkeley...|100000|\n| xiangrui|    meng|no-reply@stanford...|120000|\n|    matei|    null|no-reply@waterloo...|140000|\n|     null| wendell|no-reply@berkeley...|160000|\n|  michael| jackson| no-reply@neverla.nd| 80000|\n+---------+--------+--------------------+------+\n\n"
            ]
          }
        }
      ],
      "execution_count": null
    },
    {
      "cell_type": "code",
      "source": [
        "df1.drop('LastName').show()"
      ],
      "metadata": {
        "id": "zkeC0FaLH3yX",
        "outputId": "03630478-de6c-4186-a4de-a010caa2f9da",
        "application/vnd.databricks.v1+cell": {
          "title": "",
          "showTitle": false,
          "inputWidgets": {},
          "nuid": "6277da32-8e5a-4b18-8160-6acde569fc21"
        }
      },
      "outputs": [
        {
          "output_type": "display_data",
          "metadata": {
            "application/vnd.databricks.v1+output": {
              "datasetInfos": [],
              "data": "+---------+--------------------+------+\n|firstName|               email|salary|\n+---------+--------------------+------+\n|  michael|no-reply@berkeley...|100000|\n| xiangrui|no-reply@stanford...|120000|\n|    matei|no-reply@waterloo...|140000|\n|     null|no-reply@berkeley...|160000|\n|  michael| no-reply@neverla.nd| 80000|\n+---------+--------------------+------+\n\n",
              "removedWidgets": [],
              "addedWidgets": {},
              "metadata": {},
              "type": "ansi",
              "arguments": {}
            }
          },
          "data": {
            "text/plain": [
              "+---------+--------------------+------+\n|firstName|               email|salary|\n+---------+--------------------+------+\n|  michael|no-reply@berkeley...|100000|\n| xiangrui|no-reply@stanford...|120000|\n|    matei|no-reply@waterloo...|140000|\n|     null|no-reply@berkeley...|160000|\n|  michael| no-reply@neverla.nd| 80000|\n+---------+--------------------+------+\n\n"
            ]
          }
        }
      ],
      "execution_count": null
    },
    {
      "cell_type": "code",
      "source": [
        "# Remove the file if it exists\n",
        "dbutils.fs.rm(\"/tmp/databricks-df-example.parquet\", True)\n",
        "df1.write.format(\"parquet\").save(\"/tmp/databricks-df-example.parquet\")"
      ],
      "metadata": {
        "id": "J2bs7bwUH3yX",
        "application/vnd.databricks.v1+cell": {
          "title": "",
          "showTitle": false,
          "inputWidgets": {},
          "nuid": "9b0d6072-1bc9-4cb0-8c1c-b7516532e7fd"
        }
      },
      "outputs": [],
      "execution_count": null
    },
    {
      "cell_type": "code",
      "source": [
        "parquetDF = spark.read.format(\"parquet\").load(\"/tmp/databricks-df-example.parquet\")\n",
        "parquetDF.show(truncate=False)"
      ],
      "metadata": {
        "id": "AG8kQM7aH3yY",
        "outputId": "98ea4dcc-1c7f-4f1c-ae1b-8a292ed200fb",
        "application/vnd.databricks.v1+cell": {
          "title": "",
          "showTitle": false,
          "inputWidgets": {},
          "nuid": "0dda9773-0c9d-4645-b1c8-503d0f9a8aca"
        }
      },
      "outputs": [
        {
          "output_type": "display_data",
          "metadata": {
            "application/vnd.databricks.v1+output": {
              "datasetInfos": [],
              "data": "+---------+--------+---------------------+------+\n|firstName|lastName|email                |salary|\n+---------+--------+---------------------+------+\n|michael  |armbrust|no-reply@berkeley.edu|100000|\n|xiangrui |meng    |no-reply@stanford.edu|120000|\n|michael  |jackson |no-reply@neverla.nd  |80000 |\n|null     |wendell |no-reply@berkeley.edu|160000|\n|matei    |null    |no-reply@waterloo.edu|140000|\n+---------+--------+---------------------+------+\n\n",
              "removedWidgets": [],
              "addedWidgets": {},
              "metadata": {},
              "type": "ansi",
              "arguments": {}
            }
          },
          "data": {
            "text/plain": [
              "+---------+--------+---------------------+------+\n|firstName|lastName|email                |salary|\n+---------+--------+---------------------+------+\n|michael  |armbrust|no-reply@berkeley.edu|100000|\n|xiangrui |meng    |no-reply@stanford.edu|120000|\n|michael  |jackson |no-reply@neverla.nd  |80000 |\n|null     |wendell |no-reply@berkeley.edu|160000|\n|matei    |null    |no-reply@waterloo.edu|140000|\n+---------+--------+---------------------+------+\n\n"
            ]
          }
        }
      ],
      "execution_count": null
    },
    {
      "cell_type": "code",
      "source": [
        "departmentsWithEmployeesSeq1 = [departmentWithEmployees1, departmentWithEmployees2]\n",
        "df1 = spark.createDataFrame(departmentsWithEmployeesSeq1)\n",
        "\n",
        "df1.show(truncate=False)\n",
        "\n",
        "departmentsWithEmployeesSeq2 = [departmentWithEmployees3, departmentWithEmployees4]\n",
        "df2 = spark.createDataFrame(departmentsWithEmployeesSeq2)\n",
        "\n",
        "df2.show(truncate=False)"
      ],
      "metadata": {
        "id": "l6srnJaGH3yY",
        "outputId": "54956812-d14e-408e-cc23-2954e900a9df",
        "application/vnd.databricks.v1+cell": {
          "title": "",
          "showTitle": false,
          "inputWidgets": {},
          "nuid": "b8c83415-6518-418e-b963-f4848a757fa1"
        }
      },
      "outputs": [
        {
          "output_type": "display_data",
          "metadata": {
            "application/vnd.databricks.v1+output": {
              "datasetInfos": [],
              "data": "+--------------------------------+-----------------------------------------------------------------------------------------------------+\n|department                      |employees                                                                                            |\n+--------------------------------+-----------------------------------------------------------------------------------------------------+\n|{123456, Computer Science}      |[{michael, armbrust, no-reply@berkeley.edu, 100000}, {xiangrui, meng, no-reply@stanford.edu, 120000}]|\n|{789012, Mechanical Engineering}|[{matei, null, no-reply@waterloo.edu, 140000}, {null, wendell, no-reply@berkeley.edu, 160000}]       |\n+--------------------------------+-----------------------------------------------------------------------------------------------------+\n\n+---------------------------+------------------------------------------------------------------------------------------------+\n|department                 |employees                                                                                       |\n+---------------------------+------------------------------------------------------------------------------------------------+\n|{345678, Theater and Drama}|[{michael, jackson, no-reply@neverla.nd, 80000}, {null, wendell, no-reply@berkeley.edu, 160000}]|\n|{901234, Indoor Recreation}|[{xiangrui, meng, no-reply@stanford.edu, 120000}, {matei, null, no-reply@waterloo.edu, 140000}] |\n+---------------------------+------------------------------------------------------------------------------------------------+\n\n",
              "removedWidgets": [],
              "addedWidgets": {},
              "metadata": {},
              "type": "ansi",
              "arguments": {}
            }
          },
          "data": {
            "text/plain": [
              "+--------------------------------+-----------------------------------------------------------------------------------------------------+\n|department                      |employees                                                                                            |\n+--------------------------------+-----------------------------------------------------------------------------------------------------+\n|{123456, Computer Science}      |[{michael, armbrust, no-reply@berkeley.edu, 100000}, {xiangrui, meng, no-reply@stanford.edu, 120000}]|\n|{789012, Mechanical Engineering}|[{matei, null, no-reply@waterloo.edu, 140000}, {null, wendell, no-reply@berkeley.edu, 160000}]       |\n+--------------------------------+-----------------------------------------------------------------------------------------------------+\n\n+---------------------------+------------------------------------------------------------------------------------------------+\n|department                 |employees                                                                                       |\n+---------------------------+------------------------------------------------------------------------------------------------+\n|{345678, Theater and Drama}|[{michael, jackson, no-reply@neverla.nd, 80000}, {null, wendell, no-reply@berkeley.edu, 160000}]|\n|{901234, Indoor Recreation}|[{xiangrui, meng, no-reply@stanford.edu, 120000}, {matei, null, no-reply@waterloo.edu, 140000}] |\n+---------------------------+------------------------------------------------------------------------------------------------+\n\n"
            ]
          }
        }
      ],
      "execution_count": null
    },
    {
      "cell_type": "code",
      "source": [
        "unionDF = df1.union(df2)\n",
        "unionDF.show(truncate=False)"
      ],
      "metadata": {
        "id": "60MbCnx6H3yY",
        "outputId": "044a57a1-55c1-4b8e-9a3a-13289ff21fb5",
        "application/vnd.databricks.v1+cell": {
          "title": "",
          "showTitle": false,
          "inputWidgets": {},
          "nuid": "4ebb71fa-b6b9-4ace-81f0-2cfa5e605d39"
        }
      },
      "outputs": [
        {
          "output_type": "display_data",
          "metadata": {
            "application/vnd.databricks.v1+output": {
              "datasetInfos": [],
              "data": "+--------------------------------+-----------------------------------------------------------------------------------------------------+\n|department                      |employees                                                                                            |\n+--------------------------------+-----------------------------------------------------------------------------------------------------+\n|{123456, Computer Science}      |[{michael, armbrust, no-reply@berkeley.edu, 100000}, {xiangrui, meng, no-reply@stanford.edu, 120000}]|\n|{789012, Mechanical Engineering}|[{matei, null, no-reply@waterloo.edu, 140000}, {null, wendell, no-reply@berkeley.edu, 160000}]       |\n|{345678, Theater and Drama}     |[{michael, jackson, no-reply@neverla.nd, 80000}, {null, wendell, no-reply@berkeley.edu, 160000}]     |\n|{901234, Indoor Recreation}     |[{xiangrui, meng, no-reply@stanford.edu, 120000}, {matei, null, no-reply@waterloo.edu, 140000}]      |\n+--------------------------------+-----------------------------------------------------------------------------------------------------+\n\n",
              "removedWidgets": [],
              "addedWidgets": {},
              "metadata": {},
              "type": "ansi",
              "arguments": {}
            }
          },
          "data": {
            "text/plain": [
              "+--------------------------------+-----------------------------------------------------------------------------------------------------+\n|department                      |employees                                                                                            |\n+--------------------------------+-----------------------------------------------------------------------------------------------------+\n|{123456, Computer Science}      |[{michael, armbrust, no-reply@berkeley.edu, 100000}, {xiangrui, meng, no-reply@stanford.edu, 120000}]|\n|{789012, Mechanical Engineering}|[{matei, null, no-reply@waterloo.edu, 140000}, {null, wendell, no-reply@berkeley.edu, 160000}]       |\n|{345678, Theater and Drama}     |[{michael, jackson, no-reply@neverla.nd, 80000}, {null, wendell, no-reply@berkeley.edu, 160000}]     |\n|{901234, Indoor Recreation}     |[{xiangrui, meng, no-reply@stanford.edu, 120000}, {matei, null, no-reply@waterloo.edu, 140000}]      |\n+--------------------------------+-----------------------------------------------------------------------------------------------------+\n\n"
            ]
          }
        }
      ],
      "execution_count": null
    },
    {
      "cell_type": "code",
      "source": [
        "from pyspark.sql.functions import explode\n",
        "\n",
        "explodeDF = unionDF.select(explode(\"employees\").alias(\"e\"))\n",
        "flattenDF = explodeDF.selectExpr(\"e.firstName\", \"e.lastName\", \"e.email\", \"e.salary\")\n",
        "\n",
        "flattenDF.show(truncate=False)"
      ],
      "metadata": {
        "id": "cfUuAsFCH3yY",
        "outputId": "7ab8a879-0f41-4e9f-9262-96881f4d88d4",
        "application/vnd.databricks.v1+cell": {
          "title": "",
          "showTitle": false,
          "inputWidgets": {},
          "nuid": "7bb15283-bd58-43c0-8778-5792f3824d17"
        }
      },
      "outputs": [
        {
          "output_type": "display_data",
          "metadata": {
            "application/vnd.databricks.v1+output": {
              "datasetInfos": [],
              "data": "+---------+--------+---------------------+------+\n|firstName|lastName|email                |salary|\n+---------+--------+---------------------+------+\n|michael  |armbrust|no-reply@berkeley.edu|100000|\n|xiangrui |meng    |no-reply@stanford.edu|120000|\n|matei    |null    |no-reply@waterloo.edu|140000|\n|null     |wendell |no-reply@berkeley.edu|160000|\n|michael  |jackson |no-reply@neverla.nd  |80000 |\n|null     |wendell |no-reply@berkeley.edu|160000|\n|xiangrui |meng    |no-reply@stanford.edu|120000|\n|matei    |null    |no-reply@waterloo.edu|140000|\n+---------+--------+---------------------+------+\n\n",
              "removedWidgets": [],
              "addedWidgets": {},
              "metadata": {},
              "type": "ansi",
              "arguments": {}
            }
          },
          "data": {
            "text/plain": [
              "+---------+--------+---------------------+------+\n|firstName|lastName|email                |salary|\n+---------+--------+---------------------+------+\n|michael  |armbrust|no-reply@berkeley.edu|100000|\n|xiangrui |meng    |no-reply@stanford.edu|120000|\n|matei    |null    |no-reply@waterloo.edu|140000|\n|null     |wendell |no-reply@berkeley.edu|160000|\n|michael  |jackson |no-reply@neverla.nd  |80000 |\n|null     |wendell |no-reply@berkeley.edu|160000|\n|xiangrui |meng    |no-reply@stanford.edu|120000|\n|matei    |null    |no-reply@waterloo.edu|140000|\n+---------+--------+---------------------+------+\n\n"
            ]
          }
        }
      ],
      "execution_count": null
    },
    {
      "cell_type": "code",
      "source": [
        "explodeDF2 = unionDF.select(explode(\"department\").alias(\"d\"))\n",
        "flattenDF2 = explodeDF2.selectExpr(\"d.id\",\"d.name\")\n",
        "\n",
        "flattenDF2.show(truncate=False)"
      ],
      "metadata": {
        "id": "UWmF00kzH3yZ",
        "outputId": "791f55a5-45b7-48f4-aa17-ea4a4d0c5efb",
        "application/vnd.databricks.v1+cell": {
          "title": "",
          "showTitle": false,
          "inputWidgets": {},
          "nuid": "d71101bc-cb61-4e52-87b1-9d39d347522a"
        }
      },
      "outputs": [
        {
          "output_type": "display_data",
          "metadata": {
            "application/vnd.databricks.v1+output": {
              "data": "\u001b[0;31m---------------------------------------------------------------------------\u001b[0m\n\u001b[0;31mAnalysisException\u001b[0m                         Traceback (most recent call last)\n\u001b[0;32m<command-2353303162657079>\u001b[0m in \u001b[0;36m<module>\u001b[0;34m\u001b[0m\n\u001b[0;32m----> 1\u001b[0;31m \u001b[0mexplodeDF2\u001b[0m \u001b[0;34m=\u001b[0m \u001b[0munionDF\u001b[0m\u001b[0;34m.\u001b[0m\u001b[0mselect\u001b[0m\u001b[0;34m(\u001b[0m\u001b[0mexplode\u001b[0m\u001b[0;34m(\u001b[0m\u001b[0;34m\"department\"\u001b[0m\u001b[0;34m)\u001b[0m\u001b[0;34m.\u001b[0m\u001b[0malias\u001b[0m\u001b[0;34m(\u001b[0m\u001b[0;34m\"d\"\u001b[0m\u001b[0;34m)\u001b[0m\u001b[0;34m)\u001b[0m\u001b[0;34m\u001b[0m\u001b[0;34m\u001b[0m\u001b[0m\n\u001b[0m\u001b[1;32m      2\u001b[0m \u001b[0mflattenDF2\u001b[0m \u001b[0;34m=\u001b[0m \u001b[0mexplodeDF2\u001b[0m\u001b[0;34m.\u001b[0m\u001b[0mselectExpr\u001b[0m\u001b[0;34m(\u001b[0m\u001b[0;34m\"d.id\"\u001b[0m\u001b[0;34m,\u001b[0m\u001b[0;34m\"d.name\"\u001b[0m\u001b[0;34m)\u001b[0m\u001b[0;34m\u001b[0m\u001b[0;34m\u001b[0m\u001b[0m\n\u001b[1;32m      3\u001b[0m \u001b[0;34m\u001b[0m\u001b[0m\n\u001b[1;32m      4\u001b[0m \u001b[0mflattenDF2\u001b[0m\u001b[0;34m.\u001b[0m\u001b[0mshow\u001b[0m\u001b[0;34m(\u001b[0m\u001b[0mtruncate\u001b[0m\u001b[0;34m=\u001b[0m\u001b[0;32mFalse\u001b[0m\u001b[0;34m)\u001b[0m\u001b[0;34m\u001b[0m\u001b[0;34m\u001b[0m\u001b[0m\n\n\u001b[0;32m/databricks/spark/python/pyspark/sql/dataframe.py\u001b[0m in \u001b[0;36mselect\u001b[0;34m(self, *cols)\u001b[0m\n\u001b[1;32m   1824\u001b[0m         \u001b[0;34m[\u001b[0m\u001b[0mRow\u001b[0m\u001b[0;34m(\u001b[0m\u001b[0mname\u001b[0m\u001b[0;34m=\u001b[0m\u001b[0;34m'Alice'\u001b[0m\u001b[0;34m,\u001b[0m \u001b[0mage\u001b[0m\u001b[0;34m=\u001b[0m\u001b[0;36m12\u001b[0m\u001b[0;34m)\u001b[0m\u001b[0;34m,\u001b[0m \u001b[0mRow\u001b[0m\u001b[0;34m(\u001b[0m\u001b[0mname\u001b[0m\u001b[0;34m=\u001b[0m\u001b[0;34m'Bob'\u001b[0m\u001b[0;34m,\u001b[0m \u001b[0mage\u001b[0m\u001b[0;34m=\u001b[0m\u001b[0;36m15\u001b[0m\u001b[0;34m)\u001b[0m\u001b[0;34m]\u001b[0m\u001b[0;34m\u001b[0m\u001b[0;34m\u001b[0m\u001b[0m\n\u001b[1;32m   1825\u001b[0m         \"\"\"\n\u001b[0;32m-> 1826\u001b[0;31m         \u001b[0mjdf\u001b[0m \u001b[0;34m=\u001b[0m \u001b[0mself\u001b[0m\u001b[0;34m.\u001b[0m\u001b[0m_jdf\u001b[0m\u001b[0;34m.\u001b[0m\u001b[0mselect\u001b[0m\u001b[0;34m(\u001b[0m\u001b[0mself\u001b[0m\u001b[0;34m.\u001b[0m\u001b[0m_jcols\u001b[0m\u001b[0;34m(\u001b[0m\u001b[0;34m*\u001b[0m\u001b[0mcols\u001b[0m\u001b[0;34m)\u001b[0m\u001b[0;34m)\u001b[0m\u001b[0;34m\u001b[0m\u001b[0;34m\u001b[0m\u001b[0m\n\u001b[0m\u001b[1;32m   1827\u001b[0m         \u001b[0;32mreturn\u001b[0m \u001b[0mDataFrame\u001b[0m\u001b[0;34m(\u001b[0m\u001b[0mjdf\u001b[0m\u001b[0;34m,\u001b[0m \u001b[0mself\u001b[0m\u001b[0;34m.\u001b[0m\u001b[0msql_ctx\u001b[0m\u001b[0;34m)\u001b[0m\u001b[0;34m\u001b[0m\u001b[0;34m\u001b[0m\u001b[0m\n\u001b[1;32m   1828\u001b[0m \u001b[0;34m\u001b[0m\u001b[0m\n\n\u001b[0;32m/databricks/spark/python/lib/py4j-0.10.9.1-src.zip/py4j/java_gateway.py\u001b[0m in \u001b[0;36m__call__\u001b[0;34m(self, *args)\u001b[0m\n\u001b[1;32m   1302\u001b[0m \u001b[0;34m\u001b[0m\u001b[0m\n\u001b[1;32m   1303\u001b[0m         \u001b[0manswer\u001b[0m \u001b[0;34m=\u001b[0m \u001b[0mself\u001b[0m\u001b[0;34m.\u001b[0m\u001b[0mgateway_client\u001b[0m\u001b[0;34m.\u001b[0m\u001b[0msend_command\u001b[0m\u001b[0;34m(\u001b[0m\u001b[0mcommand\u001b[0m\u001b[0;34m)\u001b[0m\u001b[0;34m\u001b[0m\u001b[0;34m\u001b[0m\u001b[0m\n\u001b[0;32m-> 1304\u001b[0;31m         return_value = get_return_value(\n\u001b[0m\u001b[1;32m   1305\u001b[0m             answer, self.gateway_client, self.target_id, self.name)\n\u001b[1;32m   1306\u001b[0m \u001b[0;34m\u001b[0m\u001b[0m\n\n\u001b[0;32m/databricks/spark/python/pyspark/sql/utils.py\u001b[0m in \u001b[0;36mdeco\u001b[0;34m(*a, **kw)\u001b[0m\n\u001b[1;32m    121\u001b[0m                 \u001b[0;31m# Hide where the exception came from that shows a non-Pythonic\u001b[0m\u001b[0;34m\u001b[0m\u001b[0;34m\u001b[0m\u001b[0;34m\u001b[0m\u001b[0m\n\u001b[1;32m    122\u001b[0m                 \u001b[0;31m# JVM exception message.\u001b[0m\u001b[0;34m\u001b[0m\u001b[0;34m\u001b[0m\u001b[0;34m\u001b[0m\u001b[0m\n\u001b[0;32m--> 123\u001b[0;31m                 \u001b[0;32mraise\u001b[0m \u001b[0mconverted\u001b[0m \u001b[0;32mfrom\u001b[0m \u001b[0;32mNone\u001b[0m\u001b[0;34m\u001b[0m\u001b[0;34m\u001b[0m\u001b[0m\n\u001b[0m\u001b[1;32m    124\u001b[0m             \u001b[0;32melse\u001b[0m\u001b[0;34m:\u001b[0m\u001b[0;34m\u001b[0m\u001b[0;34m\u001b[0m\u001b[0m\n\u001b[1;32m    125\u001b[0m                 \u001b[0;32mraise\u001b[0m\u001b[0;34m\u001b[0m\u001b[0;34m\u001b[0m\u001b[0m\n\n\u001b[0;31mAnalysisException\u001b[0m: cannot resolve 'explode(department)' due to data type mismatch: input to function explode should be array or map type, not struct<id:string,name:string>;\n'Project [explode(department#1000) AS d#1067]\n+- Union false, false\n   :- LogicalRDD [department#1000, employees#1001], false\n   +- LogicalRDD [department#1013, employees#1014], false\n",
              "errorSummary": "<span class='ansi-red-fg'>AnalysisException</span>: cannot resolve 'explode(department)' due to data type mismatch: input to function explode should be array or map type, not struct<id:string,name:string>;\n'Project [explode(department#1000) AS d#1067]\n+- Union false, false\n   :- LogicalRDD [department#1000, employees#1001], false\n   +- LogicalRDD [department#1013, employees#1014], false\n",
              "metadata": {},
              "errorTraceType": "ansi",
              "type": "ipynbError",
              "arguments": {}
            }
          },
          "data": {
            "text/plain": [
              "\u001b[0;31m---------------------------------------------------------------------------\u001b[0m\n\u001b[0;31mAnalysisException\u001b[0m                         Traceback (most recent call last)\n\u001b[0;32m<command-2353303162657079>\u001b[0m in \u001b[0;36m<module>\u001b[0;34m\u001b[0m\n\u001b[0;32m----> 1\u001b[0;31m \u001b[0mexplodeDF2\u001b[0m \u001b[0;34m=\u001b[0m \u001b[0munionDF\u001b[0m\u001b[0;34m.\u001b[0m\u001b[0mselect\u001b[0m\u001b[0;34m(\u001b[0m\u001b[0mexplode\u001b[0m\u001b[0;34m(\u001b[0m\u001b[0;34m\"department\"\u001b[0m\u001b[0;34m)\u001b[0m\u001b[0;34m.\u001b[0m\u001b[0malias\u001b[0m\u001b[0;34m(\u001b[0m\u001b[0;34m\"d\"\u001b[0m\u001b[0;34m)\u001b[0m\u001b[0;34m)\u001b[0m\u001b[0;34m\u001b[0m\u001b[0;34m\u001b[0m\u001b[0m\n\u001b[0m\u001b[1;32m      2\u001b[0m \u001b[0mflattenDF2\u001b[0m \u001b[0;34m=\u001b[0m \u001b[0mexplodeDF2\u001b[0m\u001b[0;34m.\u001b[0m\u001b[0mselectExpr\u001b[0m\u001b[0;34m(\u001b[0m\u001b[0;34m\"d.id\"\u001b[0m\u001b[0;34m,\u001b[0m\u001b[0;34m\"d.name\"\u001b[0m\u001b[0;34m)\u001b[0m\u001b[0;34m\u001b[0m\u001b[0;34m\u001b[0m\u001b[0m\n\u001b[1;32m      3\u001b[0m \u001b[0;34m\u001b[0m\u001b[0m\n\u001b[1;32m      4\u001b[0m \u001b[0mflattenDF2\u001b[0m\u001b[0;34m.\u001b[0m\u001b[0mshow\u001b[0m\u001b[0;34m(\u001b[0m\u001b[0mtruncate\u001b[0m\u001b[0;34m=\u001b[0m\u001b[0;32mFalse\u001b[0m\u001b[0;34m)\u001b[0m\u001b[0;34m\u001b[0m\u001b[0;34m\u001b[0m\u001b[0m\n\n\u001b[0;32m/databricks/spark/python/pyspark/sql/dataframe.py\u001b[0m in \u001b[0;36mselect\u001b[0;34m(self, *cols)\u001b[0m\n\u001b[1;32m   1824\u001b[0m         \u001b[0;34m[\u001b[0m\u001b[0mRow\u001b[0m\u001b[0;34m(\u001b[0m\u001b[0mname\u001b[0m\u001b[0;34m=\u001b[0m\u001b[0;34m'Alice'\u001b[0m\u001b[0;34m,\u001b[0m \u001b[0mage\u001b[0m\u001b[0;34m=\u001b[0m\u001b[0;36m12\u001b[0m\u001b[0;34m)\u001b[0m\u001b[0;34m,\u001b[0m \u001b[0mRow\u001b[0m\u001b[0;34m(\u001b[0m\u001b[0mname\u001b[0m\u001b[0;34m=\u001b[0m\u001b[0;34m'Bob'\u001b[0m\u001b[0;34m,\u001b[0m \u001b[0mage\u001b[0m\u001b[0;34m=\u001b[0m\u001b[0;36m15\u001b[0m\u001b[0;34m)\u001b[0m\u001b[0;34m]\u001b[0m\u001b[0;34m\u001b[0m\u001b[0;34m\u001b[0m\u001b[0m\n\u001b[1;32m   1825\u001b[0m         \"\"\"\n\u001b[0;32m-> 1826\u001b[0;31m         \u001b[0mjdf\u001b[0m \u001b[0;34m=\u001b[0m \u001b[0mself\u001b[0m\u001b[0;34m.\u001b[0m\u001b[0m_jdf\u001b[0m\u001b[0;34m.\u001b[0m\u001b[0mselect\u001b[0m\u001b[0;34m(\u001b[0m\u001b[0mself\u001b[0m\u001b[0;34m.\u001b[0m\u001b[0m_jcols\u001b[0m\u001b[0;34m(\u001b[0m\u001b[0;34m*\u001b[0m\u001b[0mcols\u001b[0m\u001b[0;34m)\u001b[0m\u001b[0;34m)\u001b[0m\u001b[0;34m\u001b[0m\u001b[0;34m\u001b[0m\u001b[0m\n\u001b[0m\u001b[1;32m   1827\u001b[0m         \u001b[0;32mreturn\u001b[0m \u001b[0mDataFrame\u001b[0m\u001b[0;34m(\u001b[0m\u001b[0mjdf\u001b[0m\u001b[0;34m,\u001b[0m \u001b[0mself\u001b[0m\u001b[0;34m.\u001b[0m\u001b[0msql_ctx\u001b[0m\u001b[0;34m)\u001b[0m\u001b[0;34m\u001b[0m\u001b[0;34m\u001b[0m\u001b[0m\n\u001b[1;32m   1828\u001b[0m \u001b[0;34m\u001b[0m\u001b[0m\n\n\u001b[0;32m/databricks/spark/python/lib/py4j-0.10.9.1-src.zip/py4j/java_gateway.py\u001b[0m in \u001b[0;36m__call__\u001b[0;34m(self, *args)\u001b[0m\n\u001b[1;32m   1302\u001b[0m \u001b[0;34m\u001b[0m\u001b[0m\n\u001b[1;32m   1303\u001b[0m         \u001b[0manswer\u001b[0m \u001b[0;34m=\u001b[0m \u001b[0mself\u001b[0m\u001b[0;34m.\u001b[0m\u001b[0mgateway_client\u001b[0m\u001b[0;34m.\u001b[0m\u001b[0msend_command\u001b[0m\u001b[0;34m(\u001b[0m\u001b[0mcommand\u001b[0m\u001b[0;34m)\u001b[0m\u001b[0;34m\u001b[0m\u001b[0;34m\u001b[0m\u001b[0m\n\u001b[0;32m-> 1304\u001b[0;31m         return_value = get_return_value(\n\u001b[0m\u001b[1;32m   1305\u001b[0m             answer, self.gateway_client, self.target_id, self.name)\n\u001b[1;32m   1306\u001b[0m \u001b[0;34m\u001b[0m\u001b[0m\n\n\u001b[0;32m/databricks/spark/python/pyspark/sql/utils.py\u001b[0m in \u001b[0;36mdeco\u001b[0;34m(*a, **kw)\u001b[0m\n\u001b[1;32m    121\u001b[0m                 \u001b[0;31m# Hide where the exception came from that shows a non-Pythonic\u001b[0m\u001b[0;34m\u001b[0m\u001b[0;34m\u001b[0m\u001b[0;34m\u001b[0m\u001b[0m\n\u001b[1;32m    122\u001b[0m                 \u001b[0;31m# JVM exception message.\u001b[0m\u001b[0;34m\u001b[0m\u001b[0;34m\u001b[0m\u001b[0;34m\u001b[0m\u001b[0m\n\u001b[0;32m--> 123\u001b[0;31m                 \u001b[0;32mraise\u001b[0m \u001b[0mconverted\u001b[0m \u001b[0;32mfrom\u001b[0m \u001b[0;32mNone\u001b[0m\u001b[0;34m\u001b[0m\u001b[0;34m\u001b[0m\u001b[0m\n\u001b[0m\u001b[1;32m    124\u001b[0m             \u001b[0;32melse\u001b[0m\u001b[0;34m:\u001b[0m\u001b[0;34m\u001b[0m\u001b[0;34m\u001b[0m\u001b[0m\n\u001b[1;32m    125\u001b[0m                 \u001b[0;32mraise\u001b[0m\u001b[0;34m\u001b[0m\u001b[0;34m\u001b[0m\u001b[0m\n\n\u001b[0;31mAnalysisException\u001b[0m: cannot resolve 'explode(department)' due to data type mismatch: input to function explode should be array or map type, not struct<id:string,name:string>;\n'Project [explode(department#1000) AS d#1067]\n+- Union false, false\n   :- LogicalRDD [department#1000, employees#1001], false\n   +- LogicalRDD [department#1013, employees#1014], false\n"
            ]
          }
        }
      ],
      "execution_count": null
    },
    {
      "cell_type": "code",
      "source": [
        "filterDF = flattenDF.filter(flattenDF.firstName == \"xiangrui\").sort(flattenDF.lastName)\n",
        "filterDF.show(truncate=False)"
      ],
      "metadata": {
        "id": "J5Iat2jfH3yZ",
        "outputId": "5ae33c68-7dba-4df1-c045-f8fcc1abbcfa",
        "application/vnd.databricks.v1+cell": {
          "title": "",
          "showTitle": false,
          "inputWidgets": {},
          "nuid": "b0820b9f-f66b-4cf5-afa5-b07d01b7f650"
        }
      },
      "outputs": [
        {
          "output_type": "display_data",
          "metadata": {
            "application/vnd.databricks.v1+output": {
              "datasetInfos": [],
              "data": "+---------+--------+---------------------+------+\n|firstName|lastName|email                |salary|\n+---------+--------+---------------------+------+\n|xiangrui |meng    |no-reply@stanford.edu|120000|\n|xiangrui |meng    |no-reply@stanford.edu|120000|\n+---------+--------+---------------------+------+\n\n",
              "removedWidgets": [],
              "addedWidgets": {},
              "metadata": {},
              "type": "ansi",
              "arguments": {}
            }
          },
          "data": {
            "text/plain": [
              "+---------+--------+---------------------+------+\n|firstName|lastName|email                |salary|\n+---------+--------+---------------------+------+\n|xiangrui |meng    |no-reply@stanford.edu|120000|\n|xiangrui |meng    |no-reply@stanford.edu|120000|\n+---------+--------+---------------------+------+\n\n"
            ]
          }
        }
      ],
      "execution_count": null
    },
    {
      "cell_type": "code",
      "source": [
        "@pandas_udf(\"integer\")\n",
        "def plus_one(seies: pd.Series)->pd.series:\n",
        "  return series+1\n",
        "spark.udf.register('plus_one', plus_one)\n",
        "spark.sql(\"select plus_one v1 from tableA\").show()"
      ],
      "metadata": {
        "id": "wSYTzaOHH3yZ",
        "application/vnd.databricks.v1+cell": {
          "title": "",
          "showTitle": false,
          "inputWidgets": {},
          "nuid": "b1d983fe-2a42-466d-8752-58e9f92dd1b2"
        }
      },
      "outputs": [],
      "execution_count": null
    }
  ],
  "metadata": {
    "colab": {
      "provenance": [],
      "include_colab_link": true
    },
    "application/vnd.databricks.v1+notebook": {
      "notebookName": "3_PySpark",
      "dashboards": [],
      "notebookMetadata": {
        "pythonIndentUnit": 4
      },
      "language": "python",
      "widgets": {},
      "notebookOrigID": 41402788559011
    }
  },
  "nbformat": 4,
  "nbformat_minor": 0
}