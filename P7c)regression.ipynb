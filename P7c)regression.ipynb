{
  "cells": [
    {
      "cell_type": "markdown",
      "metadata": {
        "id": "view-in-github",
        "colab_type": "text"
      },
      "source": [
        "<a href=\"https://colab.research.google.com/github/siddheshpednekar/bdapracticals_sem3/blob/main/P7c)regression.ipynb\" target=\"_parent\"><img src=\"https://colab.research.google.com/assets/colab-badge.svg\" alt=\"Open In Colab\"/></a>"
      ]
    },
    {
      "cell_type": "code",
      "source": [
        "from pyspark.ml.regression import LinearRegression"
      ],
      "metadata": {
        "application/vnd.databricks.v1+cell": {
          "title": "",
          "showTitle": false,
          "inputWidgets": {},
          "nuid": "7d7ecd3b-612d-4b89-80cb-2b13159e108b"
        },
        "id": "6rQJarborSke"
      },
      "outputs": [],
      "execution_count": null
    },
    {
      "cell_type": "code",
      "source": [
        "# Load training data\n",
        "training = spark.read.format(\"libsvm\")\\\n",
        "    .load(\"dbfs:/FileStore/shared_uploads/sejalarya2000@gmail.com/sample_linear_regression_data.txt\")\n"
      ],
      "metadata": {
        "application/vnd.databricks.v1+cell": {
          "title": "",
          "showTitle": false,
          "inputWidgets": {},
          "nuid": "c8d69d29-e137-4236-9a28-ae7d35a88950"
        },
        "id": "hcU6KqeJrSkh"
      },
      "outputs": [],
      "execution_count": null
    },
    {
      "cell_type": "code",
      "source": [
        "lr = LinearRegression(maxIter=10, regParam=0.3, elasticNetParam=0.8)"
      ],
      "metadata": {
        "application/vnd.databricks.v1+cell": {
          "title": "",
          "showTitle": false,
          "inputWidgets": {},
          "nuid": "0d1db82a-dd4e-4132-8b22-608da6a507af"
        },
        "id": "EPh2IP8PrSki"
      },
      "outputs": [],
      "execution_count": null
    },
    {
      "cell_type": "code",
      "source": [
        "# Fit the model\n",
        "lrModel = lr.fit(training)"
      ],
      "metadata": {
        "application/vnd.databricks.v1+cell": {
          "title": "",
          "showTitle": false,
          "inputWidgets": {},
          "nuid": "66d89f83-7d2a-4ad7-b9d4-7ea3b6bce8be"
        },
        "id": "Q0_4rauyrSki"
      },
      "outputs": [],
      "execution_count": null
    },
    {
      "cell_type": "code",
      "source": [
        "# Print the coefficients and intercept for linear regression\n",
        "print(\"Coefficients: %s\" % str(lrModel.coefficients))\n",
        "print(\"Intercept: %s\" % str(lrModel.intercept))"
      ],
      "metadata": {
        "application/vnd.databricks.v1+cell": {
          "title": "",
          "showTitle": false,
          "inputWidgets": {},
          "nuid": "c015d2a0-7230-4d84-be55-182c6ff3f7b1"
        },
        "id": "XZShGBhrrSkj",
        "outputId": "ed5ee950-9fec-4156-c500-bbe7221b3617"
      },
      "outputs": [
        {
          "output_type": "display_data",
          "metadata": {
            "application/vnd.databricks.v1+output": {
              "datasetInfos": [],
              "data": "Coefficients: [0.0,0.3229251667740594,-0.3438548034562219,1.915601702345841,0.05288058680386255,0.765962720459771,0.0,-0.15105392669186676,-0.21587930360904645,0.2202536918881343]\nIntercept: 0.15989368442397356\n",
              "removedWidgets": [],
              "addedWidgets": {},
              "metadata": {},
              "type": "ansi",
              "arguments": {}
            }
          },
          "data": {
            "text/plain": [
              "Coefficients: [0.0,0.3229251667740594,-0.3438548034562219,1.915601702345841,0.05288058680386255,0.765962720459771,0.0,-0.15105392669186676,-0.21587930360904645,0.2202536918881343]\nIntercept: 0.15989368442397356\n"
            ]
          }
        }
      ],
      "execution_count": null
    },
    {
      "cell_type": "code",
      "source": [
        "# \n",
        "trainingSummary = lrModel.summary"
      ],
      "metadata": {
        "application/vnd.databricks.v1+cell": {
          "title": "",
          "showTitle": false,
          "inputWidgets": {},
          "nuid": "7962cb5b-a090-4e08-9506-2ec91cc3db07"
        },
        "id": "WFyKR-D2rSkk"
      },
      "outputs": [],
      "execution_count": null
    },
    {
      "cell_type": "code",
      "source": [
        "print(\"numIterations: %d\" % trainingSummary.totalIterations)"
      ],
      "metadata": {
        "application/vnd.databricks.v1+cell": {
          "title": "",
          "showTitle": false,
          "inputWidgets": {},
          "nuid": "993cfba1-0bf4-40a6-8982-9a6bc28307ec"
        },
        "id": "e2Nsvr0FrSkk",
        "outputId": "105588c5-1c9c-4da2-db81-2c3c89f33a52"
      },
      "outputs": [
        {
          "output_type": "display_data",
          "metadata": {
            "application/vnd.databricks.v1+output": {
              "datasetInfos": [],
              "data": "numIterations: 6\n",
              "removedWidgets": [],
              "addedWidgets": {},
              "metadata": {},
              "type": "ansi",
              "arguments": {}
            }
          },
          "data": {
            "text/plain": [
              "numIterations: 6\n"
            ]
          }
        }
      ],
      "execution_count": null
    },
    {
      "cell_type": "code",
      "source": [
        "print(\"objectiveHistory: %s\" % str(trainingSummary.objectiveHistory))"
      ],
      "metadata": {
        "application/vnd.databricks.v1+cell": {
          "title": "",
          "showTitle": false,
          "inputWidgets": {},
          "nuid": "f3684e0c-dd4b-4c5f-a27f-8e09b6deafff"
        },
        "id": "h6tPCVndrSkl",
        "outputId": "e351cee3-8b6b-4526-98fe-96ba987bf85b"
      },
      "outputs": [
        {
          "output_type": "display_data",
          "metadata": {
            "application/vnd.databricks.v1+output": {
              "datasetInfos": [],
              "data": "objectiveHistory: [0.49999999999999994, 0.4967620357443381, 0.49363616643404634, 0.4936351537897608, 0.4936351214177871, 0.49363512062528014, 0.4936351206216114]\n",
              "removedWidgets": [],
              "addedWidgets": {},
              "metadata": {},
              "type": "ansi",
              "arguments": {}
            }
          },
          "data": {
            "text/plain": [
              "objectiveHistory: [0.49999999999999994, 0.4967620357443381, 0.49363616643404634, 0.4936351537897608, 0.4936351214177871, 0.49363512062528014, 0.4936351206216114]\n"
            ]
          }
        }
      ],
      "execution_count": null
    },
    {
      "cell_type": "code",
      "source": [
        "trainingSummary.residuals.show()"
      ],
      "metadata": {
        "application/vnd.databricks.v1+cell": {
          "title": "",
          "showTitle": false,
          "inputWidgets": {},
          "nuid": "fb728e1c-ca91-441f-9cbb-b365ec286bdf"
        },
        "id": "MypTP4DrrSkl",
        "outputId": "85921b8d-090f-4438-93c3-e72d620e24ae"
      },
      "outputs": [
        {
          "output_type": "display_data",
          "metadata": {
            "application/vnd.databricks.v1+output": {
              "datasetInfos": [],
              "data": "/databricks/spark/python/pyspark/sql/context.py:134: FutureWarning: Deprecated in 3.0.0. Use SparkSession.builder.getOrCreate() instead.\n  warnings.warn(\n+--------------------+\n|           residuals|\n+--------------------+\n|  -9.889232683103197|\n|  0.5533794340053553|\n|  -5.204019455758822|\n| -20.566686715507508|\n|    -9.4497405180564|\n|  -6.909112502719487|\n|  -10.00431602969873|\n|  2.0623978070504845|\n|  3.1117508432954772|\n|  -15.89360822941938|\n|  -5.036284254673026|\n|  6.4832158769943335|\n|  12.429497299109002|\n|  -20.32003219007654|\n|    -2.0049838218725|\n| -17.867901734183793|\n|   7.646455887420495|\n| -2.2653482182417406|\n|-0.10308920436195645|\n|  -1.380034070385301|\n+--------------------+\nonly showing top 20 rows\n\n",
              "removedWidgets": [],
              "addedWidgets": {},
              "metadata": {},
              "type": "ansi",
              "arguments": {}
            }
          },
          "data": {
            "text/plain": [
              "/databricks/spark/python/pyspark/sql/context.py:134: FutureWarning: Deprecated in 3.0.0. Use SparkSession.builder.getOrCreate() instead.\n  warnings.warn(\n+--------------------+\n|           residuals|\n+--------------------+\n|  -9.889232683103197|\n|  0.5533794340053553|\n|  -5.204019455758822|\n| -20.566686715507508|\n|    -9.4497405180564|\n|  -6.909112502719487|\n|  -10.00431602969873|\n|  2.0623978070504845|\n|  3.1117508432954772|\n|  -15.89360822941938|\n|  -5.036284254673026|\n|  6.4832158769943335|\n|  12.429497299109002|\n|  -20.32003219007654|\n|    -2.0049838218725|\n| -17.867901734183793|\n|   7.646455887420495|\n| -2.2653482182417406|\n|-0.10308920436195645|\n|  -1.380034070385301|\n+--------------------+\nonly showing top 20 rows\n\n"
            ]
          }
        }
      ],
      "execution_count": null
    },
    {
      "cell_type": "code",
      "source": [
        "print(\"RMSE: %f\" % trainingSummary.rootMeanSquaredError)"
      ],
      "metadata": {
        "application/vnd.databricks.v1+cell": {
          "title": "",
          "showTitle": false,
          "inputWidgets": {},
          "nuid": "6120a139-8f61-4b2d-a1d1-8db14863a310"
        },
        "id": "MjnWNLgJrSkm",
        "outputId": "17af4c4c-4cd3-47ce-b201-1f8a7bf877cc"
      },
      "outputs": [
        {
          "output_type": "display_data",
          "metadata": {
            "application/vnd.databricks.v1+output": {
              "datasetInfos": [],
              "data": "RMSE: 10.189077\n",
              "removedWidgets": [],
              "addedWidgets": {},
              "metadata": {},
              "type": "ansi",
              "arguments": {}
            }
          },
          "data": {
            "text/plain": [
              "RMSE: 10.189077\n"
            ]
          }
        }
      ],
      "execution_count": null
    },
    {
      "cell_type": "code",
      "source": [
        "print(\"r2: %f\" % trainingSummary.r2)"
      ],
      "metadata": {
        "application/vnd.databricks.v1+cell": {
          "title": "",
          "showTitle": false,
          "inputWidgets": {},
          "nuid": "78fb6d59-aeb8-4ca8-b6ae-4c6a71e494f1"
        },
        "id": "SoqMtA29rSkm",
        "outputId": "33e3e2f7-849c-40e2-dfbf-35a60eca5cb0"
      },
      "outputs": [
        {
          "output_type": "display_data",
          "metadata": {
            "application/vnd.databricks.v1+output": {
              "datasetInfos": [],
              "data": "r2: 0.022861\n",
              "removedWidgets": [],
              "addedWidgets": {},
              "metadata": {},
              "type": "ansi",
              "arguments": {}
            }
          },
          "data": {
            "text/plain": [
              "r2: 0.022861\n"
            ]
          }
        }
      ],
      "execution_count": null
    },
    {
      "cell_type": "code",
      "source": [
        "#Decision Tree Regression"
      ],
      "metadata": {
        "application/vnd.databricks.v1+cell": {
          "title": "",
          "showTitle": false,
          "inputWidgets": {},
          "nuid": "5358186a-0ab5-43db-b491-6b2f1f74c0c7"
        },
        "id": "lgkkJeDtrSkn"
      },
      "outputs": [],
      "execution_count": null
    },
    {
      "cell_type": "code",
      "source": [
        "from pyspark.ml import Pipeline\n",
        "from pyspark.ml.regression import DecisionTreeRegressor\n",
        "from pyspark.ml.feature import VectorIndexer\n",
        "from pyspark.ml.evaluation import RegressionEvaluator\n"
      ],
      "metadata": {
        "application/vnd.databricks.v1+cell": {
          "title": "",
          "showTitle": false,
          "inputWidgets": {},
          "nuid": "d3ebf4a0-c3cc-403d-bd53-eebf752db7dd"
        },
        "id": "Qm1v_9fCrSkn"
      },
      "outputs": [],
      "execution_count": null
    },
    {
      "cell_type": "code",
      "source": [
        "# Load the data stored in LIBSVM format as a DataFrame.\n",
        "data = spark.read.format(\"libsvm\").load(\"dbfs:/FileStore/shared_uploads/sejalarya2000@gmail.com/sample_linear_regression_data.txt\")"
      ],
      "metadata": {
        "application/vnd.databricks.v1+cell": {
          "title": "",
          "showTitle": false,
          "inputWidgets": {},
          "nuid": "a1f79c2c-acac-4de1-9516-91923bf46fb3"
        },
        "id": "UYXzrxHyrSkn"
      },
      "outputs": [],
      "execution_count": null
    },
    {
      "cell_type": "code",
      "source": [
        "# Automatically identify categorical features, and index them.\n",
        "# We specify maxCategories so features with > 4 distinct values are treated as continuous.\n",
        "featureIndexer =\\\n",
        "    VectorIndexer(inputCol=\"features\", outputCol=\"indexedFeatures\", maxCategories=4).fit(data)"
      ],
      "metadata": {
        "application/vnd.databricks.v1+cell": {
          "title": "",
          "showTitle": false,
          "inputWidgets": {},
          "nuid": "253b8a3f-6f0c-4404-97cf-063a51fbd2bc"
        },
        "id": "nRhu5o6wrSko"
      },
      "outputs": [],
      "execution_count": null
    },
    {
      "cell_type": "code",
      "source": [
        "# Split the data into training and test sets (30% held out for testing)\n",
        "(trainingData, testData) = data.randomSplit([0.7, 0.3])"
      ],
      "metadata": {
        "application/vnd.databricks.v1+cell": {
          "title": "",
          "showTitle": false,
          "inputWidgets": {},
          "nuid": "e9b982a3-3c66-456b-b7c5-b673b37f6565"
        },
        "id": "oxWzCBsLrSko"
      },
      "outputs": [],
      "execution_count": null
    },
    {
      "cell_type": "code",
      "source": [
        "# Train a DecisionTree model.\n",
        "dt = DecisionTreeRegressor(featuresCol=\"indexedFeatures\")"
      ],
      "metadata": {
        "application/vnd.databricks.v1+cell": {
          "title": "",
          "showTitle": false,
          "inputWidgets": {},
          "nuid": "f37d3bf3-3c4d-4c75-8e9d-40baff879d88"
        },
        "id": "fmCU0lixrSko"
      },
      "outputs": [],
      "execution_count": null
    },
    {
      "cell_type": "code",
      "source": [
        "# Chain indexer and tree in a Pipeline\n",
        "pipeline = Pipeline(stages=[featureIndexer, dt])\n"
      ],
      "metadata": {
        "application/vnd.databricks.v1+cell": {
          "title": "",
          "showTitle": false,
          "inputWidgets": {},
          "nuid": "0dbb20d0-f03d-4491-aec9-0372cc2bd41d"
        },
        "id": "yQy1x1YDrSkp"
      },
      "outputs": [],
      "execution_count": null
    },
    {
      "cell_type": "code",
      "source": [
        "# Train model.  This also runs the indexer.\n",
        "model = pipeline.fit(trainingData)"
      ],
      "metadata": {
        "application/vnd.databricks.v1+cell": {
          "title": "",
          "showTitle": false,
          "inputWidgets": {},
          "nuid": "56edf6ce-07bb-4a6a-a609-3cf0923e8b91"
        },
        "id": "r5ksM8qvrSkp"
      },
      "outputs": [],
      "execution_count": null
    },
    {
      "cell_type": "code",
      "source": [
        "# Make predictions.\n",
        "predictions = model.transform(testData)\n"
      ],
      "metadata": {
        "application/vnd.databricks.v1+cell": {
          "title": "",
          "showTitle": false,
          "inputWidgets": {},
          "nuid": "b5a09817-f2b0-4483-b3d9-94003a7283fe"
        },
        "id": "fBP5nCdrrSkp"
      },
      "outputs": [],
      "execution_count": null
    },
    {
      "cell_type": "code",
      "source": [
        "# Select example rows to display.\n",
        "predictions.select(\"prediction\", \"label\", \"features\").show(5)"
      ],
      "metadata": {
        "application/vnd.databricks.v1+cell": {
          "title": "",
          "showTitle": false,
          "inputWidgets": {},
          "nuid": "51b2dedd-ed82-492a-9dde-acc6ca69eb09"
        },
        "id": "bNKmaJq2rSkp",
        "outputId": "b310d120-e3ab-47bf-e274-1bba90833406"
      },
      "outputs": [
        {
          "output_type": "display_data",
          "metadata": {
            "application/vnd.databricks.v1+output": {
              "datasetInfos": [],
              "data": "+-------------------+-------------------+--------------------+\n|         prediction|              label|            features|\n+-------------------+-------------------+--------------------+\n|-1.6668250062854244|-28.571478869743427|(10,[0,1,2,3,4,5,...|\n|-1.6668250062854244|-26.736207182601724|(10,[0,1,2,3,4,5,...|\n|  5.362515535476564|-22.949825936196074|(10,[0,1,2,3,4,5,...|\n|  7.129843768862276|-20.212077258958672|(10,[0,1,2,3,4,5,...|\n| 1.4599636103415599|-17.803626188664516|(10,[0,1,2,3,4,5,...|\n+-------------------+-------------------+--------------------+\nonly showing top 5 rows\n\n",
              "removedWidgets": [],
              "addedWidgets": {},
              "metadata": {},
              "type": "ansi",
              "arguments": {}
            }
          },
          "data": {
            "text/plain": [
              "+-------------------+-------------------+--------------------+\n|         prediction|              label|            features|\n+-------------------+-------------------+--------------------+\n|-1.6668250062854244|-28.571478869743427|(10,[0,1,2,3,4,5,...|\n|-1.6668250062854244|-26.736207182601724|(10,[0,1,2,3,4,5,...|\n|  5.362515535476564|-22.949825936196074|(10,[0,1,2,3,4,5,...|\n|  7.129843768862276|-20.212077258958672|(10,[0,1,2,3,4,5,...|\n| 1.4599636103415599|-17.803626188664516|(10,[0,1,2,3,4,5,...|\n+-------------------+-------------------+--------------------+\nonly showing top 5 rows\n\n"
            ]
          }
        }
      ],
      "execution_count": null
    },
    {
      "cell_type": "code",
      "source": [
        "# \n",
        "evaluator = RegressionEvaluator(\n",
        "    labelCol=\"label\", predictionCol=\"prediction\", metricName=\"rmse\")\n",
        "rmse = evaluator.evaluate(predictions)\n",
        "print(\"Root Mean Squared Error (RMSE) on test data = %g\" % rmse)\n"
      ],
      "metadata": {
        "application/vnd.databricks.v1+cell": {
          "title": "",
          "showTitle": false,
          "inputWidgets": {},
          "nuid": "aca48141-b4c3-4871-a3a4-b0fca72162fa"
        },
        "id": "jIQkLTbxrSkq",
        "outputId": "d37addfd-be1f-45c0-b695-f9127ef4b414"
      },
      "outputs": [
        {
          "output_type": "display_data",
          "metadata": {
            "application/vnd.databricks.v1+output": {
              "datasetInfos": [],
              "data": "Root Mean Squared Error (RMSE) on test data = 12.5759\n",
              "removedWidgets": [],
              "addedWidgets": {},
              "metadata": {},
              "type": "ansi",
              "arguments": {}
            }
          },
          "data": {
            "text/plain": [
              "Root Mean Squared Error (RMSE) on test data = 12.5759\n"
            ]
          }
        }
      ],
      "execution_count": null
    },
    {
      "cell_type": "code",
      "source": [
        "treeModel = model.stages[1]"
      ],
      "metadata": {
        "application/vnd.databricks.v1+cell": {
          "title": "",
          "showTitle": false,
          "inputWidgets": {},
          "nuid": "02bbaafb-0e10-4135-9ab4-cd2dc1072639"
        },
        "id": "OW1DJg6drSkq"
      },
      "outputs": [],
      "execution_count": null
    },
    {
      "cell_type": "code",
      "source": [
        "# summary only\n",
        "print(treeModel)"
      ],
      "metadata": {
        "application/vnd.databricks.v1+cell": {
          "title": "",
          "showTitle": false,
          "inputWidgets": {},
          "nuid": "94666147-9d45-4aa7-a7ce-5ba705dafcda"
        },
        "id": "3RFJIv0MrSkq",
        "outputId": "e3eda292-6802-42ed-d176-c5ce2f61ab09"
      },
      "outputs": [
        {
          "output_type": "display_data",
          "metadata": {
            "application/vnd.databricks.v1+output": {
              "datasetInfos": [],
              "data": "DecisionTreeRegressionModel: uid=DecisionTreeRegressor_317b8b79f8e2, depth=5, numNodes=51, numFeatures=10\n",
              "removedWidgets": [],
              "addedWidgets": {},
              "metadata": {},
              "type": "ansi",
              "arguments": {}
            }
          },
          "data": {
            "text/plain": [
              "DecisionTreeRegressionModel: uid=DecisionTreeRegressor_317b8b79f8e2, depth=5, numNodes=51, numFeatures=10\n"
            ]
          }
        }
      ],
      "execution_count": null
    },
    {
      "cell_type": "code",
      "source": [],
      "metadata": {
        "application/vnd.databricks.v1+cell": {
          "title": "",
          "showTitle": false,
          "inputWidgets": {},
          "nuid": "6068c109-3cf6-4829-9eef-3d78b211e809"
        },
        "id": "W7K0mzZgrSkq"
      },
      "outputs": [],
      "execution_count": null
    }
  ],
  "metadata": {
    "application/vnd.databricks.v1+notebook": {
      "notebookName": "Regression",
      "dashboards": [],
      "notebookMetadata": {
        "pythonIndentUnit": 4
      },
      "language": "python",
      "widgets": {},
      "notebookOrigID": 2086423632704123
    },
    "colab": {
      "provenance": [],
      "include_colab_link": true
    }
  },
  "nbformat": 4,
  "nbformat_minor": 0
}